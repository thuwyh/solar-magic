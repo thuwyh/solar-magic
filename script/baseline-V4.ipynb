{
 "cells": [
  {
   "cell_type": "raw",
   "metadata": {},
   "source": [
    "引入时序信号处理的思路"
   ]
  },
  {
   "cell_type": "code",
   "execution_count": 1,
   "metadata": {
    "collapsed": true
   },
   "outputs": [],
   "source": [
    "import pandas as pd\n",
    "import matplotlib.pyplot as plt\n",
    "import numpy as np\n",
    "\n",
    "import lightgbm\n",
    "\n",
    "from sklearn.model_selection import KFold\n",
    "from sklearn.metrics import mean_squared_error\n",
    "\n",
    "from scipy.interpolate import UnivariateSpline\n",
    "from tqdm import tqdm_notebook as tqdm\n",
    "\n",
    "%matplotlib inline"
   ]
  },
  {
   "cell_type": "code",
   "execution_count": 2,
   "metadata": {
    "collapsed": true
   },
   "outputs": [],
   "source": [
    "rep_cols = {'ID':'ID', \n",
    " '板温':'board_t', \n",
    " '现场温度':'env_t', \n",
    " '光照强度':'light_strength', \n",
    " '转换效率':'efficiency', \n",
    " '转换效率A':'efficiency_A', \n",
    " '转换效率B':'efficiency_B', \n",
    " '转换效率C':'efficiency_C', \n",
    " '电压A':'V_A',\n",
    " '电压B':'V_B', \n",
    " '电压C':'V_C', \n",
    " '电流A':'I_A', \n",
    " '电流B':'I_B', \n",
    " '电流C':'I_C', \n",
    " '功率A':'P_A', \n",
    " '功率B':'P_B', \n",
    " '功率C':'P_C', \n",
    " '平均功率':'P_avg', \n",
    " '风速':'wind_speed',\n",
    " '风向':'wind_direction', \n",
    " '发电量':'y'\n",
    "}"
   ]
  },
  {
   "cell_type": "code",
   "execution_count": 3,
   "metadata": {
    "collapsed": true
   },
   "outputs": [],
   "source": [
    "def my_val(preds, train_data):\n",
    "    label = train_data.get_label()\n",
    "    return 'score', 1/(1+np.sqrt(mean_squared_error(preds, label))), True"
   ]
  },
  {
   "cell_type": "code",
   "execution_count": 5,
   "metadata": {},
   "outputs": [
    {
     "name": "stdout",
     "output_type": "stream",
     "text": [
      "(8409, 21)\n"
     ]
    }
   ],
   "source": [
    "train = pd.read_csv('../data/public.train.csv')\n",
    "train['is_train']= 1\n",
    "test = pd.read_csv('../data/public.test.csv')\n",
    "test['is_train']=0\n",
    "train_len = train.shape[0]\n",
    "df = pd.concat([train, test])\n",
    "df.reset_index(inplace=True, drop=True)\n",
    "print(test.shape)"
   ]
  },
  {
   "cell_type": "code",
   "execution_count": 6,
   "metadata": {
    "collapsed": true
   },
   "outputs": [],
   "source": [
    "df.rename(index=str, columns=rep_cols, inplace=True)"
   ]
  },
  {
   "cell_type": "code",
   "execution_count": 7,
   "metadata": {},
   "outputs": [
    {
     "name": "stdout",
     "output_type": "stream",
     "text": [
      "46\n"
     ]
    }
   ],
   "source": [
    "special_missing_test_id = df[(df['P_A']<1)&(df['is_train']==0)]['ID']\n",
    "print(len(special_missing_test_id))"
   ]
  },
  {
   "cell_type": "code",
   "execution_count": 8,
   "metadata": {},
   "outputs": [
    {
     "name": "stdout",
     "output_type": "stream",
     "text": [
      "(17409, 22) (8409, 22)\n",
      "(17341, 22) (8409, 22)\n"
     ]
    }
   ],
   "source": [
    "print(df.shape, df[df['is_train']==0].shape)\n",
    "df.drop(df[(df['P_A']<1)&(df['is_train']>0)].index,inplace=True)\n",
    "print(df.shape, df[df['is_train']==0].shape)"
   ]
  },
  {
   "cell_type": "code",
   "execution_count": 9,
   "metadata": {
    "collapsed": true
   },
   "outputs": [],
   "source": [
    "df.sort_values(by='ID',ascending=True, inplace=True)\n",
    "df.reset_index(drop=True,inplace=True)"
   ]
  },
  {
   "cell_type": "code",
   "execution_count": 10,
   "metadata": {
    "collapsed": true
   },
   "outputs": [],
   "source": [
    "raw_feats = [x for x in df.columns.tolist() if x not in['ID','is_train','y']]"
   ]
  },
  {
   "cell_type": "code",
   "execution_count": 11,
   "metadata": {
    "collapsed": true
   },
   "outputs": [],
   "source": [
    "def get_ts_feature(df, f_name, prefix='', v_len = 25):\n",
    "    v = df[f_name].values.tolist()\n",
    "    # prev\n",
    "    temp_list = []\n",
    "    for i in range(df.shape[0]):\n",
    "        temp_list.append(v[i-v_len:i][::-1])\n",
    "    temp_df = pd.DataFrame(temp_list)\n",
    "    temp_df.columns = [prefix+'prev_%d'%x for x in range(v_len)]\n",
    "    temp_df['ID'] = df['ID'].values\n",
    "    \n",
    "    # succ\n",
    "    temp_list = []\n",
    "    for i in range(df.shape[0]):\n",
    "        temp_list.append(v[i+1:i+v_len+1])\n",
    "    temp_df2 = pd.DataFrame(temp_list)\n",
    "    temp_df2.columns = [prefix+'succ_%d'%x for x in range(v_len)]\n",
    "    temp_df2['ID'] = df['ID'].values\n",
    "    \n",
    "    temp_df = temp_df.merge(temp_df2, on='ID', how='left')\n",
    "    return temp_df"
   ]
  },
  {
   "cell_type": "code",
   "execution_count": 12,
   "metadata": {
    "collapsed": true
   },
   "outputs": [],
   "source": [
    "def clean_data_drop(df, clean_cols, correct_dict):\n",
    "    for c in clean_cols:\n",
    "        if c in correct_dict.keys():\n",
    "            df.drop(df[(df[c]>correct_dict[c][1])&(df['is_train']==1)].index,inplace=True)\n",
    "            df.drop(df[(df[c]<correct_dict[c][0])&(df['is_train']==1)].index,inplace=True)\n",
    "    return df"
   ]
  },
  {
   "cell_type": "code",
   "execution_count": 13,
   "metadata": {
    "collapsed": true
   },
   "outputs": [],
   "source": [
    "def clean_data(df, clean_cols, correct_dict):\n",
    "    for c in clean_cols:\n",
    "        upper = df[c].mean()+2*df[c].std()\n",
    "        lower = df[c].mean()-2*df[c].std()\n",
    "        df[c+'_is_out_of_upper'] = (df[c]>upper).astype(np.int32)\n",
    "        df[c+'_is_out_of_lower'] = (df[c]<lower).astype(np.int32)\n",
    "        df.loc[df[c]>upper,c] = np.nan\n",
    "        df.loc[df[c]<lower,c] = np.nan\n",
    "        if c in correct_dict.keys():\n",
    "            df[c+'_is_out_of_upper'] = (df[c]>correct_dict[c][1]).astype(np.int32)+df[c+'_is_out_of_upper'] \n",
    "            df[c+'_is_out_of_lower'] = (df[c]<correct_dict[c][0]).astype(np.int32)+df[c+'_is_out_of_lower'] \n",
    "            df.loc[df[c]>correct_dict[c][1],c]=np.nan\n",
    "            df.loc[df[c]<correct_dict[c][0],c]=np.nan\n",
    "    return df"
   ]
  },
  {
   "cell_type": "code",
   "execution_count": 14,
   "metadata": {},
   "outputs": [],
   "source": [
    "#异常值处理\n",
    "correct_dict = {\n",
    "    'V_A':(480,60000),\n",
    "    'V_B':(500,60000),\n",
    "    'V_C':(500, 60000),\n",
    "    'env_t':(-30,30),\n",
    "    'I_B':(0, 600),\n",
    "    'I_C':(0, 30),\n",
    "    'P_A':(0,10000),\n",
    "    'P_B':(0,10000),\n",
    "    'P_C':(0,10000),\n",
    "    'P_avg':(0,10000),\n",
    "    'efficiency_A':(0,100),\n",
    "    'efficiency_B':(0,100),\n",
    "    'efficiency_C':(0,100),\n",
    "    'wind_direction':(0,500)\n",
    "}\n",
    "cols = [c for c in df.columns.tolist() if c not in ['is_train','ID','y']]\n",
    "df = clean_data_drop(df, cols, correct_dict)\n",
    "df = clean_data(df, cols, correct_dict)"
   ]
  },
  {
   "cell_type": "code",
   "execution_count": 15,
   "metadata": {
    "collapsed": true
   },
   "outputs": [],
   "source": [
    "def replace_nan_value(df, cols, replace=True):\n",
    "    df_len = df.shape[0]\n",
    "    for c in tqdm(cols):\n",
    "        i_y =df.columns.get_loc(c)\n",
    "        next_id = []\n",
    "        next_one = []\n",
    "        prev_id = []\n",
    "        prev_one = []\n",
    "        for i in range(df_len):\n",
    "            prev = i-1\n",
    "            while(prev>=0 and df.iat[prev,i_y]<0):\n",
    "                prev-=1\n",
    "            if prev>=0:\n",
    "                prev_one.append(df.iat[prev,i_y])\n",
    "                prev_id.append(prev)\n",
    "            else:\n",
    "                prev_one.append(np.nan)\n",
    "                prev_id.append(0)\n",
    "\n",
    "            next = i+1\n",
    "            while(next<df_len and df.iat[next,i_y]<0):\n",
    "                next+=1\n",
    "            if next<df_len:\n",
    "                next_one.append(df.iat[next,i_y])\n",
    "                next_id.append(next)\n",
    "            else:\n",
    "                next_one.append(np.nan)\n",
    "                next_id.append(df_len)\n",
    "\n",
    "        temp = pd.DataFrame()\n",
    "        temp['next_value'] = next_one\n",
    "        temp['prev_value'] = prev_one\n",
    "        temp['avg_value'] = np.nanmean([temp['next_value'], temp['prev_value']],axis=0)\n",
    "        temp['next_ID'] = next_id\n",
    "        temp['prev_ID'] = prev_id\n",
    "        temp['ID'] = df['ID'].values\n",
    "        temp['interpolation_value'] = temp['prev_value']+(temp['ID']-temp['prev_ID'])/(temp['next_ID']-temp['prev_ID'])*(temp['next_value']-temp['prev_value'])\n",
    "        if replace==True:\n",
    "            df.loc[df[df[c].isnull()].index,c]=temp.loc[df[df[c].isnull()].index,'interpolation_value']\n",
    "        else:\n",
    "            df[c+'_interpolation_value'] = temp['interpolation_value'].values\n",
    "    return df"
   ]
  },
  {
   "cell_type": "code",
   "execution_count": 16,
   "metadata": {},
   "outputs": [
    {
     "data": {
      "application/vnd.jupyter.widget-view+json": {
       "model_id": "a9101c03039b44fea3e81b75a0e7968c"
      }
     },
     "metadata": {},
     "output_type": "display_data"
    },
    {
     "name": "stderr",
     "output_type": "stream",
     "text": [
      "/Users/wyh/anaconda/lib/python3.6/site-packages/ipykernel_launcher.py:33: RuntimeWarning: Mean of empty slice\n"
     ]
    },
    {
     "name": "stdout",
     "output_type": "stream",
     "text": [
      "\n"
     ]
    }
   ],
   "source": [
    "df = replace_nan_value(df, cols)"
   ]
  },
  {
   "cell_type": "code",
   "execution_count": 17,
   "metadata": {
    "collapsed": true
   },
   "outputs": [],
   "source": [
    "def get_fake_feature(df, f_name):\n",
    "    a = df['y']\n",
    "    w=np.isnan(a)\n",
    "    a[w]=0\n",
    "    bt=df['ID']\n",
    "    f=UnivariateSpline(bt,a,w=~w,k=4)\n",
    "    x = df[['ID']]\n",
    "    x['fake_'+f_name] = f(bt)\n",
    "    return x"
   ]
  },
  {
   "cell_type": "code",
   "execution_count": 18,
   "metadata": {},
   "outputs": [],
   "source": [
    "# x = get_fake_feature(df, 'light_strength')\n",
    "# df = df.merge(x, on='ID', how='left')\n",
    "\n",
    "# x = get_fake_feature(df, 'env_t')\n",
    "# df = df.merge(x, on='ID', how='left')\n",
    "\n",
    "# x = get_fake_feature(df, 'y')\n",
    "# df = df.merge(x, on='ID', how='left')\n",
    "\n",
    "# x = get_fake_feature(df, 'board_t')\n",
    "# df = df.merge(x, on='ID', how='left')"
   ]
  },
  {
   "cell_type": "code",
   "execution_count": 19,
   "metadata": {},
   "outputs": [
    {
     "data": {
      "text/plain": [
       "(17032, 60)"
      ]
     },
     "execution_count": 19,
     "metadata": {},
     "output_type": "execute_result"
    }
   ],
   "source": [
    "df.shape"
   ]
  },
  {
   "cell_type": "code",
   "execution_count": 20,
   "metadata": {
    "collapsed": true
   },
   "outputs": [],
   "source": [
    "for i in range(len(raw_feats)):\n",
    "    for j in range(i,len(raw_feats)):\n",
    "        df[raw_feats[i]+'_X_'+raw_feats[j]] = df[raw_feats[i]]*df[raw_feats[j]]"
   ]
  },
  {
   "cell_type": "code",
   "execution_count": 21,
   "metadata": {},
   "outputs": [
    {
     "data": {
      "text/plain": [
       "(17032, 250)"
      ]
     },
     "execution_count": 21,
     "metadata": {},
     "output_type": "execute_result"
    }
   ],
   "source": [
    "df.shape"
   ]
  },
  {
   "cell_type": "code",
   "execution_count": 22,
   "metadata": {},
   "outputs": [
    {
     "data": {
      "text/html": [
       "<div>\n",
       "<style>\n",
       "    .dataframe thead tr:only-child th {\n",
       "        text-align: right;\n",
       "    }\n",
       "\n",
       "    .dataframe thead th {\n",
       "        text-align: left;\n",
       "    }\n",
       "\n",
       "    .dataframe tbody tr th {\n",
       "        vertical-align: top;\n",
       "    }\n",
       "</style>\n",
       "<table border=\"1\" class=\"dataframe\">\n",
       "  <thead>\n",
       "    <tr style=\"text-align: right;\">\n",
       "      <th></th>\n",
       "      <th>ID</th>\n",
       "      <th>is_train</th>\n",
       "      <th>light_strength</th>\n",
       "      <th>P_A</th>\n",
       "      <th>P_B</th>\n",
       "      <th>P_C</th>\n",
       "      <th>y</th>\n",
       "      <th>P_avg</th>\n",
       "      <th>board_t</th>\n",
       "      <th>env_t</th>\n",
       "      <th>...</th>\n",
       "      <th>efficiency_B_X_efficiency_B</th>\n",
       "      <th>efficiency_B_X_efficiency_C</th>\n",
       "      <th>efficiency_B_X_wind_direction</th>\n",
       "      <th>efficiency_B_X_wind_speed</th>\n",
       "      <th>efficiency_C_X_efficiency_C</th>\n",
       "      <th>efficiency_C_X_wind_direction</th>\n",
       "      <th>efficiency_C_X_wind_speed</th>\n",
       "      <th>wind_direction_X_wind_direction</th>\n",
       "      <th>wind_direction_X_wind_speed</th>\n",
       "      <th>wind_speed_X_wind_speed</th>\n",
       "    </tr>\n",
       "  </thead>\n",
       "  <tbody>\n",
       "    <tr>\n",
       "      <th>0</th>\n",
       "      <td>1</td>\n",
       "      <td>0</td>\n",
       "      <td>1.0</td>\n",
       "      <td>0.00</td>\n",
       "      <td>0.00</td>\n",
       "      <td>0.00</td>\n",
       "      <td>NaN</td>\n",
       "      <td>0.00</td>\n",
       "      <td>0.01</td>\n",
       "      <td>0.1</td>\n",
       "      <td>...</td>\n",
       "      <td>0.0000</td>\n",
       "      <td>0.0000</td>\n",
       "      <td>NaN</td>\n",
       "      <td>0.000</td>\n",
       "      <td>0.000000</td>\n",
       "      <td>NaN</td>\n",
       "      <td>0.0000</td>\n",
       "      <td>NaN</td>\n",
       "      <td>NaN</td>\n",
       "      <td>0.01</td>\n",
       "    </tr>\n",
       "    <tr>\n",
       "      <th>1</th>\n",
       "      <td>9</td>\n",
       "      <td>0</td>\n",
       "      <td>13.0</td>\n",
       "      <td>909.72</td>\n",
       "      <td>148.05</td>\n",
       "      <td>1031.03</td>\n",
       "      <td>NaN</td>\n",
       "      <td>696.27</td>\n",
       "      <td>NaN</td>\n",
       "      <td>-17.5</td>\n",
       "      <td>...</td>\n",
       "      <td>1778.3089</td>\n",
       "      <td>NaN</td>\n",
       "      <td>11512.41</td>\n",
       "      <td>12.651</td>\n",
       "      <td>NaN</td>\n",
       "      <td>NaN</td>\n",
       "      <td>NaN</td>\n",
       "      <td>74529.0</td>\n",
       "      <td>81.9</td>\n",
       "      <td>0.09</td>\n",
       "    </tr>\n",
       "    <tr>\n",
       "      <th>5</th>\n",
       "      <td>13</td>\n",
       "      <td>0</td>\n",
       "      <td>50.0</td>\n",
       "      <td>1334.07</td>\n",
       "      <td>200.20</td>\n",
       "      <td>1472.58</td>\n",
       "      <td>NaN</td>\n",
       "      <td>1002.28</td>\n",
       "      <td>NaN</td>\n",
       "      <td>-16.6</td>\n",
       "      <td>...</td>\n",
       "      <td>216.0900</td>\n",
       "      <td>812.8365</td>\n",
       "      <td>4071.90</td>\n",
       "      <td>13.230</td>\n",
       "      <td>3057.537025</td>\n",
       "      <td>15316.715</td>\n",
       "      <td>49.7655</td>\n",
       "      <td>76729.0</td>\n",
       "      <td>249.3</td>\n",
       "      <td>0.81</td>\n",
       "    </tr>\n",
       "    <tr>\n",
       "      <th>7</th>\n",
       "      <td>15</td>\n",
       "      <td>1</td>\n",
       "      <td>65.0</td>\n",
       "      <td>1548.51</td>\n",
       "      <td>233.28</td>\n",
       "      <td>1674.40</td>\n",
       "      <td>2.532091</td>\n",
       "      <td>1152.06</td>\n",
       "      <td>-14.60</td>\n",
       "      <td>-16.3</td>\n",
       "      <td>...</td>\n",
       "      <td>171.3481</td>\n",
       "      <td>1229.4128</td>\n",
       "      <td>3665.20</td>\n",
       "      <td>14.399</td>\n",
       "      <td>8820.966400</td>\n",
       "      <td>26297.600</td>\n",
       "      <td>103.3120</td>\n",
       "      <td>78400.0</td>\n",
       "      <td>308.0</td>\n",
       "      <td>1.21</td>\n",
       "    </tr>\n",
       "    <tr>\n",
       "      <th>8</th>\n",
       "      <td>16</td>\n",
       "      <td>1</td>\n",
       "      <td>76.0</td>\n",
       "      <td>1619.93</td>\n",
       "      <td>538.72</td>\n",
       "      <td>1723.12</td>\n",
       "      <td>2.779719</td>\n",
       "      <td>1293.92</td>\n",
       "      <td>-14.10</td>\n",
       "      <td>-16.2</td>\n",
       "      <td>...</td>\n",
       "      <td>665.6400</td>\n",
       "      <td>2129.2740</td>\n",
       "      <td>7172.40</td>\n",
       "      <td>23.220</td>\n",
       "      <td>6811.200900</td>\n",
       "      <td>22943.340</td>\n",
       "      <td>74.2770</td>\n",
       "      <td>77284.0</td>\n",
       "      <td>250.2</td>\n",
       "      <td>0.81</td>\n",
       "    </tr>\n",
       "  </tbody>\n",
       "</table>\n",
       "<p>5 rows × 250 columns</p>\n",
       "</div>"
      ],
      "text/plain": [
       "   ID  is_train  light_strength      P_A     P_B      P_C         y    P_avg  \\\n",
       "0   1         0             1.0     0.00    0.00     0.00       NaN     0.00   \n",
       "1   9         0            13.0   909.72  148.05  1031.03       NaN   696.27   \n",
       "5  13         0            50.0  1334.07  200.20  1472.58       NaN  1002.28   \n",
       "7  15         1            65.0  1548.51  233.28  1674.40  2.532091  1152.06   \n",
       "8  16         1            76.0  1619.93  538.72  1723.12  2.779719  1293.92   \n",
       "\n",
       "   board_t  env_t           ...             efficiency_B_X_efficiency_B  \\\n",
       "0     0.01    0.1           ...                                  0.0000   \n",
       "1      NaN  -17.5           ...                               1778.3089   \n",
       "5      NaN  -16.6           ...                                216.0900   \n",
       "7   -14.60  -16.3           ...                                171.3481   \n",
       "8   -14.10  -16.2           ...                                665.6400   \n",
       "\n",
       "   efficiency_B_X_efficiency_C  efficiency_B_X_wind_direction  \\\n",
       "0                       0.0000                            NaN   \n",
       "1                          NaN                       11512.41   \n",
       "5                     812.8365                        4071.90   \n",
       "7                    1229.4128                        3665.20   \n",
       "8                    2129.2740                        7172.40   \n",
       "\n",
       "   efficiency_B_X_wind_speed  efficiency_C_X_efficiency_C  \\\n",
       "0                      0.000                     0.000000   \n",
       "1                     12.651                          NaN   \n",
       "5                     13.230                  3057.537025   \n",
       "7                     14.399                  8820.966400   \n",
       "8                     23.220                  6811.200900   \n",
       "\n",
       "   efficiency_C_X_wind_direction  efficiency_C_X_wind_speed  \\\n",
       "0                            NaN                     0.0000   \n",
       "1                            NaN                        NaN   \n",
       "5                      15316.715                    49.7655   \n",
       "7                      26297.600                   103.3120   \n",
       "8                      22943.340                    74.2770   \n",
       "\n",
       "   wind_direction_X_wind_direction  wind_direction_X_wind_speed  \\\n",
       "0                              NaN                          NaN   \n",
       "1                          74529.0                         81.9   \n",
       "5                          76729.0                        249.3   \n",
       "7                          78400.0                        308.0   \n",
       "8                          77284.0                        250.2   \n",
       "\n",
       "   wind_speed_X_wind_speed  \n",
       "0                     0.01  \n",
       "1                     0.09  \n",
       "5                     0.81  \n",
       "7                     1.21  \n",
       "8                     0.81  \n",
       "\n",
       "[5 rows x 250 columns]"
      ]
     },
     "execution_count": 22,
     "metadata": {},
     "output_type": "execute_result"
    }
   ],
   "source": [
    "df.head()"
   ]
  },
  {
   "cell_type": "code",
   "execution_count": 30,
   "metadata": {
    "collapsed": true
   },
   "outputs": [],
   "source": [
    "x = get_ts_feature(df, 'light_strength', 'ls')\n",
    "df = df.merge(x, on='ID', how='left')\n",
    "\n",
    "x = get_ts_feature(df, 'env_t', 'env_t')\n",
    "df = df.merge(x, on='ID', how='left')\n",
    "\n",
    "x = get_ts_feature(df, 'env_t', 'board_t')\n",
    "df = df.merge(x, on='ID', how='left')\n",
    "\n",
    "x = get_ts_feature(df, 'fake_y', 'fake_y')\n",
    "df = df.merge(x, on='ID', how='left')"
   ]
  },
  {
   "cell_type": "code",
   "execution_count": 21,
   "metadata": {
    "collapsed": true
   },
   "outputs": [],
   "source": [
    "# target = ['P_A','P_avg','I_A','P_C','I_C','P_B','I_B']\n",
    "# target_plus = [c+'_is_out_of_upper' for c in target]+[c+'_is_out_of_lower' for c in target]+target\n",
    "# for c in target:\n",
    "#     df['log_'+c] = np.log1p(df[c])"
   ]
  },
  {
   "cell_type": "code",
   "execution_count": 23,
   "metadata": {
    "collapsed": true
   },
   "outputs": [],
   "source": [
    "train = df[df['is_train']==1]\n",
    "test = df[df['is_train']==0]"
   ]
  },
  {
   "cell_type": "code",
   "execution_count": 49,
   "metadata": {
    "collapsed": true
   },
   "outputs": [],
   "source": [
    "from sklearn.feature_selection import SelectFromModel\n",
    "from sklearn.ensemble import GradientBoostingRegressor\n",
    "from sklearn.model_selection import train_test_split\n",
    "from lightgbm import LGBMRegressor\n",
    "\n",
    "X_train, X_test, y_train, y_test = train_test_split(train[predictor], train['y'], test_size=0.2, random_state=123)\n",
    "sm = SelectFromModel(LGBMRegressor(random_state=2))\n",
    "# X_train = sm.fit_transform(X_train, y_train)\n",
    "# X_test = sm.transform(X_test)\n",
    "# sub_data = sm.transform(sub_data)"
   ]
  },
  {
   "cell_type": "code",
   "execution_count": 24,
   "metadata": {},
   "outputs": [],
   "source": [
    "# train = sm.fit_transform(X_train, y_train)"
   ]
  },
  {
   "cell_type": "code",
   "execution_count": 25,
   "metadata": {},
   "outputs": [
    {
     "data": {
      "text/plain": [
       "(8409, 250)"
      ]
     },
     "execution_count": 25,
     "metadata": {},
     "output_type": "execute_result"
    }
   ],
   "source": [
    "test.shape"
   ]
  },
  {
   "cell_type": "code",
   "execution_count": 26,
   "metadata": {
    "collapsed": true
   },
   "outputs": [],
   "source": [
    "params = {\n",
    "    'boosting_type': 'gbdt',\n",
    "    'objective': 'regression_l2',\n",
    "    'metric': 'mse',\n",
    "    'num_leaves': 32,\n",
    "    'learning_rate': 0.08,\n",
    "    'feature_fraction': 0.7,\n",
    "    'bagging_fraction': 0.9,\n",
    "    'bagging_freq': 1,\n",
    "    'verbose': 0,\n",
    "    'lambda_l1':1,\n",
    "    'lambda_l2':0.1\n",
    "}"
   ]
  },
  {
   "cell_type": "code",
   "execution_count": 27,
   "metadata": {
    "collapsed": true
   },
   "outputs": [],
   "source": [
    "predictor = [c for c in train.columns.tolist() if c not in['ID','y','is_train']]"
   ]
  },
  {
   "cell_type": "code",
   "execution_count": 28,
   "metadata": {},
   "outputs": [
    {
     "data": {
      "text/plain": [
       "247"
      ]
     },
     "execution_count": 28,
     "metadata": {},
     "output_type": "execute_result"
    }
   ],
   "source": [
    "len(predictor)"
   ]
  },
  {
   "cell_type": "code",
   "execution_count": 29,
   "metadata": {},
   "outputs": [
    {
     "name": "stdout",
     "output_type": "stream",
     "text": [
      "-------------------------------------\n",
      "fold: 0\n",
      "Training until validation scores don't improve for 100 rounds.\n",
      "Early stopping, best iteration is:\n",
      "[391]\tvalid's l2: 0.0568589\tvalid's score: 0.80746\n",
      "Training until validation scores don't improve for 100 rounds.\n",
      "Early stopping, best iteration is:\n",
      "[229]\tvalid's l2: 0.0118884\tvalid's score: 0.901686\n",
      "Training until validation scores don't improve for 100 rounds.\n",
      "Early stopping, best iteration is:\n",
      "[368]\tvalid's l2: 0.026931\tvalid's score: 0.859028\n",
      "Training until validation scores don't improve for 100 rounds.\n",
      "Early stopping, best iteration is:\n",
      "[201]\tvalid's l2: 0.010009\tvalid's score: 0.909054\n",
      "Training until validation scores don't improve for 100 rounds.\n",
      "Early stopping, best iteration is:\n",
      "[385]\tvalid's l2: 0.0168276\tvalid's score: 0.885174\n",
      "-------------------------------------\n",
      "fold: 1\n",
      "Training until validation scores don't improve for 100 rounds.\n",
      "Early stopping, best iteration is:\n",
      "[192]\tvalid's l2: 0.0175326\tvalid's score: 0.883072\n",
      "Training until validation scores don't improve for 100 rounds.\n",
      "Early stopping, best iteration is:\n",
      "[108]\tvalid's l2: 0.0179537\tvalid's score: 0.881841\n",
      "Training until validation scores don't improve for 100 rounds.\n",
      "[500]\tvalid's l2: 0.0539788\tvalid's score: 0.811469\n",
      "Early stopping, best iteration is:\n",
      "[699]\tvalid's l2: 0.0539235\tvalid's score: 0.811547\n",
      "Training until validation scores don't improve for 100 rounds.\n",
      "Early stopping, best iteration is:\n",
      "[245]\tvalid's l2: 0.00989153\tvalid's score: 0.909541\n",
      "Training until validation scores don't improve for 100 rounds.\n",
      "Early stopping, best iteration is:\n",
      "[265]\tvalid's l2: 0.0259507\tvalid's score: 0.861258\n",
      "-------------------------------------\n",
      "fold: 2\n",
      "Training until validation scores don't improve for 100 rounds.\n",
      "Early stopping, best iteration is:\n",
      "[167]\tvalid's l2: 0.0210667\tvalid's score: 0.873253\n",
      "Training until validation scores don't improve for 100 rounds.\n",
      "Early stopping, best iteration is:\n",
      "[147]\tvalid's l2: 0.0257227\tvalid's score: 0.861784\n",
      "Training until validation scores don't improve for 100 rounds.\n",
      "Early stopping, best iteration is:\n",
      "[155]\tvalid's l2: 0.0101589\tvalid's score: 0.908437\n",
      "Training until validation scores don't improve for 100 rounds.\n",
      "[500]\tvalid's l2: 0.0519258\tvalid's score: 0.814417\n",
      "Early stopping, best iteration is:\n",
      "[670]\tvalid's l2: 0.0518666\tvalid's score: 0.814503\n",
      "Training until validation scores don't improve for 100 rounds.\n",
      "Early stopping, best iteration is:\n",
      "[240]\tvalid's l2: 0.0147735\tvalid's score: 0.891626\n",
      "-------------------------------------\n",
      "fold: 3\n",
      "Training until validation scores don't improve for 100 rounds.\n",
      "Early stopping, best iteration is:\n",
      "[322]\tvalid's l2: 0.00895396\tvalid's score: 0.913555\n",
      "Training until validation scores don't improve for 100 rounds.\n",
      "Early stopping, best iteration is:\n",
      "[206]\tvalid's l2: 0.0290812\tvalid's score: 0.854312\n",
      "Training until validation scores don't improve for 100 rounds.\n",
      "[500]\tvalid's l2: 0.0572123\tvalid's score: 0.806978\n",
      "Early stopping, best iteration is:\n",
      "[492]\tvalid's l2: 0.0572057\tvalid's score: 0.806987\n",
      "Training until validation scores don't improve for 100 rounds.\n",
      "Early stopping, best iteration is:\n",
      "[228]\tvalid's l2: 0.0126334\tvalid's score: 0.898959\n",
      "Training until validation scores don't improve for 100 rounds.\n",
      "Early stopping, best iteration is:\n",
      "[113]\tvalid's l2: 0.0168664\tvalid's score: 0.885057\n",
      "-------------------------------------\n",
      "fold: 4\n",
      "Training until validation scores don't improve for 100 rounds.\n",
      "Early stopping, best iteration is:\n",
      "[142]\tvalid's l2: 0.0179208\tvalid's score: 0.881937\n",
      "Training until validation scores don't improve for 100 rounds.\n",
      "[500]\tvalid's l2: 0.052333\tvalid's score: 0.813826\n",
      "Early stopping, best iteration is:\n",
      "[554]\tvalid's l2: 0.0523043\tvalid's score: 0.813867\n",
      "Training until validation scores don't improve for 100 rounds.\n",
      "Early stopping, best iteration is:\n",
      "[347]\tvalid's l2: 0.0327701\tvalid's score: 0.846722\n",
      "Training until validation scores don't improve for 100 rounds.\n",
      "Early stopping, best iteration is:\n",
      "[346]\tvalid's l2: 0.0122638\tvalid's score: 0.900299\n",
      "Training until validation scores don't improve for 100 rounds.\n",
      "Early stopping, best iteration is:\n",
      "[192]\tvalid's l2: 0.0107206\tvalid's score: 0.906174\n"
     ]
    }
   ],
   "source": [
    "test_predicts = []\n",
    "val_preds = []\n",
    "\n",
    "# log_test_predicts = []\n",
    "# log_val_predicts = []\n",
    "for idx, seed in enumerate([1,2,3,4,5]):\n",
    "    kf = KFold(5, shuffle=True, random_state=seed)\n",
    "    print('-------------------------------------')\n",
    "    print('fold:',idx)\n",
    "    val_preds.append(np.zeros(train.shape[0]))\n",
    "    for n_fold, (tra_idx, val_idx) in enumerate(kf.split(train)):\n",
    "        tra = train.iloc[tra_idx]\n",
    "        val = train.iloc[val_idx]\n",
    "\n",
    "        train_set = lightgbm.Dataset(\n",
    "            tra[predictor],\n",
    "            tra['y']\n",
    "        )\n",
    "\n",
    "        validation_set = lightgbm.Dataset(\n",
    "            val[predictor],\n",
    "            val['y']\n",
    "        )\n",
    "\n",
    "        model = lightgbm.train(params, train_set, num_boost_round=5000,\n",
    "                              valid_sets= [validation_set],\n",
    "                              valid_names=['valid'],\n",
    "                              early_stopping_rounds=100,\n",
    "                               feval=my_val,\n",
    "                              verbose_eval=500)\n",
    "\n",
    "        val_preds[idx][val_idx] = model.predict(val[predictor])\n",
    "        test_predicts.append(model.predict(test[predictor]))\n",
    "        \n",
    "#         train_set = lightgbm.Dataset(\n",
    "#             tra[predictor],\n",
    "#             np.log1p(tra['y'])\n",
    "#         )\n",
    "\n",
    "#         validation_set = lightgbm.Dataset(\n",
    "#             val[predictor],\n",
    "#             np.log1p(val['y'])\n",
    "#         )\n",
    "\n",
    "#         model = lightgbm.train(params, train_set, num_boost_round=5000,\n",
    "#                               valid_sets= [validation_set],\n",
    "#                               valid_names=['valid'],\n",
    "#                               early_stopping_rounds=100,\n",
    "#                                feval=my_val,\n",
    "#                               verbose_eval=500)\n",
    "\n",
    "#         val_preds[idx][val_idx] = np.expm1(model.predict(val[predictor]))\n",
    "#         test_predicts.append(np.expm1(model.predict(test[predictor])))"
   ]
  },
  {
   "cell_type": "code",
   "execution_count": 30,
   "metadata": {},
   "outputs": [
    {
     "name": "stdout",
     "output_type": "stream",
     "text": [
      "local cv: 0.866493712002\n"
     ]
    }
   ],
   "source": [
    "print('local cv:',1/(1+np.sqrt(mean_squared_error(train['y'],np.mean(val_preds,axis=0)))))"
   ]
  },
  {
   "cell_type": "code",
   "execution_count": 31,
   "metadata": {},
   "outputs": [
    {
     "data": {
      "text/plain": [
       "P_A_X_P_avg    250730.037094\n",
       "P_avg_X_I_A     74150.997601\n",
       "P_avg           65063.734584\n",
       "P_A_X_P_C       52420.363321\n",
       "P_avg_X_I_C      6997.200276\n",
       "P_A              1927.504237\n",
       "P_A_X_I_B        1909.424036\n",
       "P_A_X_I_C        1908.679529\n",
       "P_A_X_P_B        1754.873040\n",
       "I_A              1230.517274\n",
       "I_A_X_I_B        1142.366035\n",
       "P_C_X_I_B        1140.050039\n",
       "P_A_X_I_A         999.436039\n",
       "P_avg_X_I_B       629.951483\n",
       "V_B_X_I_A         450.207919\n",
       "P_C_X_I_A         426.883810\n",
       "P_B_X_I_C         308.019844\n",
       "I_A_X_I_A         289.234758\n",
       "I_B_X_I_C         280.244920\n",
       "P_B_X_I_A         268.456967\n",
       "dtype: float64"
      ]
     },
     "execution_count": 31,
     "metadata": {},
     "output_type": "execute_result"
    }
   ],
   "source": [
    "feat_imp = pd.Series(model.feature_importance(importance_type='gain'),\n",
    "          index=model.feature_name())\n",
    "feat_imp.sort_values(ascending=False,inplace=True)\n",
    "feat_imp.head(20)"
   ]
  },
  {
   "cell_type": "code",
   "execution_count": 32,
   "metadata": {},
   "outputs": [
    {
     "data": {
      "text/plain": [
       "(81,)"
      ]
     },
     "execution_count": 32,
     "metadata": {},
     "output_type": "execute_result"
    }
   ],
   "source": [
    "feat_imp[feat_imp<1].shape"
   ]
  },
  {
   "cell_type": "code",
   "execution_count": 33,
   "metadata": {},
   "outputs": [
    {
     "name": "stderr",
     "output_type": "stream",
     "text": [
      "/Users/wyh/anaconda/lib/python3.6/site-packages/ipykernel_launcher.py:1: SettingWithCopyWarning: \n",
      "A value is trying to be set on a copy of a slice from a DataFrame.\n",
      "Try using .loc[row_indexer,col_indexer] = value instead\n",
      "\n",
      "See the caveats in the documentation: http://pandas.pydata.org/pandas-docs/stable/indexing.html#indexing-view-versus-copy\n",
      "  \"\"\"Entry point for launching an IPython kernel.\n"
     ]
    }
   ],
   "source": [
    "test['ans'] = np.mean(test_predicts, axis=0)"
   ]
  },
  {
   "cell_type": "code",
   "execution_count": 34,
   "metadata": {},
   "outputs": [
    {
     "name": "stderr",
     "output_type": "stream",
     "text": [
      "/Users/wyh/anaconda/lib/python3.6/site-packages/pandas/core/indexing.py:517: SettingWithCopyWarning: \n",
      "A value is trying to be set on a copy of a slice from a DataFrame.\n",
      "Try using .loc[row_indexer,col_indexer] = value instead\n",
      "\n",
      "See the caveats in the documentation: http://pandas.pydata.org/pandas-docs/stable/indexing.html#indexing-view-versus-copy\n",
      "  self.obj[item] = s\n"
     ]
    }
   ],
   "source": [
    "test.loc[test[test['ID'].isin(special_missing_test_id.values.tolist())].index,'ans']=0.379993053"
   ]
  },
  {
   "cell_type": "code",
   "execution_count": 36,
   "metadata": {
    "collapsed": true
   },
   "outputs": [],
   "source": [
    "test[['ID','ans']].to_csv('../result/0810-8664-goodluck.csv',header=False, index=False)"
   ]
  },
  {
   "cell_type": "code",
   "execution_count": 37,
   "metadata": {},
   "outputs": [
    {
     "data": {
      "text/plain": [
       "<matplotlib.axes._subplots.AxesSubplot at 0x10dcec048>"
      ]
     },
     "execution_count": 37,
     "metadata": {},
     "output_type": "execute_result"
    },
    {
     "data": {
      "image/png": "[encoded data removed]",
      "text/plain": [
       "<matplotlib.figure.Figure at 0x10dcecd68>"
      ]
     },
     "metadata": {},
     "output_type": "display_data"
    }
   ],
   "source": [
    "test['ans'].hist()"
   ]
  },
  {
   "cell_type": "code",
   "execution_count": 38,
   "metadata": {},
   "outputs": [
    {
     "data": {
      "text/plain": [
       "count    8409.000000\n",
       "mean        5.700563\n",
       "std         3.456362\n",
       "min         0.009845\n",
       "25%         2.523996\n",
       "50%         5.723482\n",
       "75%         8.894716\n",
       "max        12.075712\n",
       "Name: ans, dtype: float64"
      ]
     },
     "execution_count": 38,
     "metadata": {},
     "output_type": "execute_result"
    }
   ],
   "source": [
    "test['ans'].describe()"
   ]
  },
  {
   "cell_type": "code",
   "execution_count": 39,
   "metadata": {},
   "outputs": [
    {
     "data": {
      "text/plain": [
       "<matplotlib.axes._subplots.AxesSubplot at 0x10dcb9198>"
      ]
     },
     "execution_count": 39,
     "metadata": {},
     "output_type": "execute_result"
    },
    {
     "data": {
      "image/png": "[encoded data removed]",
      "text/plain": [
       "<matplotlib.figure.Figure at 0x10e2c7ac8>"
      ]
     },
     "metadata": {},
     "output_type": "display_data"
    }
   ],
   "source": [
    "train['y'].hist()"
   ]
  },
  {
   "cell_type": "code",
   "execution_count": 40,
   "metadata": {},
   "outputs": [
    {
     "data": {
      "text/plain": [
       "count    8623.000000\n",
       "mean        5.874755\n",
       "std         3.409577\n",
       "min        -0.111311\n",
       "25%         2.797747\n",
       "50%         5.993159\n",
       "75%         9.018946\n",
       "max        12.288756\n",
       "Name: y, dtype: float64"
      ]
     },
     "execution_count": 40,
     "metadata": {},
     "output_type": "execute_result"
    }
   ],
   "source": [
    "train['y'].describe()"
   ]
  },
  {
   "cell_type": "code",
   "execution_count": null,
   "metadata": {
    "collapsed": true
   },
   "outputs": [],
   "source": []
  }
 ],
 "metadata": {
  "kernelspec": {
   "display_name": "Python 3",
   "language": "python",
   "name": "python3"
  },
  "language_info": {
   "codemirror_mode": {
    "name": "ipython",
    "version": 3
   },
   "file_extension": ".py",
   "mimetype": "text/x-python",
   "name": "python",
   "nbconvert_exporter": "python",
   "pygments_lexer": "ipython3",
   "version": "3.6.1"
  }
 },
 "nbformat": 4,
 "nbformat_minor": 2
}
