{
 "cells": [
  {
   "cell_type": "raw",
   "metadata": {},
   "source": [
    "引入时序信号处理的思路"
   ]
  },
  {
   "cell_type": "code",
   "execution_count": 1,
   "metadata": {
    "collapsed": true
   },
   "outputs": [],
   "source": [
    "import pandas as pd\n",
    "import matplotlib.pyplot as plt\n",
    "import numpy as np\n",
    "\n",
    "import lightgbm\n",
    "\n",
    "from sklearn.model_selection import KFold\n",
    "from sklearn.metrics import mean_squared_error\n",
    "\n",
    "from scipy.interpolate import UnivariateSpline\n",
    "\n",
    "%matplotlib inline"
   ]
  },
  {
   "cell_type": "code",
   "execution_count": 2,
   "metadata": {
    "collapsed": true
   },
   "outputs": [],
   "source": [
    "rep_cols = {'ID':'ID', \n",
    " '板温':'board_t', \n",
    " '现场温度':'env_t', \n",
    " '光照强度':'light_strength', \n",
    " '转换效率':'efficiency', \n",
    " '转换效率A':'efficiency_A', \n",
    " '转换效率B':'efficiency_B', \n",
    " '转换效率C':'efficiency_C', \n",
    " '电压A':'V_A',\n",
    " '电压B':'V_B', \n",
    " '电压C':'V_C', \n",
    " '电流A':'I_A', \n",
    " '电流B':'I_B', \n",
    " '电流C':'I_C', \n",
    " '功率A':'P_A', \n",
    " '功率B':'P_B', \n",
    " '功率C':'P_C', \n",
    " '平均功率':'P_avg', \n",
    " '风速':'wind_speed',\n",
    " '风向':'wind_direction', \n",
    " '发电量':'y'\n",
    "}"
   ]
  },
  {
   "cell_type": "code",
   "execution_count": 3,
   "metadata": {
    "collapsed": true
   },
   "outputs": [],
   "source": [
    "def my_val(preds, train_data):\n",
    "    label = train_data.get_label()\n",
    "    return 'score', 1/(1+np.sqrt(mean_squared_error(preds, label))), True"
   ]
  },
  {
   "cell_type": "code",
   "execution_count": 4,
   "metadata": {
    "collapsed": true
   },
   "outputs": [],
   "source": [
    "def my_obj(preds, train_data):\n",
    "    labels = train_deata.get_label()\n",
    "    "
   ]
  },
  {
   "cell_type": "code",
   "execution_count": 5,
   "metadata": {
    "collapsed": true
   },
   "outputs": [],
   "source": [
    "train = pd.read_csv('../data/public.train.csv')\n",
    "train['is_train']= 1\n",
    "test = pd.read_csv('../data/public.test.csv')\n",
    "test['is_train']=0\n",
    "\n",
    "train_len = train.shape[0]\n",
    "\n",
    "train.rename(index=str, columns=rep_cols, inplace=True)\n",
    "test.rename(index=str, columns=rep_cols, inplace=True)\n"
   ]
  },
  {
   "cell_type": "code",
   "execution_count": 6,
   "metadata": {},
   "outputs": [],
   "source": [
    "#异常值处理\n",
    "correct_dict = {\n",
    "    'V_A':(480,60000),\n",
    "    'V_B':(500,60000),\n",
    "    'V_C':(500, 60000),\n",
    "    'I_B':(0, 600),\n",
    "    'I_C':(0, 30),\n",
    "    'P_A':(0,10000),\n",
    "    'P_B':(0,10000),\n",
    "    'P_C':(0,10000),\n",
    "    'P_avg':(0,10000)\n",
    "}\n",
    "cols = [c for c in train.columns.tolist() if c!='y' and c!='ID']\n",
    "for c in correct_dict.keys():\n",
    "#     df[c+'_is_out_of_upper'] = (df[c]>correct_dict[c][1]).astype(np.int32)\n",
    "#     df[c+'_is_out_of_lower'] = (df[c]<correct_dict[c][0]).astype(np.int32)\n",
    "    train.loc[train[c]>correct_dict[c][1],c]=np.nan\n",
    "    train.loc[train[c]<correct_dict[c][0],c]=np.nan"
   ]
  },
  {
   "cell_type": "code",
   "execution_count": 7,
   "metadata": {},
   "outputs": [
    {
     "data": {
      "text/plain": [
       "(9000, 22)"
      ]
     },
     "execution_count": 7,
     "metadata": {},
     "output_type": "execute_result"
    }
   ],
   "source": [
    "train.shape"
   ]
  },
  {
   "cell_type": "code",
   "execution_count": 8,
   "metadata": {
    "collapsed": true
   },
   "outputs": [],
   "source": [
    "train.dropna(subset=cols, how='any',inplace=True)"
   ]
  },
  {
   "cell_type": "code",
   "execution_count": 9,
   "metadata": {},
   "outputs": [
    {
     "data": {
      "text/plain": [
       "(8896, 22)"
      ]
     },
     "execution_count": 9,
     "metadata": {},
     "output_type": "execute_result"
    }
   ],
   "source": [
    "train.shape"
   ]
  },
  {
   "cell_type": "code",
   "execution_count": 10,
   "metadata": {
    "collapsed": true
   },
   "outputs": [],
   "source": [
    "df = pd.concat([train, test])"
   ]
  },
  {
   "cell_type": "code",
   "execution_count": 11,
   "metadata": {
    "collapsed": true
   },
   "outputs": [],
   "source": [
    "df.sort_values(by='ID',ascending=True, inplace=True)"
   ]
  },
  {
   "cell_type": "code",
   "execution_count": 12,
   "metadata": {},
   "outputs": [
    {
     "data": {
      "text/html": [
       "<div>\n",
       "<style>\n",
       "    .dataframe thead tr:only-child th {\n",
       "        text-align: right;\n",
       "    }\n",
       "\n",
       "    .dataframe thead th {\n",
       "        text-align: left;\n",
       "    }\n",
       "\n",
       "    .dataframe tbody tr th {\n",
       "        vertical-align: top;\n",
       "    }\n",
       "</style>\n",
       "<table border=\"1\" class=\"dataframe\">\n",
       "  <thead>\n",
       "    <tr style=\"text-align: right;\">\n",
       "      <th></th>\n",
       "      <th>ID</th>\n",
       "      <th>I_A</th>\n",
       "      <th>I_B</th>\n",
       "      <th>I_C</th>\n",
       "      <th>P_A</th>\n",
       "      <th>P_B</th>\n",
       "      <th>P_C</th>\n",
       "      <th>P_avg</th>\n",
       "      <th>V_A</th>\n",
       "      <th>V_B</th>\n",
       "      <th>...</th>\n",
       "      <th>efficiency</th>\n",
       "      <th>efficiency_A</th>\n",
       "      <th>efficiency_B</th>\n",
       "      <th>efficiency_C</th>\n",
       "      <th>env_t</th>\n",
       "      <th>is_train</th>\n",
       "      <th>light_strength</th>\n",
       "      <th>wind_direction</th>\n",
       "      <th>wind_speed</th>\n",
       "      <th>y</th>\n",
       "    </tr>\n",
       "  </thead>\n",
       "  <tbody>\n",
       "    <tr>\n",
       "      <th>0</th>\n",
       "      <td>1</td>\n",
       "      <td>0.00</td>\n",
       "      <td>0.00</td>\n",
       "      <td>0.00</td>\n",
       "      <td>0.00</td>\n",
       "      <td>0.00</td>\n",
       "      <td>0.00</td>\n",
       "      <td>0.00</td>\n",
       "      <td>0.0</td>\n",
       "      <td>0.0</td>\n",
       "      <td>...</td>\n",
       "      <td>0.00</td>\n",
       "      <td>0.00</td>\n",
       "      <td>0.00</td>\n",
       "      <td>0.00</td>\n",
       "      <td>0.1</td>\n",
       "      <td>0</td>\n",
       "      <td>1</td>\n",
       "      <td>1</td>\n",
       "      <td>0.1</td>\n",
       "      <td>NaN</td>\n",
       "    </tr>\n",
       "    <tr>\n",
       "      <th>1</th>\n",
       "      <td>9</td>\n",
       "      <td>1.26</td>\n",
       "      <td>0.21</td>\n",
       "      <td>1.43</td>\n",
       "      <td>909.72</td>\n",
       "      <td>148.05</td>\n",
       "      <td>1031.03</td>\n",
       "      <td>696.27</td>\n",
       "      <td>722.0</td>\n",
       "      <td>705.0</td>\n",
       "      <td>...</td>\n",
       "      <td>198.32</td>\n",
       "      <td>259.11</td>\n",
       "      <td>42.17</td>\n",
       "      <td>293.66</td>\n",
       "      <td>-17.5</td>\n",
       "      <td>0</td>\n",
       "      <td>13</td>\n",
       "      <td>273</td>\n",
       "      <td>0.3</td>\n",
       "      <td>NaN</td>\n",
       "    </tr>\n",
       "    <tr>\n",
       "      <th>0</th>\n",
       "      <td>10</td>\n",
       "      <td>1.34</td>\n",
       "      <td>0.22</td>\n",
       "      <td>1.50</td>\n",
       "      <td>976.86</td>\n",
       "      <td>155.98</td>\n",
       "      <td>1087.50</td>\n",
       "      <td>740.11</td>\n",
       "      <td>729.0</td>\n",
       "      <td>709.0</td>\n",
       "      <td>...</td>\n",
       "      <td>80.55</td>\n",
       "      <td>106.32</td>\n",
       "      <td>16.98</td>\n",
       "      <td>118.36</td>\n",
       "      <td>-17.4</td>\n",
       "      <td>1</td>\n",
       "      <td>34</td>\n",
       "      <td>272</td>\n",
       "      <td>0.6</td>\n",
       "      <td>1.437752</td>\n",
       "    </tr>\n",
       "    <tr>\n",
       "      <th>1</th>\n",
       "      <td>11</td>\n",
       "      <td>1.55</td>\n",
       "      <td>0.24</td>\n",
       "      <td>1.56</td>\n",
       "      <td>1128.40</td>\n",
       "      <td>172.08</td>\n",
       "      <td>1132.56</td>\n",
       "      <td>811.01</td>\n",
       "      <td>728.0</td>\n",
       "      <td>717.0</td>\n",
       "      <td>...</td>\n",
       "      <td>99.90</td>\n",
       "      <td>139.00</td>\n",
       "      <td>21.20</td>\n",
       "      <td>139.51</td>\n",
       "      <td>-17.3</td>\n",
       "      <td>1</td>\n",
       "      <td>30</td>\n",
       "      <td>275</td>\n",
       "      <td>0.8</td>\n",
       "      <td>1.692575</td>\n",
       "    </tr>\n",
       "    <tr>\n",
       "      <th>2</th>\n",
       "      <td>12</td>\n",
       "      <td>1.75</td>\n",
       "      <td>0.23</td>\n",
       "      <td>1.82</td>\n",
       "      <td>1279.25</td>\n",
       "      <td>166.06</td>\n",
       "      <td>1310.40</td>\n",
       "      <td>918.57</td>\n",
       "      <td>731.0</td>\n",
       "      <td>722.0</td>\n",
       "      <td>...</td>\n",
       "      <td>82.48</td>\n",
       "      <td>114.86</td>\n",
       "      <td>14.91</td>\n",
       "      <td>117.66</td>\n",
       "      <td>-17.0</td>\n",
       "      <td>1</td>\n",
       "      <td>41</td>\n",
       "      <td>283</td>\n",
       "      <td>1.1</td>\n",
       "      <td>1.975787</td>\n",
       "    </tr>\n",
       "  </tbody>\n",
       "</table>\n",
       "<p>5 rows × 22 columns</p>\n",
       "</div>"
      ],
      "text/plain": [
       "   ID   I_A   I_B   I_C      P_A     P_B      P_C   P_avg    V_A    V_B  \\\n",
       "0   1  0.00  0.00  0.00     0.00    0.00     0.00    0.00    0.0    0.0   \n",
       "1   9  1.26  0.21  1.43   909.72  148.05  1031.03  696.27  722.0  705.0   \n",
       "0  10  1.34  0.22  1.50   976.86  155.98  1087.50  740.11  729.0  709.0   \n",
       "1  11  1.55  0.24  1.56  1128.40  172.08  1132.56  811.01  728.0  717.0   \n",
       "2  12  1.75  0.23  1.82  1279.25  166.06  1310.40  918.57  731.0  722.0   \n",
       "\n",
       "     ...     efficiency  efficiency_A  efficiency_B  efficiency_C  env_t  \\\n",
       "0    ...           0.00          0.00          0.00          0.00    0.1   \n",
       "1    ...         198.32        259.11         42.17        293.66  -17.5   \n",
       "0    ...          80.55        106.32         16.98        118.36  -17.4   \n",
       "1    ...          99.90        139.00         21.20        139.51  -17.3   \n",
       "2    ...          82.48        114.86         14.91        117.66  -17.0   \n",
       "\n",
       "   is_train  light_strength  wind_direction  wind_speed         y  \n",
       "0         0               1               1         0.1       NaN  \n",
       "1         0              13             273         0.3       NaN  \n",
       "0         1              34             272         0.6  1.437752  \n",
       "1         1              30             275         0.8  1.692575  \n",
       "2         1              41             283         1.1  1.975787  \n",
       "\n",
       "[5 rows x 22 columns]"
      ]
     },
     "execution_count": 12,
     "metadata": {},
     "output_type": "execute_result"
    }
   ],
   "source": [
    "df.head()"
   ]
  },
  {
   "cell_type": "code",
   "execution_count": 13,
   "metadata": {
    "collapsed": true
   },
   "outputs": [],
   "source": [
    "raw_feats = [x for x in df.columns.tolist() if x not in['ID','is_train','y']]"
   ]
  },
  {
   "cell_type": "code",
   "execution_count": 14,
   "metadata": {
    "collapsed": true
   },
   "outputs": [],
   "source": [
    "def get_ts_feature(df, f_name, prefix='', v_len = 25):\n",
    "    v = df[f_name].values.tolist()\n",
    "    # prev\n",
    "    temp_list = []\n",
    "    for i in range(df.shape[0]):\n",
    "        temp_list.append(v[i-v_len:i][::-1])\n",
    "    temp_df = pd.DataFrame(temp_list)\n",
    "    temp_df.columns = [prefix+'prev_%d'%x for x in range(v_len)]\n",
    "    temp_df['ID'] = df['ID'].values\n",
    "    \n",
    "    # succ\n",
    "    temp_list = []\n",
    "    for i in range(df.shape[0]):\n",
    "        temp_list.append(v[i+1:i+v_len+1])\n",
    "    temp_df2 = pd.DataFrame(temp_list)\n",
    "    temp_df2.columns = [prefix+'succ_%d'%x for x in range(v_len)]\n",
    "    temp_df2['ID'] = df['ID'].values\n",
    "    \n",
    "    temp_df = temp_df.merge(temp_df2, on='ID', how='left')\n",
    "    return temp_df"
   ]
  },
  {
   "cell_type": "code",
   "execution_count": 15,
   "metadata": {
    "collapsed": true
   },
   "outputs": [],
   "source": [
    "#异常值处理\n",
    "correct_dict = {\n",
    "    'V_A':(480,60000),\n",
    "    'V_B':(500,60000),\n",
    "    'V_C':(500, 60000),\n",
    "    'I_B':(0, 600),\n",
    "    'I_C':(0, 30),\n",
    "    'P_A':(0,10000),\n",
    "    'P_B':(0,10000),\n",
    "    'P_C':(0,10000),\n",
    "    'P_avg':(0,10000)\n",
    "}\n",
    "cols = [c for c in df.columns.tolist() if c!='y' and c!='ID']\n",
    "for c in correct_dict.keys():\n",
    "    df[c+'_is_out_of_upper'] = (df[c]>correct_dict[c][1]).astype(np.int32)\n",
    "    df[c+'_is_out_of_lower'] = (df[c]<correct_dict[c][0]).astype(np.int32)\n",
    "    df.loc[df[c]>correct_dict[c][1],c]=np.nan\n",
    "    df.loc[df[c]<correct_dict[c][0],c]=np.nan"
   ]
  },
  {
   "cell_type": "code",
   "execution_count": 16,
   "metadata": {
    "collapsed": true
   },
   "outputs": [],
   "source": [
    "def get_fake_feature(df, f_name):\n",
    "    a = df['y']\n",
    "    w=np.isnan(a)\n",
    "    a[w]=0\n",
    "    bt=df['ID']\n",
    "    f=UnivariateSpline(bt,a,w=~w,k=4)\n",
    "    x = df[['ID']]\n",
    "    x['fake_'+f_name] = f(bt)\n",
    "    return x"
   ]
  },
  {
   "cell_type": "code",
   "execution_count": 17,
   "metadata": {},
   "outputs": [
    {
     "name": "stderr",
     "output_type": "stream",
     "text": [
      "/Users/wyh/anaconda/lib/python3.6/site-packages/ipykernel_launcher.py:4: SettingWithCopyWarning: \n",
      "A value is trying to be set on a copy of a slice from a DataFrame\n",
      "\n",
      "See the caveats in the documentation: http://pandas.pydata.org/pandas-docs/stable/indexing.html#indexing-view-versus-copy\n",
      "  after removing the cwd from sys.path.\n",
      "/Users/wyh/anaconda/lib/python3.6/site-packages/ipykernel_launcher.py:8: SettingWithCopyWarning: \n",
      "A value is trying to be set on a copy of a slice from a DataFrame.\n",
      "Try using .loc[row_indexer,col_indexer] = value instead\n",
      "\n",
      "See the caveats in the documentation: http://pandas.pydata.org/pandas-docs/stable/indexing.html#indexing-view-versus-copy\n",
      "  \n"
     ]
    }
   ],
   "source": [
    "x = get_fake_feature(df, 'light_strength')\n",
    "df = df.merge(x, on='ID', how='left')\n",
    "\n",
    "x = get_fake_feature(df, 'env_t')\n",
    "df = df.merge(x, on='ID', how='left')\n",
    "\n",
    "x = get_fake_feature(df, 'y')\n",
    "df = df.merge(x, on='ID', how='left')\n",
    "\n",
    "x = get_fake_feature(df, 'board_t')\n",
    "df = df.merge(x, on='ID', how='left')"
   ]
  },
  {
   "cell_type": "code",
   "execution_count": 18,
   "metadata": {
    "collapsed": true
   },
   "outputs": [],
   "source": [
    "from sklearn.preprocessing import PolynomialFeatures\n",
    "polynm = PolynomialFeatures(degree=2, interaction_only=True)\n",
    "d = df[raw_feats].replace([np.inf, -np.inf], np.nan)\n",
    "d.fillna(method='bfill',axis=0,inplace=True)\n",
    "d.fillna(method='ffill',axis=0,inplace=True)\n",
    "poly_feats = pd.DataFrame(polynm.fit_transform(d))\n",
    "poly_feats['ID']=df['ID'].values\n",
    "df = df.merge(poly_feats, on='ID', how='left')"
   ]
  },
  {
   "cell_type": "code",
   "execution_count": 19,
   "metadata": {},
   "outputs": [
    {
     "data": {
      "text/plain": [
       "(17305, 192)"
      ]
     },
     "execution_count": 19,
     "metadata": {},
     "output_type": "execute_result"
    }
   ],
   "source": [
    "poly_feats.shape"
   ]
  },
  {
   "cell_type": "code",
   "execution_count": 30,
   "metadata": {
    "collapsed": true
   },
   "outputs": [],
   "source": [
    "x = get_ts_feature(df, 'light_strength', 'ls')\n",
    "df = df.merge(x, on='ID', how='left')\n",
    "\n",
    "x = get_ts_feature(df, 'env_t', 'env_t')\n",
    "df = df.merge(x, on='ID', how='left')\n",
    "\n",
    "x = get_ts_feature(df, 'env_t', 'board_t')\n",
    "df = df.merge(x, on='ID', how='left')\n",
    "\n",
    "x = get_ts_feature(df, 'fake_y', 'fake_y')\n",
    "df = df.merge(x, on='ID', how='left')"
   ]
  },
  {
   "cell_type": "code",
   "execution_count": 20,
   "metadata": {
    "collapsed": true
   },
   "outputs": [],
   "source": [
    "# target = ['P_A','P_avg','I_A','P_C','I_C','P_B','I_B']\n",
    "# target_plus = [c+'_is_out_of_upper' for c in target]+[c+'_is_out_of_lower' for c in target]+target\n",
    "# for c in target:\n",
    "#     df['log_'+c] = np.log1p(df[c])"
   ]
  },
  {
   "cell_type": "code",
   "execution_count": 21,
   "metadata": {
    "collapsed": true
   },
   "outputs": [],
   "source": [
    "# 估算功率\n",
    "df['predict_p_1'] = df['P_A']+df['P_B']+df['P_C']\n",
    "df['predict_p_2'] = (df['P_A']*df['efficiency_A'] \\\n",
    "                   +df['P_B']*df['efficiency_B'] \\\n",
    "                   +df['P_C']*df['efficiency_C'])/36000"
   ]
  },
  {
   "cell_type": "code",
   "execution_count": 22,
   "metadata": {
    "collapsed": true
   },
   "outputs": [],
   "source": [
    "train = df[df['is_train']==1]\n",
    "test = df[df['is_train']==0]"
   ]
  },
  {
   "cell_type": "code",
   "execution_count": 23,
   "metadata": {
    "collapsed": true
   },
   "outputs": [],
   "source": [
    "params = {\n",
    "    'boosting_type': 'gbdt',\n",
    "    'objective': 'regression_l2',\n",
    "    'metric': 'mse',\n",
    "    'num_leaves': 31,\n",
    "    'learning_rate': 0.02,\n",
    "    'feature_fraction': 0.7,\n",
    "    'bagging_fraction': 0.9,\n",
    "    'bagging_freq': 1,\n",
    "    'verbose': 0,\n",
    "    'lambda_l1':1,\n",
    "    'lambda_l2':0.1\n",
    "}"
   ]
  },
  {
   "cell_type": "code",
   "execution_count": 24,
   "metadata": {
    "collapsed": true
   },
   "outputs": [],
   "source": [
    "predictor = [c for c in train.columns.tolist() if c not in['ID','y','is_train']]"
   ]
  },
  {
   "cell_type": "code",
   "execution_count": 25,
   "metadata": {},
   "outputs": [
    {
     "data": {
      "text/plain": [
       "234"
      ]
     },
     "execution_count": 25,
     "metadata": {},
     "output_type": "execute_result"
    }
   ],
   "source": [
    "len(predictor)"
   ]
  },
  {
   "cell_type": "code",
   "execution_count": 26,
   "metadata": {},
   "outputs": [
    {
     "name": "stdout",
     "output_type": "stream",
     "text": [
      "Training until validation scores don't improve for 100 rounds.\n",
      "[500]\tvalid's l2: 0.0453525\tvalid's score: 0.824429\n",
      "[1000]\tvalid's l2: 0.044445\tvalid's score: 0.825887\n",
      "[1500]\tvalid's l2: 0.0441653\tvalid's score: 0.82634\n",
      "[2000]\tvalid's l2: 0.0440692\tvalid's score: 0.826496\n",
      "[2500]\tvalid's l2: 0.0439669\tvalid's score: 0.826663\n",
      "[3000]\tvalid's l2: 0.043887\tvalid's score: 0.826793\n",
      "[3500]\tvalid's l2: 0.0438533\tvalid's score: 0.826848\n",
      "[4000]\tvalid's l2: 0.0438219\tvalid's score: 0.826899\n",
      "[4500]\tvalid's l2: 0.0438051\tvalid's score: 0.826927\n",
      "[5000]\tvalid's l2: 0.0437911\tvalid's score: 0.82695\n",
      "Did not meet early stopping. Best iteration is:\n",
      "[5000]\tvalid's l2: 0.0437911\tvalid's score: 0.82695\n",
      "Training until validation scores don't improve for 100 rounds.\n",
      "[500]\tvalid's l2: 0.0126278\tvalid's score: 0.898979\n",
      "[1000]\tvalid's l2: 0.0118958\tvalid's score: 0.901658\n",
      "[1500]\tvalid's l2: 0.0116862\tvalid's score: 0.902444\n",
      "[2000]\tvalid's l2: 0.0115492\tvalid's score: 0.902961\n",
      "[2500]\tvalid's l2: 0.011497\tvalid's score: 0.90316\n",
      "Early stopping, best iteration is:\n",
      "[2536]\tvalid's l2: 0.0114921\tvalid's score: 0.903178\n",
      "Training until validation scores don't improve for 100 rounds.\n",
      "[500]\tvalid's l2: 0.0127035\tvalid's score: 0.898707\n",
      "[1000]\tvalid's l2: 0.0121368\tvalid's score: 0.900765\n",
      "[1500]\tvalid's l2: 0.0120062\tvalid's score: 0.901248\n",
      "Early stopping, best iteration is:\n",
      "[1711]\tvalid's l2: 0.0119236\tvalid's score: 0.901554\n",
      "Training until validation scores don't improve for 100 rounds.\n",
      "[500]\tvalid's l2: 0.0204418\tvalid's score: 0.87491\n",
      "[1000]\tvalid's l2: 0.0199107\tvalid's score: 0.876343\n",
      "[1500]\tvalid's l2: 0.0197659\tvalid's score: 0.876738\n",
      "[2000]\tvalid's l2: 0.0196746\tvalid's score: 0.876988\n",
      "[2500]\tvalid's l2: 0.0196233\tvalid's score: 0.877129\n",
      "Early stopping, best iteration is:\n",
      "[2723]\tvalid's l2: 0.0195868\tvalid's score: 0.877229\n",
      "Training until validation scores don't improve for 100 rounds.\n",
      "[500]\tvalid's l2: 0.00942737\tvalid's score: 0.911498\n",
      "[1000]\tvalid's l2: 0.00902496\tvalid's score: 0.913242\n",
      "Early stopping, best iteration is:\n",
      "[1387]\tvalid's l2: 0.0089416\tvalid's score: 0.913609\n",
      "Training until validation scores don't improve for 100 rounds.\n",
      "[500]\tvalid's l2: 0.0116298\tvalid's score: 0.902656\n",
      "[1000]\tvalid's l2: 0.0111741\tvalid's score: 0.904398\n",
      "Early stopping, best iteration is:\n",
      "[945]\tvalid's l2: 0.0111581\tvalid's score: 0.90446\n",
      "Training until validation scores don't improve for 100 rounds.\n",
      "[500]\tvalid's l2: 0.0477932\tvalid's score: 0.820603\n",
      "[1000]\tvalid's l2: 0.0472485\tvalid's score: 0.821445\n",
      "[1500]\tvalid's l2: 0.046928\tvalid's score: 0.821943\n",
      "[2000]\tvalid's l2: 0.0468262\tvalid's score: 0.822102\n",
      "[2500]\tvalid's l2: 0.0467745\tvalid's score: 0.822183\n",
      "Early stopping, best iteration is:\n",
      "[2594]\tvalid's l2: 0.0467637\tvalid's score: 0.8222\n",
      "Training until validation scores don't improve for 100 rounds.\n",
      "[500]\tvalid's l2: 0.0142494\tvalid's score: 0.893359\n",
      "Early stopping, best iteration is:\n",
      "[799]\tvalid's l2: 0.013983\tvalid's score: 0.894255\n",
      "Training until validation scores don't improve for 100 rounds.\n",
      "[500]\tvalid's l2: 0.0156894\tvalid's score: 0.888686\n",
      "[1000]\tvalid's l2: 0.0151276\tvalid's score: 0.890477\n",
      "[1500]\tvalid's l2: 0.0149181\tvalid's score: 0.891155\n",
      "[2000]\tvalid's l2: 0.0147828\tvalid's score: 0.891596\n",
      "Early stopping, best iteration is:\n",
      "[2171]\tvalid's l2: 0.0147405\tvalid's score: 0.891734\n",
      "Training until validation scores don't improve for 100 rounds.\n",
      "[500]\tvalid's l2: 0.010152\tvalid's score: 0.908466\n",
      "[1000]\tvalid's l2: 0.00962156\tvalid's score: 0.910673\n",
      "[1500]\tvalid's l2: 0.00952029\tvalid's score: 0.911102\n",
      "[2000]\tvalid's l2: 0.0094729\tvalid's score: 0.911304\n",
      "Early stopping, best iteration is:\n",
      "[1960]\tvalid's l2: 0.00946412\tvalid's score: 0.911341\n",
      "Training until validation scores don't improve for 100 rounds.\n",
      "[500]\tvalid's l2: 0.052331\tvalid's score: 0.813829\n",
      "[1000]\tvalid's l2: 0.0516237\tvalid's score: 0.814857\n",
      "[1500]\tvalid's l2: 0.0514903\tvalid's score: 0.815053\n",
      "Early stopping, best iteration is:\n",
      "[1821]\tvalid's l2: 0.0514533\tvalid's score: 0.815107\n",
      "Training until validation scores don't improve for 100 rounds.\n",
      "[500]\tvalid's l2: 0.0129756\tvalid's score: 0.897738\n",
      "[1000]\tvalid's l2: 0.012591\tvalid's score: 0.899111\n",
      "[1500]\tvalid's l2: 0.0124868\tvalid's score: 0.899487\n",
      "Early stopping, best iteration is:\n",
      "[1878]\tvalid's l2: 0.012397\tvalid's score: 0.899813\n",
      "Training until validation scores don't improve for 100 rounds.\n",
      "[500]\tvalid's l2: 0.0121655\tvalid's score: 0.900659\n",
      "[1000]\tvalid's l2: 0.0114359\tvalid's score: 0.903393\n",
      "[1500]\tvalid's l2: 0.0113151\tvalid's score: 0.903855\n",
      "Early stopping, best iteration is:\n",
      "[1649]\tvalid's l2: 0.0112732\tvalid's score: 0.904016\n",
      "Training until validation scores don't improve for 100 rounds.\n",
      "[500]\tvalid's l2: 0.00917209\tvalid's score: 0.912599\n",
      "Early stopping, best iteration is:\n",
      "[804]\tvalid's l2: 0.00892634\tvalid's score: 0.913676\n",
      "Training until validation scores don't improve for 100 rounds.\n",
      "[500]\tvalid's l2: 0.0131268\tvalid's score: 0.897205\n",
      "[1000]\tvalid's l2: 0.0128115\tvalid's score: 0.898321\n",
      "[1500]\tvalid's l2: 0.012655\tvalid's score: 0.898881\n",
      "[2000]\tvalid's l2: 0.0125384\tvalid's score: 0.899301\n",
      "[2500]\tvalid's l2: 0.0124689\tvalid's score: 0.899552\n",
      "[3000]\tvalid's l2: 0.012426\tvalid's score: 0.899708\n",
      "[3500]\tvalid's l2: 0.0123965\tvalid's score: 0.899815\n",
      "Early stopping, best iteration is:\n",
      "[3646]\tvalid's l2: 0.0123846\tvalid's score: 0.899858\n",
      "Training until validation scores don't improve for 100 rounds.\n",
      "[500]\tvalid's l2: 0.00920221\tvalid's score: 0.912469\n",
      "[1000]\tvalid's l2: 0.00886207\tvalid's score: 0.913961\n",
      "[1500]\tvalid's l2: 0.00874981\tvalid's score: 0.914461\n",
      "[2000]\tvalid's l2: 0.00869533\tvalid's score: 0.914705\n",
      "[2500]\tvalid's l2: 0.00863737\tvalid's score: 0.914965\n",
      "[3000]\tvalid's l2: 0.00860364\tvalid's score: 0.915118\n",
      "[3500]\tvalid's l2: 0.00857911\tvalid's score: 0.915228\n",
      "[4000]\tvalid's l2: 0.00856251\tvalid's score: 0.915303\n",
      "[4500]\tvalid's l2: 0.0085469\tvalid's score: 0.915374\n",
      "[5000]\tvalid's l2: 0.00852912\tvalid's score: 0.915455\n",
      "Did not meet early stopping. Best iteration is:\n",
      "[4998]\tvalid's l2: 0.00852909\tvalid's score: 0.915455\n",
      "Training until validation scores don't improve for 100 rounds.\n",
      "[500]\tvalid's l2: 0.0118398\tvalid's score: 0.901867\n",
      "[1000]\tvalid's l2: 0.01152\tvalid's score: 0.903072\n",
      "Early stopping, best iteration is:\n",
      "[1147]\tvalid's l2: 0.0114933\tvalid's score: 0.903173\n",
      "Training until validation scores don't improve for 100 rounds.\n",
      "[500]\tvalid's l2: 0.0559198\tvalid's score: 0.808751\n",
      "[1000]\tvalid's l2: 0.0553058\tvalid's score: 0.809604\n",
      "[1500]\tvalid's l2: 0.0551293\tvalid's score: 0.80985\n",
      "Early stopping, best iteration is:\n",
      "[1709]\tvalid's l2: 0.0550889\tvalid's score: 0.809907\n",
      "Training until validation scores don't improve for 100 rounds.\n",
      "[500]\tvalid's l2: 0.0111008\tvalid's score: 0.904682\n",
      "[1000]\tvalid's l2: 0.0106997\tvalid's score: 0.906257\n",
      "Early stopping, best iteration is:\n",
      "[930]\tvalid's l2: 0.0106809\tvalid's score: 0.906332\n",
      "Training until validation scores don't improve for 100 rounds.\n",
      "[500]\tvalid's l2: 0.0149924\tvalid's score: 0.890914\n",
      "[1000]\tvalid's l2: 0.0144353\tvalid's score: 0.89274\n",
      "[1500]\tvalid's l2: 0.014252\tvalid's score: 0.89335\n",
      "[2000]\tvalid's l2: 0.0141539\tvalid's score: 0.893679\n",
      "[2500]\tvalid's l2: 0.0140708\tvalid's score: 0.893958\n",
      "[3000]\tvalid's l2: 0.014031\tvalid's score: 0.894092\n",
      "[3500]\tvalid's l2: 0.0139903\tvalid's score: 0.89423\n",
      "[4000]\tvalid's l2: 0.0139789\tvalid's score: 0.894269\n",
      "[4500]\tvalid's l2: 0.0139559\tvalid's score: 0.894346\n",
      "[5000]\tvalid's l2: 0.0139385\tvalid's score: 0.894405\n",
      "Did not meet early stopping. Best iteration is:\n",
      "[4964]\tvalid's l2: 0.0139384\tvalid's score: 0.894405\n",
      "Training until validation scores don't improve for 100 rounds.\n",
      "[500]\tvalid's l2: 0.00965782\tvalid's score: 0.910519\n",
      "[1000]\tvalid's l2: 0.00918566\tvalid's score: 0.91254\n",
      "Early stopping, best iteration is:\n",
      "[1355]\tvalid's l2: 0.00907914\tvalid's score: 0.913005\n",
      "Training until validation scores don't improve for 100 rounds.\n",
      "[500]\tvalid's l2: 0.00965718\tvalid's score: 0.910522\n",
      "[1000]\tvalid's l2: 0.00918597\tvalid's score: 0.912539\n",
      "[1500]\tvalid's l2: 0.00906246\tvalid's score: 0.913078\n",
      "Early stopping, best iteration is:\n",
      "[1710]\tvalid's l2: 0.00900267\tvalid's score: 0.91334\n",
      "Training until validation scores don't improve for 100 rounds.\n",
      "[500]\tvalid's l2: 0.0116004\tvalid's score: 0.902767\n"
     ]
    },
    {
     "name": "stdout",
     "output_type": "stream",
     "text": [
      "Early stopping, best iteration is:\n",
      "[837]\tvalid's l2: 0.011441\tvalid's score: 0.903373\n",
      "Training until validation scores don't improve for 100 rounds.\n",
      "[500]\tvalid's l2: 0.0594878\tvalid's score: 0.803922\n",
      "[1000]\tvalid's l2: 0.0588134\tvalid's score: 0.804819\n",
      "[1500]\tvalid's l2: 0.0586342\tvalid's score: 0.805059\n",
      "[2000]\tvalid's l2: 0.0585427\tvalid's score: 0.805181\n",
      "Early stopping, best iteration is:\n",
      "[1926]\tvalid's l2: 0.058537\tvalid's score: 0.805189\n",
      "Training until validation scores don't improve for 100 rounds.\n",
      "[500]\tvalid's l2: 0.0130793\tvalid's score: 0.897372\n",
      "[1000]\tvalid's l2: 0.0123776\tvalid's score: 0.899884\n",
      "[1500]\tvalid's l2: 0.012184\tvalid's score: 0.900592\n",
      "[2000]\tvalid's l2: 0.0120908\tvalid's score: 0.900935\n",
      "[2500]\tvalid's l2: 0.0120516\tvalid's score: 0.90108\n",
      "Early stopping, best iteration is:\n",
      "[2744]\tvalid's l2: 0.0120309\tvalid's score: 0.901156\n"
     ]
    }
   ],
   "source": [
    "test_predicts = []\n",
    "val_preds = []\n",
    "\n",
    "# log_test_predicts = []\n",
    "# log_val_predicts = []\n",
    "for idx, seed in enumerate([1,2,3,4,5]):\n",
    "    kf = KFold(5, shuffle=True, random_state=seed)\n",
    "    \n",
    "    val_preds.append(np.zeros(train.shape[0]))\n",
    "    for n_fold, (tra_idx, val_idx) in enumerate(kf.split(train)):\n",
    "        tra = train.iloc[tra_idx]\n",
    "        val = train.iloc[val_idx]\n",
    "\n",
    "        train_set = lightgbm.Dataset(\n",
    "            tra[predictor],\n",
    "            tra['y']\n",
    "        )\n",
    "\n",
    "        validation_set = lightgbm.Dataset(\n",
    "            val[predictor],\n",
    "            val['y']\n",
    "        )\n",
    "\n",
    "        model = lightgbm.train(params, train_set, num_boost_round=5000,\n",
    "                              valid_sets= [validation_set],\n",
    "                              valid_names=['valid'],\n",
    "                              early_stopping_rounds=100,\n",
    "                               feval=my_val,\n",
    "                              verbose_eval=500)\n",
    "\n",
    "        val_preds[idx][val_idx] = model.predict(val[predictor])\n",
    "        test_predicts.append(model.predict(test[predictor]))\n",
    "        \n",
    "#         train_set = lightgbm.Dataset(\n",
    "#             tra[predictor],\n",
    "#             np.log1p(tra['y'])\n",
    "#         )\n",
    "\n",
    "#         validation_set = lightgbm.Dataset(\n",
    "#             val[predictor],\n",
    "#             np.log1p(val['y'])\n",
    "#         )\n",
    "\n",
    "#         model = lightgbm.train(params, train_set, num_boost_round=5000,\n",
    "#                               valid_sets= [validation_set],\n",
    "#                               valid_names=['valid'],\n",
    "#                               early_stopping_rounds=100,\n",
    "#                                feval=my_val,\n",
    "#                               verbose_eval=500)\n",
    "\n",
    "#         val_preds[idx][val_idx] = np.expm1(model.predict(val[predictor]))\n",
    "#         test_predicts.append(np.expm1(model.predict(test[predictor])))"
   ]
  },
  {
   "cell_type": "code",
   "execution_count": 27,
   "metadata": {},
   "outputs": [
    {
     "name": "stdout",
     "output_type": "stream",
     "text": [
      "local cv: 0.879535262074\n"
     ]
    }
   ],
   "source": [
    "print('local cv:',1/(1+np.sqrt(mean_squared_error(train['y'],np.mean(val_preds,axis=0)))))"
   ]
  },
  {
   "cell_type": "code",
   "execution_count": 28,
   "metadata": {},
   "outputs": [
    {
     "data": {
      "text/plain": [
       "73              993444.678747\n",
       "25              665969.840120\n",
       "P_avg            85366.570546\n",
       "23               69091.644687\n",
       "7                20842.058883\n",
       "predict_p_1      12593.370508\n",
       "fake_env_t        6984.909619\n",
       "58                6866.017524\n",
       "100               4815.808943\n",
       "39                4402.752073\n",
       "27                3909.868351\n",
       "22                2738.119838\n",
       "fake_y            2369.709989\n",
       "24                2308.463866\n",
       "41                1842.680745\n",
       "I_A               1698.487227\n",
       "4                 1643.509387\n",
       "P_A               1593.813376\n",
       "56                1467.593883\n",
       "fake_board_t      1325.271143\n",
       "dtype: float64"
      ]
     },
     "execution_count": 28,
     "metadata": {},
     "output_type": "execute_result"
    }
   ],
   "source": [
    "pd.Series(model.feature_importance(importance_type='gain'),\n",
    "          index=model.feature_name()).sort_values(ascending=False).head(20)"
   ]
  },
  {
   "cell_type": "code",
   "execution_count": 29,
   "metadata": {},
   "outputs": [
    {
     "name": "stderr",
     "output_type": "stream",
     "text": [
      "/Users/wyh/anaconda/lib/python3.6/site-packages/ipykernel_launcher.py:1: SettingWithCopyWarning: \n",
      "A value is trying to be set on a copy of a slice from a DataFrame.\n",
      "Try using .loc[row_indexer,col_indexer] = value instead\n",
      "\n",
      "See the caveats in the documentation: http://pandas.pydata.org/pandas-docs/stable/indexing.html#indexing-view-versus-copy\n",
      "  \"\"\"Entry point for launching an IPython kernel.\n"
     ]
    }
   ],
   "source": [
    "test['ans'] = np.mean(test_predicts, axis=0)"
   ]
  },
  {
   "cell_type": "code",
   "execution_count": 35,
   "metadata": {
    "collapsed": true
   },
   "outputs": [],
   "source": [
    "test[['ID','ans']].to_csv('../result/0809-8795-dropan.csv',header=False, index=False)"
   ]
  },
  {
   "cell_type": "code",
   "execution_count": 31,
   "metadata": {},
   "outputs": [
    {
     "data": {
      "text/plain": [
       "<matplotlib.axes._subplots.AxesSubplot at 0x111d57588>"
      ]
     },
     "execution_count": 31,
     "metadata": {},
     "output_type": "execute_result"
    },
    {
     "data": {
      "image/png": "[encoded data removed]",
      "text/plain": [
       "<matplotlib.figure.Figure at 0x105ecdac8>"
      ]
     },
     "metadata": {},
     "output_type": "display_data"
    }
   ],
   "source": [
    "test['ans'].hist()"
   ]
  },
  {
   "cell_type": "code",
   "execution_count": 32,
   "metadata": {},
   "outputs": [
    {
     "data": {
      "text/plain": [
       "count    8409.000000\n",
       "mean        4.988513\n",
       "std         2.827069\n",
       "min        -0.023130\n",
       "25%         2.434297\n",
       "50%         5.229197\n",
       "75%         7.490034\n",
       "max        10.749679\n",
       "Name: ans, dtype: float64"
      ]
     },
     "execution_count": 32,
     "metadata": {},
     "output_type": "execute_result"
    }
   ],
   "source": [
    "test['ans'].describe()"
   ]
  },
  {
   "cell_type": "code",
   "execution_count": 33,
   "metadata": {},
   "outputs": [
    {
     "data": {
      "text/plain": [
       "<matplotlib.axes._subplots.AxesSubplot at 0x111cdbac8>"
      ]
     },
     "execution_count": 33,
     "metadata": {},
     "output_type": "execute_result"
    },
    {
     "data": {
      "image/png": "[encoded data removed]",
      "text/plain": [
       "<matplotlib.figure.Figure at 0x111a73ba8>"
      ]
     },
     "metadata": {},
     "output_type": "display_data"
    }
   ],
   "source": [
    "train['y'].hist()"
   ]
  },
  {
   "cell_type": "code",
   "execution_count": 34,
   "metadata": {},
   "outputs": [
    {
     "data": {
      "text/plain": [
       "count    8896.000000\n",
       "mean        5.746802\n",
       "std         3.442017\n",
       "min        -0.125144\n",
       "25%         2.594826\n",
       "50%         5.829831\n",
       "75%         8.922216\n",
       "max        12.288756\n",
       "Name: y, dtype: float64"
      ]
     },
     "execution_count": 34,
     "metadata": {},
     "output_type": "execute_result"
    }
   ],
   "source": [
    "train['y'].describe()"
   ]
  },
  {
   "cell_type": "code",
   "execution_count": null,
   "metadata": {
    "collapsed": true
   },
   "outputs": [],
   "source": []
  }
 ],
 "metadata": {
  "kernelspec": {
   "display_name": "Python 3",
   "language": "python",
   "name": "python3"
  },
  "language_info": {
   "codemirror_mode": {
    "name": "ipython",
    "version": 3
   },
   "file_extension": ".py",
   "mimetype": "text/x-python",
   "name": "python",
   "nbconvert_exporter": "python",
   "pygments_lexer": "ipython3",
   "version": "3.6.1"
  }
 },
 "nbformat": 4,
 "nbformat_minor": 2
}
