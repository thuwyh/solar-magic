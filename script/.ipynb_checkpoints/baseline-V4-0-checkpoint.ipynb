{
 "cells": [
  {
   "cell_type": "raw",
   "metadata": {},
   "source": [
    "不替换数据，只进行poly特征变换"
   ]
  },
  {
   "cell_type": "code",
   "execution_count": 1,
   "metadata": {
    "collapsed": true
   },
   "outputs": [],
   "source": [
    "import pandas as pd\n",
    "import matplotlib.pyplot as plt\n",
    "import numpy as np\n",
    "\n",
    "import lightgbm\n",
    "\n",
    "from sklearn.model_selection import KFold\n",
    "from sklearn.metrics import mean_squared_error\n",
    "\n",
    "from scipy.interpolate import UnivariateSpline\n",
    "from tqdm import tqdm_notebook as tqdm\n",
    "\n",
    "%matplotlib inline"
   ]
  },
  {
   "cell_type": "code",
   "execution_count": 2,
   "metadata": {
    "collapsed": true
   },
   "outputs": [],
   "source": [
    "rep_cols = {'ID':'ID', \n",
    " '板温':'board_t', \n",
    " '现场温度':'env_t', \n",
    " '光照强度':'light_strength', \n",
    " '转换效率':'efficiency', \n",
    " '转换效率A':'efficiency_A', \n",
    " '转换效率B':'efficiency_B', \n",
    " '转换效率C':'efficiency_C', \n",
    " '电压A':'V_A',\n",
    " '电压B':'V_B', \n",
    " '电压C':'V_C', \n",
    " '电流A':'I_A', \n",
    " '电流B':'I_B', \n",
    " '电流C':'I_C', \n",
    " '功率A':'P_A', \n",
    " '功率B':'P_B', \n",
    " '功率C':'P_C', \n",
    " '平均功率':'P_avg', \n",
    " '风速':'wind_speed',\n",
    " '风向':'wind_direction', \n",
    " '发电量':'y'\n",
    "}"
   ]
  },
  {
   "cell_type": "code",
   "execution_count": 3,
   "metadata": {
    "collapsed": true
   },
   "outputs": [],
   "source": [
    "def my_val(preds, train_data):\n",
    "    label = train_data.get_label()\n",
    "    return 'score', 1/(1+np.sqrt(mean_squared_error(preds, label))), True"
   ]
  },
  {
   "cell_type": "code",
   "execution_count": 4,
   "metadata": {},
   "outputs": [
    {
     "name": "stdout",
     "output_type": "stream",
     "text": [
      "(8409, 21)\n"
     ]
    }
   ],
   "source": [
    "train = pd.read_csv('../data/public.train.csv')\n",
    "train['is_train']= 1\n",
    "test = pd.read_csv('../data/public.test.csv')\n",
    "test['is_train']=0\n",
    "train_len = train.shape[0]\n",
    "df = pd.concat([train, test])\n",
    "df.reset_index(inplace=True, drop=True)\n",
    "print(test.shape)"
   ]
  },
  {
   "cell_type": "code",
   "execution_count": 5,
   "metadata": {
    "collapsed": true
   },
   "outputs": [],
   "source": [
    "df.rename(index=str, columns=rep_cols, inplace=True)"
   ]
  },
  {
   "cell_type": "code",
   "execution_count": 6,
   "metadata": {
    "collapsed": true
   },
   "outputs": [],
   "source": [
    "df.sort_values(by='ID',ascending=True, inplace=True)\n",
    "df.reset_index(drop=True,inplace=True)"
   ]
  },
  {
   "cell_type": "code",
   "execution_count": 7,
   "metadata": {
    "collapsed": true
   },
   "outputs": [],
   "source": [
    "raw_feats = [x for x in df.columns.tolist() if x not in['ID','is_train','y']]"
   ]
  },
  {
   "cell_type": "code",
   "execution_count": 12,
   "metadata": {
    "collapsed": true
   },
   "outputs": [],
   "source": [
    "def clean_data_drop(df, clean_cols, correct_dict):\n",
    "    for c in clean_cols:\n",
    "        if c in correct_dict.keys():\n",
    "            df.drop(df[(df[c]>correct_dict[c][1])&(df['is_train']==1)].index,inplace=True)\n",
    "            df.drop(df[(df[c]<correct_dict[c][0])&(df['is_train']==1)].index,inplace=True)\n",
    "    return df"
   ]
  },
  {
   "cell_type": "code",
   "execution_count": 8,
   "metadata": {
    "collapsed": true
   },
   "outputs": [],
   "source": [
    "def clean_data(df, clean_cols, correct_dict):\n",
    "    for c in clean_cols:\n",
    "#         upper = df[c].mean()+2*df[c].std()\n",
    "#         lower = df[c].mean()-2*df[c].std()\n",
    "#         df[c+'_is_out_of_upper'] = (df[c]>upper).astype(np.int32)\n",
    "#         df[c+'_is_out_of_lower'] = (df[c]<lower).astype(np.int32)\n",
    "#         df.loc[df[c]>upper,c] = np.nan\n",
    "#         df.loc[df[c]<lower,c] = np.nan\n",
    "        if c in correct_dict.keys():\n",
    "            df[c+'_is_out_of_upper'] = (df[c]>correct_dict[c][1]).astype(np.int32)#+df[c+'_is_out_of_upper'] \n",
    "            df[c+'_is_out_of_lower'] = (df[c]<correct_dict[c][0]).astype(np.int32)#+df[c+'_is_out_of_lower'] \n",
    "            df.loc[df[c]>correct_dict[c][1],c]=np.nan\n",
    "            df.loc[df[c]<correct_dict[c][0],c]=np.nan\n",
    "    return df"
   ]
  },
  {
   "cell_type": "code",
   "execution_count": 9,
   "metadata": {
    "collapsed": true
   },
   "outputs": [],
   "source": [
    "#异常值处理\n",
    "correct_dict = {\n",
    "    'V_A':(480,60000),\n",
    "    'V_B':(500,60000),\n",
    "    'V_C':(500, 60000),\n",
    "    'env_t':(-30,30),\n",
    "    'I_B':(0, 600),\n",
    "    'I_C':(0, 30),\n",
    "    'P_A':(0,10000),\n",
    "    'P_B':(0,10000),\n",
    "    'P_C':(0,10000),\n",
    "    'P_avg':(0,10000),\n",
    "    'efficiency_A':(0,100),\n",
    "    'efficiency_B':(0,100),\n",
    "    'efficiency_C':(0,100),\n",
    "    'wind_direction':(0,500)\n",
    "}\n",
    "cols = [c for c in df.columns.tolist() if c not in ['is_train','ID','y']]\n",
    "# df = clean_data_drop(df, cols, correct_dict)\n",
    "df = clean_data(df, cols, correct_dict)"
   ]
  },
  {
   "cell_type": "code",
   "execution_count": 10,
   "metadata": {
    "collapsed": true
   },
   "outputs": [],
   "source": [
    "def replace_nan_value(df, cols, replace=True):\n",
    "    df_len = df.shape[0]\n",
    "    for c in tqdm(cols):\n",
    "        i_y =df.columns.get_loc(c)\n",
    "        next_id = []\n",
    "        next_one = []\n",
    "        prev_id = []\n",
    "        prev_one = []\n",
    "        for i in range(df_len):\n",
    "            prev = i-1\n",
    "            while(prev>=0 and df.iat[prev,i_y]<0):\n",
    "                prev-=1\n",
    "            if prev>=0:\n",
    "                prev_one.append(df.iat[prev,i_y])\n",
    "                prev_id.append(prev)\n",
    "            else:\n",
    "                prev_one.append(np.nan)\n",
    "                prev_id.append(0)\n",
    "\n",
    "            next = i+1\n",
    "            while(next<df_len and df.iat[next,i_y]<0):\n",
    "                next+=1\n",
    "            if next<df_len:\n",
    "                next_one.append(df.iat[next,i_y])\n",
    "                next_id.append(next)\n",
    "            else:\n",
    "                next_one.append(np.nan)\n",
    "                next_id.append(df_len)\n",
    "\n",
    "        temp = pd.DataFrame()\n",
    "        temp['next_value'] = next_one\n",
    "        temp['prev_value'] = prev_one\n",
    "        temp['avg_value'] = np.nanmean([temp['next_value'], temp['prev_value']],axis=0)\n",
    "        temp['next_ID'] = next_id\n",
    "        temp['prev_ID'] = prev_id\n",
    "        temp['ID'] = df['ID'].values\n",
    "        temp['interpolation_value'] = temp['prev_value']+(temp['ID']-temp['prev_ID'])/(temp['next_ID']-temp['prev_ID'])*(temp['next_value']-temp['prev_value'])\n",
    "        if replace==True:\n",
    "            df.loc[df[df[c].isnull()].index,c]=temp.loc[df[df[c].isnull()].index,'interpolation_value']\n",
    "        else:\n",
    "            df[c+'_interpolation_value'] = temp['interpolation_value'].values\n",
    "    return df"
   ]
  },
  {
   "cell_type": "code",
   "execution_count": 16,
   "metadata": {},
   "outputs": [
    {
     "data": {
      "application/vnd.jupyter.widget-view+json": {
       "model_id": "a9101c03039b44fea3e81b75a0e7968c"
      }
     },
     "metadata": {},
     "output_type": "display_data"
    },
    {
     "name": "stderr",
     "output_type": "stream",
     "text": [
      "/Users/wyh/anaconda/lib/python3.6/site-packages/ipykernel_launcher.py:33: RuntimeWarning: Mean of empty slice\n"
     ]
    },
    {
     "name": "stdout",
     "output_type": "stream",
     "text": [
      "\n"
     ]
    }
   ],
   "source": [
    "df = replace_nan_value(df, cols)"
   ]
  },
  {
   "cell_type": "code",
   "execution_count": 17,
   "metadata": {
    "collapsed": true
   },
   "outputs": [],
   "source": [
    "def get_fake_feature(df, f_name):\n",
    "    a = df['y']\n",
    "    w=np.isnan(a)\n",
    "    a[w]=0\n",
    "    bt=df['ID']\n",
    "    f=UnivariateSpline(bt,a,w=~w,k=4)\n",
    "    x = df[['ID']]\n",
    "    x['fake_'+f_name] = f(bt)\n",
    "    return x"
   ]
  },
  {
   "cell_type": "code",
   "execution_count": 18,
   "metadata": {
    "collapsed": true
   },
   "outputs": [],
   "source": [
    "# x = get_fake_feature(df, 'light_strength')\n",
    "# df = df.merge(x, on='ID', how='left')\n",
    "\n",
    "# x = get_fake_feature(df, 'env_t')\n",
    "# df = df.merge(x, on='ID', how='left')\n",
    "\n",
    "# x = get_fake_feature(df, 'y')\n",
    "# df = df.merge(x, on='ID', how='left')\n",
    "\n",
    "# x = get_fake_feature(df, 'board_t')\n",
    "# df = df.merge(x, on='ID', how='left')"
   ]
  },
  {
   "cell_type": "code",
   "execution_count": 19,
   "metadata": {},
   "outputs": [
    {
     "data": {
      "text/plain": [
       "(17032, 60)"
      ]
     },
     "execution_count": 19,
     "metadata": {},
     "output_type": "execute_result"
    }
   ],
   "source": [
    "df.shape"
   ]
  },
  {
   "cell_type": "code",
   "execution_count": 11,
   "metadata": {
    "collapsed": true
   },
   "outputs": [],
   "source": [
    "for i in range(len(raw_feats)):\n",
    "    for j in range(i,len(raw_feats)):\n",
    "        df[raw_feats[i]+'_X_'+raw_feats[j]] = df[raw_feats[i]]*df[raw_feats[j]]"
   ]
  },
  {
   "cell_type": "code",
   "execution_count": 12,
   "metadata": {},
   "outputs": [
    {
     "data": {
      "text/plain": [
       "(17409, 240)"
      ]
     },
     "execution_count": 12,
     "metadata": {},
     "output_type": "execute_result"
    }
   ],
   "source": [
    "df.shape"
   ]
  },
  {
   "cell_type": "code",
   "execution_count": 13,
   "metadata": {},
   "outputs": [
    {
     "data": {
      "text/html": [
       "<div>\n",
       "<style>\n",
       "    .dataframe thead tr:only-child th {\n",
       "        text-align: right;\n",
       "    }\n",
       "\n",
       "    .dataframe thead th {\n",
       "        text-align: left;\n",
       "    }\n",
       "\n",
       "    .dataframe tbody tr th {\n",
       "        vertical-align: top;\n",
       "    }\n",
       "</style>\n",
       "<table border=\"1\" class=\"dataframe\">\n",
       "  <thead>\n",
       "    <tr style=\"text-align: right;\">\n",
       "      <th></th>\n",
       "      <th>ID</th>\n",
       "      <th>is_train</th>\n",
       "      <th>light_strength</th>\n",
       "      <th>P_A</th>\n",
       "      <th>P_B</th>\n",
       "      <th>P_C</th>\n",
       "      <th>y</th>\n",
       "      <th>P_avg</th>\n",
       "      <th>board_t</th>\n",
       "      <th>env_t</th>\n",
       "      <th>...</th>\n",
       "      <th>efficiency_B_X_efficiency_B</th>\n",
       "      <th>efficiency_B_X_efficiency_C</th>\n",
       "      <th>efficiency_B_X_wind_direction</th>\n",
       "      <th>efficiency_B_X_wind_speed</th>\n",
       "      <th>efficiency_C_X_efficiency_C</th>\n",
       "      <th>efficiency_C_X_wind_direction</th>\n",
       "      <th>efficiency_C_X_wind_speed</th>\n",
       "      <th>wind_direction_X_wind_direction</th>\n",
       "      <th>wind_direction_X_wind_speed</th>\n",
       "      <th>wind_speed_X_wind_speed</th>\n",
       "    </tr>\n",
       "  </thead>\n",
       "  <tbody>\n",
       "    <tr>\n",
       "      <th>0</th>\n",
       "      <td>1</td>\n",
       "      <td>0</td>\n",
       "      <td>1</td>\n",
       "      <td>0.00</td>\n",
       "      <td>0.00</td>\n",
       "      <td>0.00</td>\n",
       "      <td>NaN</td>\n",
       "      <td>0.00</td>\n",
       "      <td>0.01</td>\n",
       "      <td>0.1</td>\n",
       "      <td>...</td>\n",
       "      <td>0.0000</td>\n",
       "      <td>0.0</td>\n",
       "      <td>0.00</td>\n",
       "      <td>0.000</td>\n",
       "      <td>0.0</td>\n",
       "      <td>0.0</td>\n",
       "      <td>0.0</td>\n",
       "      <td>1.0</td>\n",
       "      <td>0.1</td>\n",
       "      <td>0.01</td>\n",
       "    </tr>\n",
       "    <tr>\n",
       "      <th>1</th>\n",
       "      <td>9</td>\n",
       "      <td>0</td>\n",
       "      <td>13</td>\n",
       "      <td>909.72</td>\n",
       "      <td>148.05</td>\n",
       "      <td>1031.03</td>\n",
       "      <td>NaN</td>\n",
       "      <td>696.27</td>\n",
       "      <td>-19.33</td>\n",
       "      <td>-17.5</td>\n",
       "      <td>...</td>\n",
       "      <td>1778.3089</td>\n",
       "      <td>NaN</td>\n",
       "      <td>11512.41</td>\n",
       "      <td>12.651</td>\n",
       "      <td>NaN</td>\n",
       "      <td>NaN</td>\n",
       "      <td>NaN</td>\n",
       "      <td>74529.0</td>\n",
       "      <td>81.9</td>\n",
       "      <td>0.09</td>\n",
       "    </tr>\n",
       "    <tr>\n",
       "      <th>2</th>\n",
       "      <td>10</td>\n",
       "      <td>1</td>\n",
       "      <td>34</td>\n",
       "      <td>976.86</td>\n",
       "      <td>155.98</td>\n",
       "      <td>1087.50</td>\n",
       "      <td>1.437752</td>\n",
       "      <td>740.11</td>\n",
       "      <td>-19.14</td>\n",
       "      <td>-17.4</td>\n",
       "      <td>...</td>\n",
       "      <td>288.3204</td>\n",
       "      <td>NaN</td>\n",
       "      <td>4618.56</td>\n",
       "      <td>10.188</td>\n",
       "      <td>NaN</td>\n",
       "      <td>NaN</td>\n",
       "      <td>NaN</td>\n",
       "      <td>73984.0</td>\n",
       "      <td>163.2</td>\n",
       "      <td>0.36</td>\n",
       "    </tr>\n",
       "    <tr>\n",
       "      <th>3</th>\n",
       "      <td>11</td>\n",
       "      <td>1</td>\n",
       "      <td>30</td>\n",
       "      <td>1128.40</td>\n",
       "      <td>172.08</td>\n",
       "      <td>1132.56</td>\n",
       "      <td>1.692575</td>\n",
       "      <td>811.01</td>\n",
       "      <td>-18.73</td>\n",
       "      <td>-17.3</td>\n",
       "      <td>...</td>\n",
       "      <td>449.4400</td>\n",
       "      <td>NaN</td>\n",
       "      <td>5830.00</td>\n",
       "      <td>16.960</td>\n",
       "      <td>NaN</td>\n",
       "      <td>NaN</td>\n",
       "      <td>NaN</td>\n",
       "      <td>75625.0</td>\n",
       "      <td>220.0</td>\n",
       "      <td>0.64</td>\n",
       "    </tr>\n",
       "    <tr>\n",
       "      <th>4</th>\n",
       "      <td>12</td>\n",
       "      <td>1</td>\n",
       "      <td>41</td>\n",
       "      <td>1279.25</td>\n",
       "      <td>166.06</td>\n",
       "      <td>1310.40</td>\n",
       "      <td>1.975787</td>\n",
       "      <td>918.57</td>\n",
       "      <td>-17.54</td>\n",
       "      <td>-17.0</td>\n",
       "      <td>...</td>\n",
       "      <td>222.3081</td>\n",
       "      <td>NaN</td>\n",
       "      <td>4219.53</td>\n",
       "      <td>16.401</td>\n",
       "      <td>NaN</td>\n",
       "      <td>NaN</td>\n",
       "      <td>NaN</td>\n",
       "      <td>80089.0</td>\n",
       "      <td>311.3</td>\n",
       "      <td>1.21</td>\n",
       "    </tr>\n",
       "  </tbody>\n",
       "</table>\n",
       "<p>5 rows × 240 columns</p>\n",
       "</div>"
      ],
      "text/plain": [
       "   ID  is_train  light_strength      P_A     P_B      P_C         y   P_avg  \\\n",
       "0   1         0               1     0.00    0.00     0.00       NaN    0.00   \n",
       "1   9         0              13   909.72  148.05  1031.03       NaN  696.27   \n",
       "2  10         1              34   976.86  155.98  1087.50  1.437752  740.11   \n",
       "3  11         1              30  1128.40  172.08  1132.56  1.692575  811.01   \n",
       "4  12         1              41  1279.25  166.06  1310.40  1.975787  918.57   \n",
       "\n",
       "   board_t  env_t           ...             efficiency_B_X_efficiency_B  \\\n",
       "0     0.01    0.1           ...                                  0.0000   \n",
       "1   -19.33  -17.5           ...                               1778.3089   \n",
       "2   -19.14  -17.4           ...                                288.3204   \n",
       "3   -18.73  -17.3           ...                                449.4400   \n",
       "4   -17.54  -17.0           ...                                222.3081   \n",
       "\n",
       "   efficiency_B_X_efficiency_C  efficiency_B_X_wind_direction  \\\n",
       "0                          0.0                           0.00   \n",
       "1                          NaN                       11512.41   \n",
       "2                          NaN                        4618.56   \n",
       "3                          NaN                        5830.00   \n",
       "4                          NaN                        4219.53   \n",
       "\n",
       "   efficiency_B_X_wind_speed  efficiency_C_X_efficiency_C  \\\n",
       "0                      0.000                          0.0   \n",
       "1                     12.651                          NaN   \n",
       "2                     10.188                          NaN   \n",
       "3                     16.960                          NaN   \n",
       "4                     16.401                          NaN   \n",
       "\n",
       "   efficiency_C_X_wind_direction  efficiency_C_X_wind_speed  \\\n",
       "0                            0.0                        0.0   \n",
       "1                            NaN                        NaN   \n",
       "2                            NaN                        NaN   \n",
       "3                            NaN                        NaN   \n",
       "4                            NaN                        NaN   \n",
       "\n",
       "   wind_direction_X_wind_direction  wind_direction_X_wind_speed  \\\n",
       "0                              1.0                          0.1   \n",
       "1                          74529.0                         81.9   \n",
       "2                          73984.0                        163.2   \n",
       "3                          75625.0                        220.0   \n",
       "4                          80089.0                        311.3   \n",
       "\n",
       "   wind_speed_X_wind_speed  \n",
       "0                     0.01  \n",
       "1                     0.09  \n",
       "2                     0.36  \n",
       "3                     0.64  \n",
       "4                     1.21  \n",
       "\n",
       "[5 rows x 240 columns]"
      ]
     },
     "execution_count": 13,
     "metadata": {},
     "output_type": "execute_result"
    }
   ],
   "source": [
    "df.head()"
   ]
  },
  {
   "cell_type": "code",
   "execution_count": 14,
   "metadata": {
    "collapsed": true
   },
   "outputs": [],
   "source": [
    "train = df[df['is_train']==1]\n",
    "test = df[df['is_train']==0]"
   ]
  },
  {
   "cell_type": "code",
   "execution_count": 15,
   "metadata": {},
   "outputs": [
    {
     "data": {
      "text/plain": [
       "(8409, 240)"
      ]
     },
     "execution_count": 15,
     "metadata": {},
     "output_type": "execute_result"
    }
   ],
   "source": [
    "test.shape"
   ]
  },
  {
   "cell_type": "code",
   "execution_count": 16,
   "metadata": {
    "collapsed": true
   },
   "outputs": [],
   "source": [
    "params = {\n",
    "    'boosting_type': 'gbdt',\n",
    "    'objective': 'regression_l2',\n",
    "    'metric': 'mse',\n",
    "    'num_leaves': 32,\n",
    "    'learning_rate': 0.02,\n",
    "    'feature_fraction': 0.7,\n",
    "    'bagging_fraction': 0.9,\n",
    "    'bagging_freq': 1,\n",
    "    'verbose': 0,\n",
    "    'lambda_l1':1,\n",
    "    'lambda_l2':0.1\n",
    "}"
   ]
  },
  {
   "cell_type": "code",
   "execution_count": 17,
   "metadata": {
    "collapsed": true
   },
   "outputs": [],
   "source": [
    "predictor = [c for c in train.columns.tolist() if c not in['ID','y','is_train']]"
   ]
  },
  {
   "cell_type": "code",
   "execution_count": 18,
   "metadata": {},
   "outputs": [
    {
     "data": {
      "text/plain": [
       "237"
      ]
     },
     "execution_count": 18,
     "metadata": {},
     "output_type": "execute_result"
    }
   ],
   "source": [
    "len(predictor)"
   ]
  },
  {
   "cell_type": "code",
   "execution_count": 19,
   "metadata": {},
   "outputs": [
    {
     "name": "stdout",
     "output_type": "stream",
     "text": [
      "-------------------------------------\n",
      "fold: 0\n",
      "Training until validation scores don't improve for 100 rounds.\n",
      "[500]\tvalid's l2: 0.0635889\tvalid's score: 0.798615\n",
      "[1000]\tvalid's l2: 0.0617023\tvalid's score: 0.801026\n",
      "[1500]\tvalid's l2: 0.0613442\tvalid's score: 0.801489\n",
      "[2000]\tvalid's l2: 0.0611718\tvalid's score: 0.801713\n",
      "Early stopping, best iteration is:\n",
      "[2299]\tvalid's l2: 0.0611101\tvalid's score: 0.801793\n",
      "Training until validation scores don't improve for 100 rounds.\n",
      "[500]\tvalid's l2: 0.0220506\tvalid's score: 0.870705\n",
      "[1000]\tvalid's l2: 0.0181573\tvalid's score: 0.881252\n",
      "[1500]\tvalid's l2: 0.0168868\tvalid's score: 0.884995\n",
      "[2000]\tvalid's l2: 0.0163634\tvalid's score: 0.886588\n",
      "Early stopping, best iteration is:\n",
      "[2242]\tvalid's l2: 0.0162382\tvalid's score: 0.886974\n",
      "Training until validation scores don't improve for 100 rounds.\n",
      "[500]\tvalid's l2: 0.0103041\tvalid's score: 0.907845\n",
      "[1000]\tvalid's l2: 0.00904897\tvalid's score: 0.913137\n",
      "[1500]\tvalid's l2: 0.00893108\tvalid's score: 0.913656\n",
      "Early stopping, best iteration is:\n",
      "[1420]\tvalid's l2: 0.00892101\tvalid's score: 0.9137\n",
      "Training until validation scores don't improve for 100 rounds.\n",
      "[500]\tvalid's l2: 0.0466391\tvalid's score: 0.822395\n",
      "[1000]\tvalid's l2: 0.0460656\tvalid's score: 0.823297\n",
      "Early stopping, best iteration is:\n",
      "[1079]\tvalid's l2: 0.0460253\tvalid's score: 0.82336\n",
      "Training until validation scores don't improve for 100 rounds.\n",
      "[500]\tvalid's l2: 0.0152686\tvalid's score: 0.890023\n",
      "[1000]\tvalid's l2: 0.0133223\tvalid's score: 0.896522\n",
      "[1500]\tvalid's l2: 0.0129835\tvalid's score: 0.89771\n",
      "Early stopping, best iteration is:\n",
      "[1672]\tvalid's l2: 0.0129355\tvalid's score: 0.89788\n",
      "-------------------------------------\n",
      "fold: 1\n",
      "Training until validation scores don't improve for 100 rounds.\n",
      "[500]\tvalid's l2: 0.0624351\tvalid's score: 0.800083\n",
      "[1000]\tvalid's l2: 0.0614029\tvalid's score: 0.801413\n",
      "[1500]\tvalid's l2: 0.0601957\tvalid's score: 0.802988\n",
      "[2000]\tvalid's l2: 0.0595122\tvalid's score: 0.80389\n",
      "[2500]\tvalid's l2: 0.0591143\tvalid's score: 0.804418\n",
      "[3000]\tvalid's l2: 0.0588506\tvalid's score: 0.80477\n",
      "[3500]\tvalid's l2: 0.0587033\tvalid's score: 0.804967\n",
      "[4000]\tvalid's l2: 0.058575\tvalid's score: 0.805138\n",
      "[4500]\tvalid's l2: 0.0584843\tvalid's score: 0.80526\n",
      "[5000]\tvalid's l2: 0.0584163\tvalid's score: 0.805351\n",
      "Did not meet early stopping. Best iteration is:\n",
      "[5000]\tvalid's l2: 0.0584163\tvalid's score: 0.805351\n",
      "Training until validation scores don't improve for 100 rounds.\n",
      "[500]\tvalid's l2: 0.0120392\tvalid's score: 0.901126\n",
      "Early stopping, best iteration is:\n",
      "[776]\tvalid's l2: 0.0114478\tvalid's score: 0.903347\n",
      "Training until validation scores don't improve for 100 rounds.\n",
      "Early stopping, best iteration is:\n",
      "[340]\tvalid's l2: 0.0249868\tvalid's score: 0.863504\n",
      "Training until validation scores don't improve for 100 rounds.\n",
      "[500]\tvalid's l2: 0.0448146\tvalid's score: 0.82529\n",
      "[1000]\tvalid's l2: 0.0426161\tvalid's score: 0.828887\n",
      "[1500]\tvalid's l2: 0.0411285\tvalid's score: 0.831392\n",
      "[2000]\tvalid's l2: 0.04003\tvalid's score: 0.833281\n",
      "[2500]\tvalid's l2: 0.0390689\tvalid's score: 0.834962\n",
      "[3000]\tvalid's l2: 0.0384818\tvalid's score: 0.836003\n",
      "[3500]\tvalid's l2: 0.0381177\tvalid's score: 0.836654\n",
      "[4000]\tvalid's l2: 0.0379134\tvalid's score: 0.837021\n",
      "[4500]\tvalid's l2: 0.0377513\tvalid's score: 0.837313\n",
      "[5000]\tvalid's l2: 0.0376441\tvalid's score: 0.837506\n",
      "Did not meet early stopping. Best iteration is:\n",
      "[4991]\tvalid's l2: 0.0376439\tvalid's score: 0.837507\n",
      "Training until validation scores don't improve for 100 rounds.\n",
      "[500]\tvalid's l2: 0.0176068\tvalid's score: 0.882853\n",
      "[1000]\tvalid's l2: 0.0161602\tvalid's score: 0.887215\n",
      "Early stopping, best iteration is:\n",
      "[1395]\tvalid's l2: 0.0159072\tvalid's score: 0.888002\n",
      "-------------------------------------\n",
      "fold: 2\n",
      "Training until validation scores don't improve for 100 rounds.\n",
      "[500]\tvalid's l2: 0.0406276\tvalid's score: 0.832249\n",
      "[1000]\tvalid's l2: 0.039741\tvalid's score: 0.833784\n",
      "[1500]\tvalid's l2: 0.0390141\tvalid's score: 0.835059\n",
      "[2000]\tvalid's l2: 0.0382985\tvalid's score: 0.83633\n",
      "[2500]\tvalid's l2: 0.0380153\tvalid's score: 0.836837\n",
      "Early stopping, best iteration is:\n",
      "[2612]\tvalid's l2: 0.0379781\tvalid's score: 0.836904\n",
      "Training until validation scores don't improve for 100 rounds.\n",
      "[500]\tvalid's l2: 0.0633871\tvalid's score: 0.79887\n",
      "Early stopping, best iteration is:\n",
      "[768]\tvalid's l2: 0.0630748\tvalid's score: 0.799267\n",
      "Training until validation scores don't improve for 100 rounds.\n",
      "[500]\tvalid's l2: 0.0143651\tvalid's score: 0.892973\n",
      "[1000]\tvalid's l2: 0.0123548\tvalid's score: 0.899967\n",
      "[1500]\tvalid's l2: 0.0119497\tvalid's score: 0.901458\n",
      "Early stopping, best iteration is:\n",
      "[1721]\tvalid's l2: 0.0118908\tvalid's score: 0.901677\n",
      "Training until validation scores don't improve for 100 rounds.\n",
      "[500]\tvalid's l2: 0.00898694\tvalid's score: 0.913409\n",
      "[1000]\tvalid's l2: 0.00859968\tvalid's score: 0.915135\n",
      "Early stopping, best iteration is:\n",
      "[954]\tvalid's l2: 0.0085891\tvalid's score: 0.915183\n",
      "Training until validation scores don't improve for 100 rounds.\n",
      "[500]\tvalid's l2: 0.0293319\tvalid's score: 0.853777\n",
      "[1000]\tvalid's l2: 0.0257583\tvalid's score: 0.861702\n",
      "[1500]\tvalid's l2: 0.0250078\tvalid's score: 0.863455\n",
      "Early stopping, best iteration is:\n",
      "[1687]\tvalid's l2: 0.024883\tvalid's score: 0.863749\n",
      "-------------------------------------\n",
      "fold: 3\n",
      "Training until validation scores don't improve for 100 rounds.\n",
      "Early stopping, best iteration is:\n",
      "[296]\tvalid's l2: 0.022218\tvalid's score: 0.870279\n",
      "Training until validation scores don't improve for 100 rounds.\n",
      "[500]\tvalid's l2: 0.0603971\tvalid's score: 0.802724\n",
      "[1000]\tvalid's l2: 0.0582261\tvalid's score: 0.805607\n",
      "[1500]\tvalid's l2: 0.0579448\tvalid's score: 0.805985\n",
      "[2000]\tvalid's l2: 0.0578021\tvalid's score: 0.806178\n",
      "Early stopping, best iteration is:\n",
      "[1911]\tvalid's l2: 0.0577966\tvalid's score: 0.806186\n",
      "Training until validation scores don't improve for 100 rounds.\n",
      "[500]\tvalid's l2: 0.0317258\tvalid's score: 0.848812\n",
      "[1000]\tvalid's l2: 0.0300506\tvalid's score: 0.85226\n",
      "[1500]\tvalid's l2: 0.0294762\tvalid's score: 0.853471\n",
      "[2000]\tvalid's l2: 0.029084\tvalid's score: 0.854306\n",
      "Early stopping, best iteration is:\n",
      "[2226]\tvalid's l2: 0.028985\tvalid's score: 0.854518\n",
      "Training until validation scores don't improve for 100 rounds.\n",
      "[500]\tvalid's l2: 0.0312558\tvalid's score: 0.849767\n",
      "[1000]\tvalid's l2: 0.0283541\tvalid's score: 0.855881\n",
      "[1500]\tvalid's l2: 0.0270786\tvalid's score: 0.858697\n",
      "[2000]\tvalid's l2: 0.0263574\tvalid's score: 0.860326\n",
      "[2500]\tvalid's l2: 0.0259147\tvalid's score: 0.861341\n",
      "[3000]\tvalid's l2: 0.0256159\tvalid's score: 0.862032\n",
      "[3500]\tvalid's l2: 0.025494\tvalid's score: 0.862315\n",
      "Early stopping, best iteration is:\n",
      "[3800]\tvalid's l2: 0.0253802\tvalid's score: 0.862581\n",
      "Training until validation scores don't improve for 100 rounds.\n",
      "[500]\tvalid's l2: 0.0193603\tvalid's score: 0.877854\n",
      "[1000]\tvalid's l2: 0.0176401\tvalid's score: 0.882756\n",
      "[1500]\tvalid's l2: 0.0173653\tvalid's score: 0.883566\n",
      "[2000]\tvalid's l2: 0.0173058\tvalid's score: 0.883742\n",
      "Early stopping, best iteration is:\n",
      "[2126]\tvalid's l2: 0.0172826\tvalid's score: 0.883811\n",
      "-------------------------------------\n",
      "fold: 4\n",
      "Training until validation scores don't improve for 100 rounds.\n",
      "[500]\tvalid's l2: 0.0140539\tvalid's score: 0.894015\n",
      "[1000]\tvalid's l2: 0.0127159\tvalid's score: 0.898663\n",
      "[1500]\tvalid's l2: 0.0125666\tvalid's score: 0.899199\n",
      "[2000]\tvalid's l2: 0.012475\tvalid's score: 0.89953\n",
      "Early stopping, best iteration is:\n",
      "[1962]\tvalid's l2: 0.0124677\tvalid's score: 0.899556\n",
      "Training until validation scores don't improve for 100 rounds.\n",
      "[500]\tvalid's l2: 0.0911047\tvalid's score: 0.768146\n",
      "[1000]\tvalid's l2: 0.0892129\tvalid's score: 0.770009\n",
      "[1500]\tvalid's l2: 0.0876224\tvalid's score: 0.771599\n",
      "[2000]\tvalid's l2: 0.0857994\tvalid's score: 0.773446\n",
      "[2500]\tvalid's l2: 0.0840236\tvalid's score: 0.775273\n",
      "[3000]\tvalid's l2: 0.0826586\tvalid's score: 0.776697\n",
      "[3500]\tvalid's l2: 0.0817943\tvalid's score: 0.777607\n",
      "[4000]\tvalid's l2: 0.081034\tvalid's score: 0.778413\n",
      "[4500]\tvalid's l2: 0.0805871\tvalid's score: 0.77889\n",
      "[5000]\tvalid's l2: 0.0803486\tvalid's score: 0.779145\n",
      "Did not meet early stopping. Best iteration is:\n",
      "[4998]\tvalid's l2: 0.0803486\tvalid's score: 0.779145\n",
      "Training until validation scores don't improve for 100 rounds.\n",
      "Early stopping, best iteration is:\n",
      "[348]\tvalid's l2: 0.0289912\tvalid's score: 0.854505\n"
     ]
    },
    {
     "name": "stdout",
     "output_type": "stream",
     "text": [
      "Training until validation scores don't improve for 100 rounds.\n",
      "[500]\tvalid's l2: 0.0168148\tvalid's score: 0.885213\n",
      "Early stopping, best iteration is:\n",
      "[800]\tvalid's l2: 0.0163801\tvalid's score: 0.886537\n",
      "Training until validation scores don't improve for 100 rounds.\n",
      "[500]\tvalid's l2: 0.0198647\tvalid's score: 0.876469\n",
      "Early stopping, best iteration is:\n",
      "[628]\tvalid's l2: 0.0197743\tvalid's score: 0.876715\n"
     ]
    }
   ],
   "source": [
    "test_predicts = []\n",
    "val_preds = []\n",
    "\n",
    "# log_test_predicts = []\n",
    "# log_val_predicts = []\n",
    "for idx, seed in enumerate([1,2,3,4,5]):\n",
    "    kf = KFold(5, shuffle=True, random_state=seed)\n",
    "    print('-------------------------------------')\n",
    "    print('fold:',idx)\n",
    "    val_preds.append(np.zeros(train.shape[0]))\n",
    "    for n_fold, (tra_idx, val_idx) in enumerate(kf.split(train)):\n",
    "        tra = train.iloc[tra_idx]\n",
    "        val = train.iloc[val_idx]\n",
    "\n",
    "        train_set = lightgbm.Dataset(\n",
    "            tra[predictor],\n",
    "            tra['y']\n",
    "        )\n",
    "\n",
    "        validation_set = lightgbm.Dataset(\n",
    "            val[predictor],\n",
    "            val['y']\n",
    "        )\n",
    "\n",
    "        model = lightgbm.train(params, train_set, num_boost_round=5000,\n",
    "                              valid_sets= [validation_set],\n",
    "                              valid_names=['valid'],\n",
    "                              early_stopping_rounds=100,\n",
    "                               feval=my_val,\n",
    "                              verbose_eval=500)\n",
    "\n",
    "        val_preds[idx][val_idx] = model.predict(val[predictor])\n",
    "        test_predicts.append(model.predict(test[predictor]))\n",
    "        \n",
    "#         train_set = lightgbm.Dataset(\n",
    "#             tra[predictor],\n",
    "#             np.log1p(tra['y'])\n",
    "#         )\n",
    "\n",
    "#         validation_set = lightgbm.Dataset(\n",
    "#             val[predictor],\n",
    "#             np.log1p(val['y'])\n",
    "#         )\n",
    "\n",
    "#         model = lightgbm.train(params, train_set, num_boost_round=5000,\n",
    "#                               valid_sets= [validation_set],\n",
    "#                               valid_names=['valid'],\n",
    "#                               early_stopping_rounds=100,\n",
    "#                                feval=my_val,\n",
    "#                               verbose_eval=500)\n",
    "\n",
    "#         val_preds[idx][val_idx] = np.expm1(model.predict(val[predictor]))\n",
    "#         test_predicts.append(np.expm1(model.predict(test[predictor])))"
   ]
  },
  {
   "cell_type": "code",
   "execution_count": 20,
   "metadata": {},
   "outputs": [
    {
     "name": "stdout",
     "output_type": "stream",
     "text": [
      "local cv: 0.855826196675\n"
     ]
    }
   ],
   "source": [
    "print('local cv:',1/(1+np.sqrt(mean_squared_error(train['y'],np.mean(val_preds,axis=0)))))"
   ]
  },
  {
   "cell_type": "code",
   "execution_count": 21,
   "metadata": {},
   "outputs": [
    {
     "data": {
      "text/plain": [
       "P_A_X_P_avg      1.148891e+06\n",
       "P_avg_X_I_A      4.568460e+05\n",
       "P_A              7.117106e+04\n",
       "P_A_X_I_C        6.346515e+04\n",
       "I_A_X_I_C        4.890131e+04\n",
       "V_A_X_I_A        4.426643e+04\n",
       "P_A_X_I_B        3.149557e+04\n",
       "P_avg_X_P_avg    1.908415e+04\n",
       "P_avg            1.552673e+04\n",
       "I_A              8.486336e+03\n",
       "P_avg_X_I_C      8.015190e+03\n",
       "P_C_X_I_A        6.071723e+03\n",
       "P_B_X_I_A        5.278108e+03\n",
       "P_A_X_P_A        5.171490e+03\n",
       "P_A_X_I_A        4.550488e+03\n",
       "P_B_X_I_C        3.652392e+03\n",
       "V_B_X_I_A        2.991165e+03\n",
       "V_C_X_I_A        2.697902e+03\n",
       "I_A_X_I_B        2.534857e+03\n",
       "P_A_X_P_C        1.710525e+03\n",
       "dtype: float64"
      ]
     },
     "execution_count": 21,
     "metadata": {},
     "output_type": "execute_result"
    }
   ],
   "source": [
    "feat_imp = pd.Series(model.feature_importance(importance_type='gain'),\n",
    "          index=model.feature_name())\n",
    "feat_imp.sort_values(ascending=False,inplace=True)\n",
    "feat_imp.head(20)"
   ]
  },
  {
   "cell_type": "code",
   "execution_count": 22,
   "metadata": {},
   "outputs": [
    {
     "data": {
      "text/plain": [
       "(28,)"
      ]
     },
     "execution_count": 22,
     "metadata": {},
     "output_type": "execute_result"
    }
   ],
   "source": [
    "feat_imp[feat_imp<1].shape"
   ]
  },
  {
   "cell_type": "code",
   "execution_count": 23,
   "metadata": {},
   "outputs": [
    {
     "name": "stderr",
     "output_type": "stream",
     "text": [
      "/Users/wyh/anaconda/lib/python3.6/site-packages/ipykernel_launcher.py:1: SettingWithCopyWarning: \n",
      "A value is trying to be set on a copy of a slice from a DataFrame.\n",
      "Try using .loc[row_indexer,col_indexer] = value instead\n",
      "\n",
      "See the caveats in the documentation: http://pandas.pydata.org/pandas-docs/stable/indexing.html#indexing-view-versus-copy\n",
      "  \"\"\"Entry point for launching an IPython kernel.\n"
     ]
    }
   ],
   "source": [
    "test['ans'] = np.mean(test_predicts, axis=0)"
   ]
  },
  {
   "cell_type": "code",
   "execution_count": 24,
   "metadata": {},
   "outputs": [
    {
     "ename": "NameError",
     "evalue": "name 'special_missing_test_id' is not defined",
     "output_type": "error",
     "traceback": [
      "\u001b[0;31m---------------------------------------------------------------------------\u001b[0m",
      "\u001b[0;31mNameError\u001b[0m                                 Traceback (most recent call last)",
      "\u001b[0;32m<ipython-input-24-4a6d55528fe9>\u001b[0m in \u001b[0;36m<module>\u001b[0;34m()\u001b[0m\n\u001b[0;32m----> 1\u001b[0;31m \u001b[0mtest\u001b[0m\u001b[0;34m.\u001b[0m\u001b[0mloc\u001b[0m\u001b[0;34m[\u001b[0m\u001b[0mtest\u001b[0m\u001b[0;34m[\u001b[0m\u001b[0mtest\u001b[0m\u001b[0;34m[\u001b[0m\u001b[0;34m'ID'\u001b[0m\u001b[0;34m]\u001b[0m\u001b[0;34m.\u001b[0m\u001b[0misin\u001b[0m\u001b[0;34m(\u001b[0m\u001b[0mspecial_missing_test_id\u001b[0m\u001b[0;34m.\u001b[0m\u001b[0mvalues\u001b[0m\u001b[0;34m.\u001b[0m\u001b[0mtolist\u001b[0m\u001b[0;34m(\u001b[0m\u001b[0;34m)\u001b[0m\u001b[0;34m)\u001b[0m\u001b[0;34m]\u001b[0m\u001b[0;34m.\u001b[0m\u001b[0mindex\u001b[0m\u001b[0;34m,\u001b[0m\u001b[0;34m'ans'\u001b[0m\u001b[0;34m]\u001b[0m\u001b[0;34m=\u001b[0m\u001b[0;36m0.379993053\u001b[0m\u001b[0;34m\u001b[0m\u001b[0m\n\u001b[0m",
      "\u001b[0;31mNameError\u001b[0m: name 'special_missing_test_id' is not defined"
     ]
    }
   ],
   "source": [
    "test.loc[test[test['ID'].isin(special_missing_test_id.values.tolist())].index,'ans']=0.379993053"
   ]
  },
  {
   "cell_type": "code",
   "execution_count": 25,
   "metadata": {
    "collapsed": true
   },
   "outputs": [],
   "source": [
    "test[['ID','ans']].to_csv('../result/0811-8558-noreplace.csv',header=False, index=False)"
   ]
  },
  {
   "cell_type": "code",
   "execution_count": 37,
   "metadata": {},
   "outputs": [
    {
     "data": {
      "text/plain": [
       "<matplotlib.axes._subplots.AxesSubplot at 0x10dcec048>"
      ]
     },
     "execution_count": 37,
     "metadata": {},
     "output_type": "execute_result"
    },
    {
     "data": {
      "image/png": "[encoded data removed]",
      "text/plain": [
       "<matplotlib.figure.Figure at 0x10dcecd68>"
      ]
     },
     "metadata": {},
     "output_type": "display_data"
    }
   ],
   "source": [
    "test['ans'].hist()"
   ]
  },
  {
   "cell_type": "code",
   "execution_count": 38,
   "metadata": {},
   "outputs": [
    {
     "data": {
      "text/plain": [
       "count    8409.000000\n",
       "mean        5.700563\n",
       "std         3.456362\n",
       "min         0.009845\n",
       "25%         2.523996\n",
       "50%         5.723482\n",
       "75%         8.894716\n",
       "max        12.075712\n",
       "Name: ans, dtype: float64"
      ]
     },
     "execution_count": 38,
     "metadata": {},
     "output_type": "execute_result"
    }
   ],
   "source": [
    "test['ans'].describe()"
   ]
  },
  {
   "cell_type": "code",
   "execution_count": 39,
   "metadata": {},
   "outputs": [
    {
     "data": {
      "text/plain": [
       "<matplotlib.axes._subplots.AxesSubplot at 0x10dcb9198>"
      ]
     },
     "execution_count": 39,
     "metadata": {},
     "output_type": "execute_result"
    },
    {
     "data": {
      "image/png": "[encoded data removed]",
      "text/plain": [
       "<matplotlib.figure.Figure at 0x10e2c7ac8>"
      ]
     },
     "metadata": {},
     "output_type": "display_data"
    }
   ],
   "source": [
    "train['y'].hist()"
   ]
  },
  {
   "cell_type": "code",
   "execution_count": 40,
   "metadata": {},
   "outputs": [
    {
     "data": {
      "text/plain": [
       "count    8623.000000\n",
       "mean        5.874755\n",
       "std         3.409577\n",
       "min        -0.111311\n",
       "25%         2.797747\n",
       "50%         5.993159\n",
       "75%         9.018946\n",
       "max        12.288756\n",
       "Name: y, dtype: float64"
      ]
     },
     "execution_count": 40,
     "metadata": {},
     "output_type": "execute_result"
    }
   ],
   "source": [
    "train['y'].describe()"
   ]
  },
  {
   "cell_type": "code",
   "execution_count": null,
   "metadata": {
    "collapsed": true
   },
   "outputs": [],
   "source": []
  }
 ],
 "metadata": {
  "kernelspec": {
   "display_name": "Python 3",
   "language": "python",
   "name": "python3"
  },
  "language_info": {
   "codemirror_mode": {
    "name": "ipython",
    "version": 3
   },
   "file_extension": ".py",
   "mimetype": "text/x-python",
   "name": "python",
   "nbconvert_exporter": "python",
   "pygments_lexer": "ipython3",
   "version": "3.6.1"
  }
 },
 "nbformat": 4,
 "nbformat_minor": 2
}
