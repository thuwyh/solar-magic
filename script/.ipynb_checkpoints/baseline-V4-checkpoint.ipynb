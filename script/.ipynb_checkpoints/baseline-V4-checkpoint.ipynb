{
 "cells": [
  {
   "cell_type": "raw",
   "metadata": {},
   "source": [
    "引入时序信号处理的思路"
   ]
  },
  {
   "cell_type": "code",
   "execution_count": 1,
   "metadata": {
    "collapsed": true
   },
   "outputs": [],
   "source": [
    "import pandas as pd\n",
    "import matplotlib.pyplot as plt\n",
    "import numpy as np\n",
    "\n",
    "import lightgbm\n",
    "\n",
    "from sklearn.model_selection import KFold\n",
    "from sklearn.metrics import mean_squared_error\n",
    "\n",
    "from scipy.interpolate import UnivariateSpline\n",
    "from tqdm import tqdm_notebook as tqdm\n",
    "\n",
    "%matplotlib inline"
   ]
  },
  {
   "cell_type": "code",
   "execution_count": 2,
   "metadata": {
    "collapsed": true
   },
   "outputs": [],
   "source": [
    "rep_cols = {'ID':'ID', \n",
    " '板温':'board_t', \n",
    " '现场温度':'env_t', \n",
    " '光照强度':'light_strength', \n",
    " '转换效率':'efficiency', \n",
    " '转换效率A':'efficiency_A', \n",
    " '转换效率B':'efficiency_B', \n",
    " '转换效率C':'efficiency_C', \n",
    " '电压A':'V_A',\n",
    " '电压B':'V_B', \n",
    " '电压C':'V_C', \n",
    " '电流A':'I_A', \n",
    " '电流B':'I_B', \n",
    " '电流C':'I_C', \n",
    " '功率A':'P_A', \n",
    " '功率B':'P_B', \n",
    " '功率C':'P_C', \n",
    " '平均功率':'P_avg', \n",
    " '风速':'wind_speed',\n",
    " '风向':'wind_direction', \n",
    " '发电量':'y'\n",
    "}"
   ]
  },
  {
   "cell_type": "code",
   "execution_count": 3,
   "metadata": {
    "collapsed": true
   },
   "outputs": [],
   "source": [
    "def my_val(preds, train_data):\n",
    "    label = train_data.get_label()\n",
    "    return 'score', 1/(1+np.sqrt(mean_squared_error(preds, label))), True"
   ]
  },
  {
   "cell_type": "code",
   "execution_count": 4,
   "metadata": {
    "collapsed": true
   },
   "outputs": [],
   "source": [
    "def my_obj(preds, train_data):\n",
    "    labels = train_deata.get_label()\n",
    "    "
   ]
  },
  {
   "cell_type": "code",
   "execution_count": 5,
   "metadata": {},
   "outputs": [
    {
     "name": "stdout",
     "output_type": "stream",
     "text": [
      "(8409, 21)\n"
     ]
    }
   ],
   "source": [
    "train = pd.read_csv('../data/public.train.csv')\n",
    "train['is_train']= 1\n",
    "test = pd.read_csv('../data/public.test.csv')\n",
    "test['is_train']=0\n",
    "train_len = train.shape[0]\n",
    "df = pd.concat([train, test])\n",
    "df.reset_index(inplace=True, drop=True)\n",
    "print(test.shape)"
   ]
  },
  {
   "cell_type": "code",
   "execution_count": 6,
   "metadata": {
    "collapsed": true
   },
   "outputs": [],
   "source": [
    "df.rename(index=str, columns=rep_cols, inplace=True)"
   ]
  },
  {
   "cell_type": "code",
   "execution_count": 7,
   "metadata": {},
   "outputs": [
    {
     "name": "stdout",
     "output_type": "stream",
     "text": [
      "46\n"
     ]
    }
   ],
   "source": [
    "special_missing_test_id = df[(df['P_A']<1)&(df['is_train']==0)]['ID']\n",
    "print(len(special_missing_test_id))"
   ]
  },
  {
   "cell_type": "code",
   "execution_count": 8,
   "metadata": {},
   "outputs": [
    {
     "name": "stdout",
     "output_type": "stream",
     "text": [
      "(17409, 22) (8409, 22)\n",
      "(17341, 22) (8409, 22)\n"
     ]
    }
   ],
   "source": [
    "print(df.shape, df[df['is_train']==0].shape)\n",
    "df.drop(df[(df['P_A']<1)&(df['is_train']>0)].index,inplace=True)\n",
    "print(df.shape, df[df['is_train']==0].shape)"
   ]
  },
  {
   "cell_type": "code",
   "execution_count": 9,
   "metadata": {
    "collapsed": true
   },
   "outputs": [],
   "source": [
    "df.sort_values(by='ID',ascending=True, inplace=True)\n",
    "df.reset_index(drop=True,inplace=True)"
   ]
  },
  {
   "cell_type": "code",
   "execution_count": 10,
   "metadata": {
    "collapsed": true
   },
   "outputs": [],
   "source": [
    "raw_feats = [x for x in df.columns.tolist() if x not in['ID','is_train','y']]"
   ]
  },
  {
   "cell_type": "code",
   "execution_count": 11,
   "metadata": {
    "collapsed": true
   },
   "outputs": [],
   "source": [
    "def get_ts_feature(df, f_name, prefix='', v_len = 25):\n",
    "    v = df[f_name].values.tolist()\n",
    "    # prev\n",
    "    temp_list = []\n",
    "    for i in range(df.shape[0]):\n",
    "        temp_list.append(v[i-v_len:i][::-1])\n",
    "    temp_df = pd.DataFrame(temp_list)\n",
    "    temp_df.columns = [prefix+'prev_%d'%x for x in range(v_len)]\n",
    "    temp_df['ID'] = df['ID'].values\n",
    "    \n",
    "    # succ\n",
    "    temp_list = []\n",
    "    for i in range(df.shape[0]):\n",
    "        temp_list.append(v[i+1:i+v_len+1])\n",
    "    temp_df2 = pd.DataFrame(temp_list)\n",
    "    temp_df2.columns = [prefix+'succ_%d'%x for x in range(v_len)]\n",
    "    temp_df2['ID'] = df['ID'].values\n",
    "    \n",
    "    temp_df = temp_df.merge(temp_df2, on='ID', how='left')\n",
    "    return temp_df"
   ]
  },
  {
   "cell_type": "code",
   "execution_count": 12,
   "metadata": {
    "collapsed": true
   },
   "outputs": [],
   "source": [
    "def clean_data(df, clean_cols, correct_dict):\n",
    "    for c in clean_cols:\n",
    "        upper = df[c].mean()+2*df[c].std()\n",
    "        lower = df[c].mean()-2*df[c].std()\n",
    "        df[c+'_is_out_of_upper'] = (df[c]>upper).astype(np.int32)\n",
    "        df[c+'_is_out_of_lower'] = (df[c]<lower).astype(np.int32)\n",
    "        df.loc[df[c]>upper,c] = np.nan\n",
    "        df.loc[df[c]<lower,c] = np.nan\n",
    "        if c in correct_dict.keys():\n",
    "            df[c+'_is_out_of_upper'] = (df[c]>correct_dict[c][1]).astype(np.int32)+df[c+'_is_out_of_upper'] \n",
    "            df[c+'_is_out_of_lower'] = (df[c]<correct_dict[c][0]).astype(np.int32)+df[c+'_is_out_of_lower'] \n",
    "            df.loc[df[c]>correct_dict[c][1],c]=np.nan\n",
    "            df.loc[df[c]<correct_dict[c][0],c]=np.nan\n",
    "    return df"
   ]
  },
  {
   "cell_type": "code",
   "execution_count": null,
   "metadata": {
    "collapsed": true
   },
   "outputs": [],
   "source": [
    "def clean_data_drop(df, clean_cols, correct_dict):\n",
    "    for c in clean_cols:\n",
    "        if c in correct_dict.keys():\n",
    "            df.drop(df[(df[c]>correct_dict[c][1])&(df['is_train']==1)].index,inplace=True)\n",
    "            df.drop(df[(df[c]<correct_dict[c][0])&(df['is_train']==1)].index,inplace=True)\n",
    "    return df"
   ]
  },
  {
   "cell_type": "code",
   "execution_count": 13,
   "metadata": {},
   "outputs": [],
   "source": [
    "#异常值处理\n",
    "correct_dict = {\n",
    "    'V_A':(480,60000),\n",
    "    'V_B':(500,60000),\n",
    "    'V_C':(500, 60000),\n",
    "    'env_t':(-30,30),\n",
    "    'I_B':(0, 600),\n",
    "    'I_C':(0, 30),\n",
    "    'P_A':(0,10000),\n",
    "    'P_B':(0,10000),\n",
    "    'P_C':(0,10000),\n",
    "    'P_avg':(0,10000),\n",
    "    'efficiency_A':(0,100),\n",
    "    'efficiency_B':(0,100),\n",
    "    'efficiency_C':(0,100),\n",
    "    'wind_direction':(0,500)\n",
    "}\n",
    "cols = [c for c in df.columns.tolist() if c not in ['is_train','ID','y']]\n",
    "df = clean_data(df, cols, correct_dict)"
   ]
  },
  {
   "cell_type": "code",
   "execution_count": 14,
   "metadata": {
    "collapsed": true
   },
   "outputs": [],
   "source": [
    "def replace_nan_value(df, cols, replace=True):\n",
    "    df_len = df.shape[0]\n",
    "    for c in tqdm(cols):\n",
    "        i_y =df.columns.get_loc(c)\n",
    "        next_id = []\n",
    "        next_one = []\n",
    "        prev_id = []\n",
    "        prev_one = []\n",
    "        for i in range(df_len):\n",
    "            prev = i-1\n",
    "            while(prev>=0 and df.iat[prev,i_y]<0):\n",
    "                prev-=1\n",
    "            if prev>=0:\n",
    "                prev_one.append(df.iat[prev,i_y])\n",
    "                prev_id.append(prev)\n",
    "            else:\n",
    "                prev_one.append(np.nan)\n",
    "                prev_id.append(0)\n",
    "\n",
    "            next = i+1\n",
    "            while(next<df_len and df.iat[next,i_y]<0):\n",
    "                next+=1\n",
    "            if next<df_len:\n",
    "                next_one.append(df.iat[next,i_y])\n",
    "                next_id.append(next)\n",
    "            else:\n",
    "                next_one.append(np.nan)\n",
    "                next_id.append(df_len)\n",
    "\n",
    "        temp = pd.DataFrame()\n",
    "        temp['next_value'] = next_one\n",
    "        temp['prev_value'] = prev_one\n",
    "        temp['avg_value'] = np.nanmean([temp['next_value'], temp['prev_value']],axis=0)\n",
    "        temp['next_ID'] = next_id\n",
    "        temp['prev_ID'] = prev_id\n",
    "        temp['ID'] = df['ID'].values\n",
    "        temp['interpolation_value'] = temp['prev_value']+(temp['ID']-temp['prev_ID'])/(temp['next_ID']-temp['prev_ID'])*(temp['next_value']-temp['prev_value'])\n",
    "        if replace==True:\n",
    "            df.loc[df[df[c].isnull()].index,c]=temp.loc[df[df[c].isnull()].index,'interpolation_value']\n",
    "        else:\n",
    "            df[c+'_interpolation_value'] = temp['interpolation_value'].values\n",
    "    return df"
   ]
  },
  {
   "cell_type": "code",
   "execution_count": 15,
   "metadata": {},
   "outputs": [
    {
     "data": {
      "application/vnd.jupyter.widget-view+json": {
       "model_id": "a6554741831f474e8c720582aea34a24"
      }
     },
     "metadata": {},
     "output_type": "display_data"
    },
    {
     "name": "stderr",
     "output_type": "stream",
     "text": [
      "/Users/wyh/anaconda/lib/python3.6/site-packages/ipykernel_launcher.py:33: RuntimeWarning: Mean of empty slice\n"
     ]
    },
    {
     "name": "stdout",
     "output_type": "stream",
     "text": [
      "\n"
     ]
    }
   ],
   "source": [
    "df = replace_nan_value(df, cols)"
   ]
  },
  {
   "cell_type": "code",
   "execution_count": 16,
   "metadata": {
    "collapsed": true
   },
   "outputs": [],
   "source": [
    "def get_fake_feature(df, f_name):\n",
    "    a = df['y']\n",
    "    w=np.isnan(a)\n",
    "    a[w]=0\n",
    "    bt=df['ID']\n",
    "    f=UnivariateSpline(bt,a,w=~w,k=4)\n",
    "    x = df[['ID']]\n",
    "    x['fake_'+f_name] = f(bt)\n",
    "    return x"
   ]
  },
  {
   "cell_type": "code",
   "execution_count": 13,
   "metadata": {},
   "outputs": [
    {
     "name": "stderr",
     "output_type": "stream",
     "text": [
      "/Users/wyh/anaconda/lib/python3.6/site-packages/ipykernel_launcher.py:4: SettingWithCopyWarning: \n",
      "A value is trying to be set on a copy of a slice from a DataFrame\n",
      "\n",
      "See the caveats in the documentation: http://pandas.pydata.org/pandas-docs/stable/indexing.html#indexing-view-versus-copy\n",
      "  after removing the cwd from sys.path.\n",
      "/Users/wyh/anaconda/lib/python3.6/site-packages/ipykernel_launcher.py:8: SettingWithCopyWarning: \n",
      "A value is trying to be set on a copy of a slice from a DataFrame.\n",
      "Try using .loc[row_indexer,col_indexer] = value instead\n",
      "\n",
      "See the caveats in the documentation: http://pandas.pydata.org/pandas-docs/stable/indexing.html#indexing-view-versus-copy\n",
      "  \n"
     ]
    }
   ],
   "source": [
    "x = get_fake_feature(df, 'light_strength')\n",
    "df = df.merge(x, on='ID', how='left')\n",
    "\n",
    "x = get_fake_feature(df, 'env_t')\n",
    "df = df.merge(x, on='ID', how='left')\n",
    "\n",
    "x = get_fake_feature(df, 'y')\n",
    "df = df.merge(x, on='ID', how='left')\n",
    "\n",
    "x = get_fake_feature(df, 'board_t')\n",
    "df = df.merge(x, on='ID', how='left')"
   ]
  },
  {
   "cell_type": "code",
   "execution_count": 17,
   "metadata": {},
   "outputs": [
    {
     "data": {
      "text/plain": [
       "(17341, 60)"
      ]
     },
     "execution_count": 17,
     "metadata": {},
     "output_type": "execute_result"
    }
   ],
   "source": [
    "df.shape"
   ]
  },
  {
   "cell_type": "code",
   "execution_count": 18,
   "metadata": {
    "collapsed": true
   },
   "outputs": [],
   "source": [
    "for i in range(len(raw_feats)):\n",
    "    for j in range(i,len(raw_feats)):\n",
    "        df[raw_feats[i]+'_X_'+raw_feats[j]] = df[raw_feats[i]]*df[raw_feats[j]]"
   ]
  },
  {
   "cell_type": "code",
   "execution_count": 19,
   "metadata": {},
   "outputs": [
    {
     "data": {
      "text/plain": [
       "(17341, 250)"
      ]
     },
     "execution_count": 19,
     "metadata": {},
     "output_type": "execute_result"
    }
   ],
   "source": [
    "df.shape"
   ]
  },
  {
   "cell_type": "code",
   "execution_count": 20,
   "metadata": {},
   "outputs": [
    {
     "data": {
      "text/html": [
       "<div>\n",
       "<style>\n",
       "    .dataframe thead tr:only-child th {\n",
       "        text-align: right;\n",
       "    }\n",
       "\n",
       "    .dataframe thead th {\n",
       "        text-align: left;\n",
       "    }\n",
       "\n",
       "    .dataframe tbody tr th {\n",
       "        vertical-align: top;\n",
       "    }\n",
       "</style>\n",
       "<table border=\"1\" class=\"dataframe\">\n",
       "  <thead>\n",
       "    <tr style=\"text-align: right;\">\n",
       "      <th></th>\n",
       "      <th>ID</th>\n",
       "      <th>is_train</th>\n",
       "      <th>light_strength</th>\n",
       "      <th>P_A</th>\n",
       "      <th>P_B</th>\n",
       "      <th>P_C</th>\n",
       "      <th>y</th>\n",
       "      <th>P_avg</th>\n",
       "      <th>board_t</th>\n",
       "      <th>env_t</th>\n",
       "      <th>...</th>\n",
       "      <th>efficiency_B_X_efficiency_B</th>\n",
       "      <th>efficiency_B_X_efficiency_C</th>\n",
       "      <th>efficiency_B_X_wind_direction</th>\n",
       "      <th>efficiency_B_X_wind_speed</th>\n",
       "      <th>efficiency_C_X_efficiency_C</th>\n",
       "      <th>efficiency_C_X_wind_direction</th>\n",
       "      <th>efficiency_C_X_wind_speed</th>\n",
       "      <th>wind_direction_X_wind_direction</th>\n",
       "      <th>wind_direction_X_wind_speed</th>\n",
       "      <th>wind_speed_X_wind_speed</th>\n",
       "    </tr>\n",
       "  </thead>\n",
       "  <tbody>\n",
       "    <tr>\n",
       "      <th>0</th>\n",
       "      <td>1</td>\n",
       "      <td>0</td>\n",
       "      <td>1.0</td>\n",
       "      <td>0.00</td>\n",
       "      <td>0.00</td>\n",
       "      <td>0.00</td>\n",
       "      <td>NaN</td>\n",
       "      <td>0.00</td>\n",
       "      <td>0.01</td>\n",
       "      <td>0.1</td>\n",
       "      <td>...</td>\n",
       "      <td>0.0000</td>\n",
       "      <td>0.0</td>\n",
       "      <td>NaN</td>\n",
       "      <td>0.000</td>\n",
       "      <td>0.0</td>\n",
       "      <td>NaN</td>\n",
       "      <td>0.0</td>\n",
       "      <td>NaN</td>\n",
       "      <td>NaN</td>\n",
       "      <td>0.01</td>\n",
       "    </tr>\n",
       "    <tr>\n",
       "      <th>1</th>\n",
       "      <td>9</td>\n",
       "      <td>0</td>\n",
       "      <td>13.0</td>\n",
       "      <td>909.72</td>\n",
       "      <td>148.05</td>\n",
       "      <td>1031.03</td>\n",
       "      <td>NaN</td>\n",
       "      <td>696.27</td>\n",
       "      <td>NaN</td>\n",
       "      <td>-17.5</td>\n",
       "      <td>...</td>\n",
       "      <td>1778.3089</td>\n",
       "      <td>NaN</td>\n",
       "      <td>11512.41</td>\n",
       "      <td>12.651</td>\n",
       "      <td>NaN</td>\n",
       "      <td>NaN</td>\n",
       "      <td>NaN</td>\n",
       "      <td>74529.0</td>\n",
       "      <td>81.9</td>\n",
       "      <td>0.09</td>\n",
       "    </tr>\n",
       "    <tr>\n",
       "      <th>2</th>\n",
       "      <td>10</td>\n",
       "      <td>1</td>\n",
       "      <td>34.0</td>\n",
       "      <td>976.86</td>\n",
       "      <td>155.98</td>\n",
       "      <td>1087.50</td>\n",
       "      <td>1.437752</td>\n",
       "      <td>740.11</td>\n",
       "      <td>NaN</td>\n",
       "      <td>-17.4</td>\n",
       "      <td>...</td>\n",
       "      <td>288.3204</td>\n",
       "      <td>NaN</td>\n",
       "      <td>4618.56</td>\n",
       "      <td>10.188</td>\n",
       "      <td>NaN</td>\n",
       "      <td>NaN</td>\n",
       "      <td>NaN</td>\n",
       "      <td>73984.0</td>\n",
       "      <td>163.2</td>\n",
       "      <td>0.36</td>\n",
       "    </tr>\n",
       "    <tr>\n",
       "      <th>3</th>\n",
       "      <td>11</td>\n",
       "      <td>1</td>\n",
       "      <td>30.0</td>\n",
       "      <td>1128.40</td>\n",
       "      <td>172.08</td>\n",
       "      <td>1132.56</td>\n",
       "      <td>1.692575</td>\n",
       "      <td>811.01</td>\n",
       "      <td>NaN</td>\n",
       "      <td>-17.3</td>\n",
       "      <td>...</td>\n",
       "      <td>449.4400</td>\n",
       "      <td>NaN</td>\n",
       "      <td>5830.00</td>\n",
       "      <td>16.960</td>\n",
       "      <td>NaN</td>\n",
       "      <td>NaN</td>\n",
       "      <td>NaN</td>\n",
       "      <td>75625.0</td>\n",
       "      <td>220.0</td>\n",
       "      <td>0.64</td>\n",
       "    </tr>\n",
       "    <tr>\n",
       "      <th>4</th>\n",
       "      <td>12</td>\n",
       "      <td>1</td>\n",
       "      <td>41.0</td>\n",
       "      <td>1279.25</td>\n",
       "      <td>166.06</td>\n",
       "      <td>1310.40</td>\n",
       "      <td>1.975787</td>\n",
       "      <td>918.57</td>\n",
       "      <td>NaN</td>\n",
       "      <td>-17.0</td>\n",
       "      <td>...</td>\n",
       "      <td>222.3081</td>\n",
       "      <td>NaN</td>\n",
       "      <td>4219.53</td>\n",
       "      <td>16.401</td>\n",
       "      <td>NaN</td>\n",
       "      <td>NaN</td>\n",
       "      <td>NaN</td>\n",
       "      <td>80089.0</td>\n",
       "      <td>311.3</td>\n",
       "      <td>1.21</td>\n",
       "    </tr>\n",
       "  </tbody>\n",
       "</table>\n",
       "<p>5 rows × 250 columns</p>\n",
       "</div>"
      ],
      "text/plain": [
       "   ID  is_train  light_strength      P_A     P_B      P_C         y   P_avg  \\\n",
       "0   1         0             1.0     0.00    0.00     0.00       NaN    0.00   \n",
       "1   9         0            13.0   909.72  148.05  1031.03       NaN  696.27   \n",
       "2  10         1            34.0   976.86  155.98  1087.50  1.437752  740.11   \n",
       "3  11         1            30.0  1128.40  172.08  1132.56  1.692575  811.01   \n",
       "4  12         1            41.0  1279.25  166.06  1310.40  1.975787  918.57   \n",
       "\n",
       "   board_t  env_t           ...             efficiency_B_X_efficiency_B  \\\n",
       "0     0.01    0.1           ...                                  0.0000   \n",
       "1      NaN  -17.5           ...                               1778.3089   \n",
       "2      NaN  -17.4           ...                                288.3204   \n",
       "3      NaN  -17.3           ...                                449.4400   \n",
       "4      NaN  -17.0           ...                                222.3081   \n",
       "\n",
       "   efficiency_B_X_efficiency_C  efficiency_B_X_wind_direction  \\\n",
       "0                          0.0                            NaN   \n",
       "1                          NaN                       11512.41   \n",
       "2                          NaN                        4618.56   \n",
       "3                          NaN                        5830.00   \n",
       "4                          NaN                        4219.53   \n",
       "\n",
       "   efficiency_B_X_wind_speed  efficiency_C_X_efficiency_C  \\\n",
       "0                      0.000                          0.0   \n",
       "1                     12.651                          NaN   \n",
       "2                     10.188                          NaN   \n",
       "3                     16.960                          NaN   \n",
       "4                     16.401                          NaN   \n",
       "\n",
       "   efficiency_C_X_wind_direction  efficiency_C_X_wind_speed  \\\n",
       "0                            NaN                        0.0   \n",
       "1                            NaN                        NaN   \n",
       "2                            NaN                        NaN   \n",
       "3                            NaN                        NaN   \n",
       "4                            NaN                        NaN   \n",
       "\n",
       "   wind_direction_X_wind_direction  wind_direction_X_wind_speed  \\\n",
       "0                              NaN                          NaN   \n",
       "1                          74529.0                         81.9   \n",
       "2                          73984.0                        163.2   \n",
       "3                          75625.0                        220.0   \n",
       "4                          80089.0                        311.3   \n",
       "\n",
       "   wind_speed_X_wind_speed  \n",
       "0                     0.01  \n",
       "1                     0.09  \n",
       "2                     0.36  \n",
       "3                     0.64  \n",
       "4                     1.21  \n",
       "\n",
       "[5 rows x 250 columns]"
      ]
     },
     "execution_count": 20,
     "metadata": {},
     "output_type": "execute_result"
    }
   ],
   "source": [
    "df.head()"
   ]
  },
  {
   "cell_type": "code",
   "execution_count": 30,
   "metadata": {
    "collapsed": true
   },
   "outputs": [],
   "source": [
    "x = get_ts_feature(df, 'light_strength', 'ls')\n",
    "df = df.merge(x, on='ID', how='left')\n",
    "\n",
    "x = get_ts_feature(df, 'env_t', 'env_t')\n",
    "df = df.merge(x, on='ID', how='left')\n",
    "\n",
    "x = get_ts_feature(df, 'env_t', 'board_t')\n",
    "df = df.merge(x, on='ID', how='left')\n",
    "\n",
    "x = get_ts_feature(df, 'fake_y', 'fake_y')\n",
    "df = df.merge(x, on='ID', how='left')"
   ]
  },
  {
   "cell_type": "code",
   "execution_count": 21,
   "metadata": {
    "collapsed": true
   },
   "outputs": [],
   "source": [
    "# target = ['P_A','P_avg','I_A','P_C','I_C','P_B','I_B']\n",
    "# target_plus = [c+'_is_out_of_upper' for c in target]+[c+'_is_out_of_lower' for c in target]+target\n",
    "# for c in target:\n",
    "#     df['log_'+c] = np.log1p(df[c])"
   ]
  },
  {
   "cell_type": "code",
   "execution_count": 22,
   "metadata": {
    "collapsed": true
   },
   "outputs": [],
   "source": [
    "train = df[df['is_train']==1]\n",
    "test = df[df['is_train']==0]"
   ]
  },
  {
   "cell_type": "code",
   "execution_count": 49,
   "metadata": {
    "collapsed": true
   },
   "outputs": [],
   "source": [
    "from sklearn.feature_selection import SelectFromModel\n",
    "from sklearn.ensemble import GradientBoostingRegressor\n",
    "from sklearn.model_selection import train_test_split\n",
    "from lightgbm import LGBMRegressor\n",
    "\n",
    "X_train, X_test, y_train, y_test = train_test_split(train[predictor], train['y'], test_size=0.2, random_state=123)\n",
    "sm = SelectFromModel(LGBMRegressor(random_state=2))\n",
    "# X_train = sm.fit_transform(X_train, y_train)\n",
    "# X_test = sm.transform(X_test)\n",
    "# sub_data = sm.transform(sub_data)"
   ]
  },
  {
   "cell_type": "code",
   "execution_count": 50,
   "metadata": {},
   "outputs": [
    {
     "ename": "ValueError",
     "evalue": "Input contains NaN, infinity or a value too large for dtype('float64').",
     "output_type": "error",
     "traceback": [
      "\u001b[0;31m---------------------------------------------------------------------------\u001b[0m",
      "\u001b[0;31mValueError\u001b[0m                                Traceback (most recent call last)",
      "\u001b[0;32m<ipython-input-50-acc097cb1ff8>\u001b[0m in \u001b[0;36m<module>\u001b[0;34m()\u001b[0m\n\u001b[0;32m----> 1\u001b[0;31m \u001b[0mtrain\u001b[0m \u001b[0;34m=\u001b[0m \u001b[0msm\u001b[0m\u001b[0;34m.\u001b[0m\u001b[0mfit_transform\u001b[0m\u001b[0;34m(\u001b[0m\u001b[0mX_train\u001b[0m\u001b[0;34m,\u001b[0m \u001b[0my_train\u001b[0m\u001b[0;34m)\u001b[0m\u001b[0;34m\u001b[0m\u001b[0m\n\u001b[0m",
      "\u001b[0;32m/Users/wyh/anaconda/lib/python3.6/site-packages/sklearn/base.py\u001b[0m in \u001b[0;36mfit_transform\u001b[0;34m(self, X, y, **fit_params)\u001b[0m\n\u001b[1;32m    495\u001b[0m         \u001b[0;32melse\u001b[0m\u001b[0;34m:\u001b[0m\u001b[0;34m\u001b[0m\u001b[0m\n\u001b[1;32m    496\u001b[0m             \u001b[0;31m# fit method of arity 2 (supervised transformation)\u001b[0m\u001b[0;34m\u001b[0m\u001b[0;34m\u001b[0m\u001b[0m\n\u001b[0;32m--> 497\u001b[0;31m             \u001b[0;32mreturn\u001b[0m \u001b[0mself\u001b[0m\u001b[0;34m.\u001b[0m\u001b[0mfit\u001b[0m\u001b[0;34m(\u001b[0m\u001b[0mX\u001b[0m\u001b[0;34m,\u001b[0m \u001b[0my\u001b[0m\u001b[0;34m,\u001b[0m \u001b[0;34m**\u001b[0m\u001b[0mfit_params\u001b[0m\u001b[0;34m)\u001b[0m\u001b[0;34m.\u001b[0m\u001b[0mtransform\u001b[0m\u001b[0;34m(\u001b[0m\u001b[0mX\u001b[0m\u001b[0;34m)\u001b[0m\u001b[0;34m\u001b[0m\u001b[0m\n\u001b[0m\u001b[1;32m    498\u001b[0m \u001b[0;34m\u001b[0m\u001b[0m\n\u001b[1;32m    499\u001b[0m \u001b[0;34m\u001b[0m\u001b[0m\n",
      "\u001b[0;32m/Users/wyh/anaconda/lib/python3.6/site-packages/sklearn/feature_selection/base.py\u001b[0m in \u001b[0;36mtransform\u001b[0;34m(self, X)\u001b[0m\n\u001b[1;32m     73\u001b[0m             \u001b[0mThe\u001b[0m \u001b[0minput\u001b[0m \u001b[0msamples\u001b[0m \u001b[0;32mwith\u001b[0m \u001b[0monly\u001b[0m \u001b[0mthe\u001b[0m \u001b[0mselected\u001b[0m \u001b[0mfeatures\u001b[0m\u001b[0;34m.\u001b[0m\u001b[0;34m\u001b[0m\u001b[0m\n\u001b[1;32m     74\u001b[0m         \"\"\"\n\u001b[0;32m---> 75\u001b[0;31m         \u001b[0mX\u001b[0m \u001b[0;34m=\u001b[0m \u001b[0mcheck_array\u001b[0m\u001b[0;34m(\u001b[0m\u001b[0mX\u001b[0m\u001b[0;34m,\u001b[0m \u001b[0maccept_sparse\u001b[0m\u001b[0;34m=\u001b[0m\u001b[0;34m'csr'\u001b[0m\u001b[0;34m)\u001b[0m\u001b[0;34m\u001b[0m\u001b[0m\n\u001b[0m\u001b[1;32m     76\u001b[0m         \u001b[0mmask\u001b[0m \u001b[0;34m=\u001b[0m \u001b[0mself\u001b[0m\u001b[0;34m.\u001b[0m\u001b[0mget_support\u001b[0m\u001b[0;34m(\u001b[0m\u001b[0;34m)\u001b[0m\u001b[0;34m\u001b[0m\u001b[0m\n\u001b[1;32m     77\u001b[0m         \u001b[0;32mif\u001b[0m \u001b[0;32mnot\u001b[0m \u001b[0mmask\u001b[0m\u001b[0;34m.\u001b[0m\u001b[0many\u001b[0m\u001b[0;34m(\u001b[0m\u001b[0;34m)\u001b[0m\u001b[0;34m:\u001b[0m\u001b[0;34m\u001b[0m\u001b[0m\n",
      "\u001b[0;32m/Users/wyh/anaconda/lib/python3.6/site-packages/sklearn/utils/validation.py\u001b[0m in \u001b[0;36mcheck_array\u001b[0;34m(array, accept_sparse, dtype, order, copy, force_all_finite, ensure_2d, allow_nd, ensure_min_samples, ensure_min_features, warn_on_dtype, estimator)\u001b[0m\n\u001b[1;32m    405\u001b[0m                              % (array.ndim, estimator_name))\n\u001b[1;32m    406\u001b[0m         \u001b[0;32mif\u001b[0m \u001b[0mforce_all_finite\u001b[0m\u001b[0;34m:\u001b[0m\u001b[0;34m\u001b[0m\u001b[0m\n\u001b[0;32m--> 407\u001b[0;31m             \u001b[0m_assert_all_finite\u001b[0m\u001b[0;34m(\u001b[0m\u001b[0marray\u001b[0m\u001b[0;34m)\u001b[0m\u001b[0;34m\u001b[0m\u001b[0m\n\u001b[0m\u001b[1;32m    408\u001b[0m \u001b[0;34m\u001b[0m\u001b[0m\n\u001b[1;32m    409\u001b[0m     \u001b[0mshape_repr\u001b[0m \u001b[0;34m=\u001b[0m \u001b[0m_shape_repr\u001b[0m\u001b[0;34m(\u001b[0m\u001b[0marray\u001b[0m\u001b[0;34m.\u001b[0m\u001b[0mshape\u001b[0m\u001b[0;34m)\u001b[0m\u001b[0;34m\u001b[0m\u001b[0m\n",
      "\u001b[0;32m/Users/wyh/anaconda/lib/python3.6/site-packages/sklearn/utils/validation.py\u001b[0m in \u001b[0;36m_assert_all_finite\u001b[0;34m(X)\u001b[0m\n\u001b[1;32m     56\u001b[0m             and not np.isfinite(X).all()):\n\u001b[1;32m     57\u001b[0m         raise ValueError(\"Input contains NaN, infinity\"\n\u001b[0;32m---> 58\u001b[0;31m                          \" or a value too large for %r.\" % X.dtype)\n\u001b[0m\u001b[1;32m     59\u001b[0m \u001b[0;34m\u001b[0m\u001b[0m\n\u001b[1;32m     60\u001b[0m \u001b[0;34m\u001b[0m\u001b[0m\n",
      "\u001b[0;31mValueError\u001b[0m: Input contains NaN, infinity or a value too large for dtype('float64')."
     ]
    }
   ],
   "source": [
    "train = sm.fit_transform(X_train, y_train)"
   ]
  },
  {
   "cell_type": "code",
   "execution_count": 23,
   "metadata": {},
   "outputs": [
    {
     "data": {
      "text/plain": [
       "(8409, 250)"
      ]
     },
     "execution_count": 23,
     "metadata": {},
     "output_type": "execute_result"
    }
   ],
   "source": [
    "test.shape"
   ]
  },
  {
   "cell_type": "code",
   "execution_count": 37,
   "metadata": {
    "collapsed": true
   },
   "outputs": [],
   "source": [
    "params = {\n",
    "    'boosting_type': 'gbdt',\n",
    "    'objective': 'regression_l2',\n",
    "    'metric': 'mse',\n",
    "    'num_leaves': 32,\n",
    "    'learning_rate': 0.08,\n",
    "    'feature_fraction': 0.7,\n",
    "    'bagging_fraction': 0.9,\n",
    "    'bagging_freq': 1,\n",
    "    'verbose': 0,\n",
    "    'lambda_l1':1,\n",
    "    'lambda_l2':0.1\n",
    "}"
   ]
  },
  {
   "cell_type": "code",
   "execution_count": 38,
   "metadata": {
    "collapsed": true
   },
   "outputs": [],
   "source": [
    "predictor = [c for c in train.columns.tolist() if c not in['ID','y','is_train']]"
   ]
  },
  {
   "cell_type": "code",
   "execution_count": 39,
   "metadata": {},
   "outputs": [
    {
     "data": {
      "text/plain": [
       "247"
      ]
     },
     "execution_count": 39,
     "metadata": {},
     "output_type": "execute_result"
    }
   ],
   "source": [
    "len(predictor)"
   ]
  },
  {
   "cell_type": "code",
   "execution_count": 40,
   "metadata": {},
   "outputs": [
    {
     "name": "stdout",
     "output_type": "stream",
     "text": [
      "-------------------------------------\n",
      "fold: 0\n",
      "Training until validation scores don't improve for 100 rounds.\n",
      "[500]\tvalid's l2: 0.0201048\tvalid's score: 0.875817\n",
      "Early stopping, best iteration is:\n",
      "[457]\tvalid's l2: 0.0200901\tvalid's score: 0.875857\n",
      "Training until validation scores don't improve for 100 rounds.\n",
      "[500]\tvalid's l2: 0.0176934\tvalid's score: 0.8826\n",
      "Early stopping, best iteration is:\n",
      "[462]\tvalid's l2: 0.0176517\tvalid's score: 0.882722\n",
      "Training until validation scores don't improve for 100 rounds.\n",
      "Early stopping, best iteration is:\n",
      "[164]\tvalid's l2: 0.0151909\tvalid's score: 0.890273\n",
      "Training until validation scores don't improve for 100 rounds.\n",
      "[500]\tvalid's l2: 0.10694\tvalid's score: 0.75357\n",
      "[1000]\tvalid's l2: 0.106526\tvalid's score: 0.75393\n",
      "Early stopping, best iteration is:\n",
      "[1098]\tvalid's l2: 0.106466\tvalid's score: 0.753982\n",
      "Training until validation scores don't improve for 100 rounds.\n",
      "[500]\tvalid's l2: 0.0180496\tvalid's score: 0.881563\n",
      "Early stopping, best iteration is:\n",
      "[440]\tvalid's l2: 0.0180105\tvalid's score: 0.881676\n",
      "-------------------------------------\n",
      "fold: 1\n",
      "Training until validation scores don't improve for 100 rounds.\n",
      "[500]\tvalid's l2: 0.0784315\tvalid's score: 0.781216\n",
      "[1000]\tvalid's l2: 0.0777116\tvalid's score: 0.782003\n",
      "Early stopping, best iteration is:\n",
      "[1015]\tvalid's l2: 0.0776852\tvalid's score: 0.782032\n",
      "Training until validation scores don't improve for 100 rounds.\n",
      "Early stopping, best iteration is:\n",
      "[296]\tvalid's l2: 0.0166908\tvalid's score: 0.885588\n",
      "Training until validation scores don't improve for 100 rounds.\n",
      "Early stopping, best iteration is:\n",
      "[306]\tvalid's l2: 0.01386\tvalid's score: 0.894672\n",
      "Training until validation scores don't improve for 100 rounds.\n",
      "[500]\tvalid's l2: 0.0167874\tvalid's score: 0.885295\n",
      "Early stopping, best iteration is:\n",
      "[548]\tvalid's l2: 0.0167303\tvalid's score: 0.885469\n",
      "Training until validation scores don't improve for 100 rounds.\n",
      "[500]\tvalid's l2: 0.0418401\tvalid's score: 0.830187\n",
      "Early stopping, best iteration is:\n",
      "[407]\tvalid's l2: 0.041788\tvalid's score: 0.830274\n",
      "-------------------------------------\n",
      "fold: 2\n",
      "Training until validation scores don't improve for 100 rounds.\n",
      "[500]\tvalid's l2: 0.0193723\tvalid's score: 0.877821\n",
      "[1000]\tvalid's l2: 0.0190407\tvalid's score: 0.878744\n",
      "Early stopping, best iteration is:\n",
      "[1142]\tvalid's l2: 0.019001\tvalid's score: 0.878855\n",
      "Training until validation scores don't improve for 100 rounds.\n",
      "[500]\tvalid's l2: 0.0409013\tvalid's score: 0.83178\n",
      "Early stopping, best iteration is:\n",
      "[683]\tvalid's l2: 0.0403914\tvalid's score: 0.832656\n",
      "Training until validation scores don't improve for 100 rounds.\n",
      "[500]\tvalid's l2: 0.0144696\tvalid's score: 0.892626\n",
      "Early stopping, best iteration is:\n",
      "[432]\tvalid's l2: 0.0143828\tvalid's score: 0.892914\n",
      "Training until validation scores don't improve for 100 rounds.\n",
      "Early stopping, best iteration is:\n",
      "[353]\tvalid's l2: 0.0584292\tvalid's score: 0.805334\n",
      "Training until validation scores don't improve for 100 rounds.\n",
      "[500]\tvalid's l2: 0.0367722\tvalid's score: 0.839095\n",
      "Early stopping, best iteration is:\n",
      "[706]\tvalid's l2: 0.0365957\tvalid's score: 0.839419\n",
      "-------------------------------------\n",
      "fold: 3\n",
      "Training until validation scores don't improve for 100 rounds.\n",
      "Early stopping, best iteration is:\n",
      "[323]\tvalid's l2: 0.016502\tvalid's score: 0.886163\n",
      "Training until validation scores don't improve for 100 rounds.\n",
      "[500]\tvalid's l2: 0.020033\tvalid's score: 0.876011\n",
      "Early stopping, best iteration is:\n",
      "[667]\tvalid's l2: 0.0198404\tvalid's score: 0.876535\n",
      "Training until validation scores don't improve for 100 rounds.\n",
      "Early stopping, best iteration is:\n",
      "[110]\tvalid's l2: 0.036923\tvalid's score: 0.838818\n",
      "Training until validation scores don't improve for 100 rounds.\n",
      "Early stopping, best iteration is:\n",
      "[387]\tvalid's l2: 0.0790736\tvalid's score: 0.780518\n",
      "Training until validation scores don't improve for 100 rounds.\n",
      "[500]\tvalid's l2: 0.022263\tvalid's score: 0.870165\n",
      "[1000]\tvalid's l2: 0.0216132\tvalid's score: 0.871829\n"
     ]
    },
    {
     "ename": "KeyboardInterrupt",
     "evalue": "",
     "output_type": "error",
     "traceback": [
      "\u001b[0;31m---------------------------------------------------------------------------\u001b[0m",
      "\u001b[0;31mKeyboardInterrupt\u001b[0m                         Traceback (most recent call last)",
      "\u001b[0;32m<ipython-input-40-2e0a551c8a68>\u001b[0m in \u001b[0;36m<module>\u001b[0;34m()\u001b[0m\n\u001b[1;32m     28\u001b[0m                               \u001b[0mearly_stopping_rounds\u001b[0m\u001b[0;34m=\u001b[0m\u001b[0;36m100\u001b[0m\u001b[0;34m,\u001b[0m\u001b[0;34m\u001b[0m\u001b[0m\n\u001b[1;32m     29\u001b[0m                                \u001b[0mfeval\u001b[0m\u001b[0;34m=\u001b[0m\u001b[0mmy_val\u001b[0m\u001b[0;34m,\u001b[0m\u001b[0;34m\u001b[0m\u001b[0m\n\u001b[0;32m---> 30\u001b[0;31m                               verbose_eval=500)\n\u001b[0m\u001b[1;32m     31\u001b[0m \u001b[0;34m\u001b[0m\u001b[0m\n\u001b[1;32m     32\u001b[0m         \u001b[0mval_preds\u001b[0m\u001b[0;34m[\u001b[0m\u001b[0midx\u001b[0m\u001b[0;34m]\u001b[0m\u001b[0;34m[\u001b[0m\u001b[0mval_idx\u001b[0m\u001b[0;34m]\u001b[0m \u001b[0;34m=\u001b[0m \u001b[0mmodel\u001b[0m\u001b[0;34m.\u001b[0m\u001b[0mpredict\u001b[0m\u001b[0;34m(\u001b[0m\u001b[0mval\u001b[0m\u001b[0;34m[\u001b[0m\u001b[0mpredictor\u001b[0m\u001b[0;34m]\u001b[0m\u001b[0;34m)\u001b[0m\u001b[0;34m\u001b[0m\u001b[0m\n",
      "\u001b[0;32m/Users/wyh/anaconda/lib/python3.6/site-packages/lightgbm/engine.py\u001b[0m in \u001b[0;36mtrain\u001b[0;34m(params, train_set, num_boost_round, valid_sets, valid_names, fobj, feval, init_model, feature_name, categorical_feature, early_stopping_rounds, evals_result, verbose_eval, learning_rates, keep_training_booster, callbacks)\u001b[0m\n\u001b[1;32m    199\u001b[0m                                     evaluation_result_list=None))\n\u001b[1;32m    200\u001b[0m \u001b[0;34m\u001b[0m\u001b[0m\n\u001b[0;32m--> 201\u001b[0;31m         \u001b[0mbooster\u001b[0m\u001b[0;34m.\u001b[0m\u001b[0mupdate\u001b[0m\u001b[0;34m(\u001b[0m\u001b[0mfobj\u001b[0m\u001b[0;34m=\u001b[0m\u001b[0mfobj\u001b[0m\u001b[0;34m)\u001b[0m\u001b[0;34m\u001b[0m\u001b[0m\n\u001b[0m\u001b[1;32m    202\u001b[0m \u001b[0;34m\u001b[0m\u001b[0m\n\u001b[1;32m    203\u001b[0m         \u001b[0mevaluation_result_list\u001b[0m \u001b[0;34m=\u001b[0m \u001b[0;34m[\u001b[0m\u001b[0;34m]\u001b[0m\u001b[0;34m\u001b[0m\u001b[0m\n",
      "\u001b[0;32m/Users/wyh/anaconda/lib/python3.6/site-packages/lightgbm/basic.py\u001b[0m in \u001b[0;36mupdate\u001b[0;34m(self, train_set, fobj)\u001b[0m\n\u001b[1;32m   1522\u001b[0m             _safe_call(_LIB.LGBM_BoosterUpdateOneIter(\n\u001b[1;32m   1523\u001b[0m                 \u001b[0mself\u001b[0m\u001b[0;34m.\u001b[0m\u001b[0mhandle\u001b[0m\u001b[0;34m,\u001b[0m\u001b[0;34m\u001b[0m\u001b[0m\n\u001b[0;32m-> 1524\u001b[0;31m                 ctypes.byref(is_finished)))\n\u001b[0m\u001b[1;32m   1525\u001b[0m             \u001b[0mself\u001b[0m\u001b[0;34m.\u001b[0m\u001b[0m__is_predicted_cur_iter\u001b[0m \u001b[0;34m=\u001b[0m \u001b[0;34m[\u001b[0m\u001b[0;32mFalse\u001b[0m \u001b[0;32mfor\u001b[0m \u001b[0m_\u001b[0m \u001b[0;32min\u001b[0m \u001b[0mrange_\u001b[0m\u001b[0;34m(\u001b[0m\u001b[0mself\u001b[0m\u001b[0;34m.\u001b[0m\u001b[0m__num_dataset\u001b[0m\u001b[0;34m)\u001b[0m\u001b[0;34m]\u001b[0m\u001b[0;34m\u001b[0m\u001b[0m\n\u001b[1;32m   1526\u001b[0m             \u001b[0;32mreturn\u001b[0m \u001b[0mis_finished\u001b[0m\u001b[0;34m.\u001b[0m\u001b[0mvalue\u001b[0m \u001b[0;34m==\u001b[0m \u001b[0;36m1\u001b[0m\u001b[0;34m\u001b[0m\u001b[0m\n",
      "\u001b[0;31mKeyboardInterrupt\u001b[0m: "
     ]
    }
   ],
   "source": [
    "test_predicts = []\n",
    "val_preds = []\n",
    "\n",
    "# log_test_predicts = []\n",
    "# log_val_predicts = []\n",
    "for idx, seed in enumerate([1,2,3,4,5]):\n",
    "    kf = KFold(5, shuffle=True, random_state=seed)\n",
    "    print('-------------------------------------')\n",
    "    print('fold:',idx)\n",
    "    val_preds.append(np.zeros(train.shape[0]))\n",
    "    for n_fold, (tra_idx, val_idx) in enumerate(kf.split(train)):\n",
    "        tra = train.iloc[tra_idx]\n",
    "        val = train.iloc[val_idx]\n",
    "\n",
    "        train_set = lightgbm.Dataset(\n",
    "            tra[predictor],\n",
    "            tra['y']\n",
    "        )\n",
    "\n",
    "        validation_set = lightgbm.Dataset(\n",
    "            val[predictor],\n",
    "            val['y']\n",
    "        )\n",
    "\n",
    "        model = lightgbm.train(params, train_set, num_boost_round=5000,\n",
    "                              valid_sets= [validation_set],\n",
    "                              valid_names=['valid'],\n",
    "                              early_stopping_rounds=100,\n",
    "                               feval=my_val,\n",
    "                              verbose_eval=500)\n",
    "\n",
    "        val_preds[idx][val_idx] = model.predict(val[predictor])\n",
    "        test_predicts.append(model.predict(test[predictor]))\n",
    "        \n",
    "#         train_set = lightgbm.Dataset(\n",
    "#             tra[predictor],\n",
    "#             np.log1p(tra['y'])\n",
    "#         )\n",
    "\n",
    "#         validation_set = lightgbm.Dataset(\n",
    "#             val[predictor],\n",
    "#             np.log1p(val['y'])\n",
    "#         )\n",
    "\n",
    "#         model = lightgbm.train(params, train_set, num_boost_round=5000,\n",
    "#                               valid_sets= [validation_set],\n",
    "#                               valid_names=['valid'],\n",
    "#                               early_stopping_rounds=100,\n",
    "#                                feval=my_val,\n",
    "#                               verbose_eval=500)\n",
    "\n",
    "#         val_preds[idx][val_idx] = np.expm1(model.predict(val[predictor]))\n",
    "#         test_predicts.append(np.expm1(model.predict(test[predictor])))"
   ]
  },
  {
   "cell_type": "code",
   "execution_count": 28,
   "metadata": {},
   "outputs": [
    {
     "name": "stdout",
     "output_type": "stream",
     "text": [
      "local cv: 0.848177629986\n"
     ]
    }
   ],
   "source": [
    "print('local cv:',1/(1+np.sqrt(mean_squared_error(train['y'],np.mean(val_preds,axis=0)))))"
   ]
  },
  {
   "cell_type": "code",
   "execution_count": 45,
   "metadata": {},
   "outputs": [
    {
     "data": {
      "text/plain": [
       "P_A_X_P_avg             211449.925249\n",
       "P_A                      95134.850236\n",
       "P_A_X_I_B                71281.746147\n",
       "P_A_X_I_C                49540.983275\n",
       "P_avg_X_P_avg            17945.416251\n",
       "P_A_X_P_B                10531.167888\n",
       "P_avg_X_I_A              10054.830169\n",
       "P_A_X_P_A                 7139.086373\n",
       "P_avg                     6681.211049\n",
       "P_C_X_I_A                 5962.975388\n",
       "V_B_X_I_A                 1927.269189\n",
       "P_A_X_I_A                 1442.773089\n",
       "P_C_X_I_B                  977.038460\n",
       "P_A_X_P_C                  969.432041\n",
       "V_C_X_I_A                  766.381773\n",
       "P_avg_X_I_C                651.145627\n",
       "P_B_X_I_C                  594.104598\n",
       "V_A_X_I_A                  478.189710\n",
       "light_strength_X_P_A       464.648302\n",
       "P_B_X_P_C                  286.337334\n",
       "dtype: float64"
      ]
     },
     "execution_count": 45,
     "metadata": {},
     "output_type": "execute_result"
    }
   ],
   "source": [
    "feat_imp = pd.Series(model.feature_importance(importance_type='gain'),\n",
    "          index=model.feature_name())\n",
    "feat_imp.sort_values(ascending=False,inplace=True)\n",
    "feat_imp.head(20)"
   ]
  },
  {
   "cell_type": "code",
   "execution_count": 46,
   "metadata": {},
   "outputs": [
    {
     "data": {
      "text/plain": [
       "(55,)"
      ]
     },
     "execution_count": 46,
     "metadata": {},
     "output_type": "execute_result"
    }
   ],
   "source": [
    "feat_imp[feat_imp<1].shape"
   ]
  },
  {
   "cell_type": "code",
   "execution_count": 30,
   "metadata": {},
   "outputs": [
    {
     "name": "stderr",
     "output_type": "stream",
     "text": [
      "/Users/wyh/anaconda/lib/python3.6/site-packages/ipykernel_launcher.py:1: SettingWithCopyWarning: \n",
      "A value is trying to be set on a copy of a slice from a DataFrame.\n",
      "Try using .loc[row_indexer,col_indexer] = value instead\n",
      "\n",
      "See the caveats in the documentation: http://pandas.pydata.org/pandas-docs/stable/indexing.html#indexing-view-versus-copy\n",
      "  \"\"\"Entry point for launching an IPython kernel.\n"
     ]
    }
   ],
   "source": [
    "test['ans'] = np.mean(test_predicts, axis=0)"
   ]
  },
  {
   "cell_type": "code",
   "execution_count": 31,
   "metadata": {},
   "outputs": [
    {
     "name": "stderr",
     "output_type": "stream",
     "text": [
      "/Users/wyh/anaconda/lib/python3.6/site-packages/pandas/core/indexing.py:517: SettingWithCopyWarning: \n",
      "A value is trying to be set on a copy of a slice from a DataFrame.\n",
      "Try using .loc[row_indexer,col_indexer] = value instead\n",
      "\n",
      "See the caveats in the documentation: http://pandas.pydata.org/pandas-docs/stable/indexing.html#indexing-view-versus-copy\n",
      "  self.obj[item] = s\n"
     ]
    }
   ],
   "source": [
    "test.loc[test[test['ID'].isin(special_missing_test_id.values.tolist())].index,'ans']=0.379993053"
   ]
  },
  {
   "cell_type": "code",
   "execution_count": 32,
   "metadata": {
    "collapsed": true
   },
   "outputs": [],
   "source": [
    "test[['ID','ans']].to_csv('../result/0810-8482-bagging.csv',header=False, index=False)"
   ]
  },
  {
   "cell_type": "code",
   "execution_count": 33,
   "metadata": {},
   "outputs": [
    {
     "data": {
      "text/plain": [
       "<matplotlib.axes._subplots.AxesSubplot at 0x116c0ea58>"
      ]
     },
     "execution_count": 33,
     "metadata": {},
     "output_type": "execute_result"
    },
    {
     "data": {
      "image/png": "[encoded data removed]",
      "text/plain": [
       "<matplotlib.figure.Figure at 0x11656ffd0>"
      ]
     },
     "metadata": {},
     "output_type": "display_data"
    }
   ],
   "source": [
    "test['ans'].hist()"
   ]
  },
  {
   "cell_type": "code",
   "execution_count": 34,
   "metadata": {},
   "outputs": [
    {
     "data": {
      "text/plain": [
       "count    8409.000000\n",
       "mean        5.695925\n",
       "std         3.459285\n",
       "min        -0.063953\n",
       "25%         2.521753\n",
       "50%         5.726792\n",
       "75%         8.894651\n",
       "max        12.109181\n",
       "Name: ans, dtype: float64"
      ]
     },
     "execution_count": 34,
     "metadata": {},
     "output_type": "execute_result"
    }
   ],
   "source": [
    "test['ans'].describe()"
   ]
  },
  {
   "cell_type": "code",
   "execution_count": 35,
   "metadata": {},
   "outputs": [
    {
     "data": {
      "text/plain": [
       "<matplotlib.axes._subplots.AxesSubplot at 0x116bd8400>"
      ]
     },
     "execution_count": 35,
     "metadata": {},
     "output_type": "execute_result"
    },
    {
     "data": {
      "image/png": "[encoded data removed]",
      "text/plain": [
       "<matplotlib.figure.Figure at 0x116bf6c50>"
      ]
     },
     "metadata": {},
     "output_type": "display_data"
    }
   ],
   "source": [
    "train['y'].hist()"
   ]
  },
  {
   "cell_type": "code",
   "execution_count": 36,
   "metadata": {},
   "outputs": [
    {
     "data": {
      "text/plain": [
       "count    8932.000000\n",
       "mean        5.735710\n",
       "std         3.445595\n",
       "min        -0.125144\n",
       "25%         2.583602\n",
       "50%         5.820214\n",
       "75%         8.915265\n",
       "max        12.288756\n",
       "Name: y, dtype: float64"
      ]
     },
     "execution_count": 36,
     "metadata": {},
     "output_type": "execute_result"
    }
   ],
   "source": [
    "train['y'].describe()"
   ]
  },
  {
   "cell_type": "code",
   "execution_count": null,
   "metadata": {
    "collapsed": true
   },
   "outputs": [],
   "source": []
  }
 ],
 "metadata": {
  "kernelspec": {
   "display_name": "Python 3",
   "language": "python",
   "name": "python3"
  },
  "language_info": {
   "codemirror_mode": {
    "name": "ipython",
    "version": 3
   },
   "file_extension": ".py",
   "mimetype": "text/x-python",
   "name": "python",
   "nbconvert_exporter": "python",
   "pygments_lexer": "ipython3",
   "version": "3.6.1"
  }
 },
 "nbformat": 4,
 "nbformat_minor": 2
}
