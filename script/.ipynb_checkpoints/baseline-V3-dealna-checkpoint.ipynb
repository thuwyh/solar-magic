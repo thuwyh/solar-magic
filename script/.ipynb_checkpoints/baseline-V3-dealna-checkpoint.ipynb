{
 "cells": [
  {
   "cell_type": "raw",
   "metadata": {},
   "source": [
    "引入时序信号处理的思路"
   ]
  },
  {
   "cell_type": "code",
   "execution_count": 1,
   "metadata": {
    "collapsed": true
   },
   "outputs": [],
   "source": [
    "import pandas as pd\n",
    "import matplotlib.pyplot as plt\n",
    "import numpy as np\n",
    "\n",
    "import lightgbm\n",
    "\n",
    "from sklearn.model_selection import KFold\n",
    "from sklearn.metrics import mean_squared_error\n",
    "\n",
    "from scipy.interpolate import UnivariateSpline\n",
    "\n",
    "%matplotlib inline"
   ]
  },
  {
   "cell_type": "code",
   "execution_count": 2,
   "metadata": {
    "collapsed": true
   },
   "outputs": [],
   "source": [
    "rep_cols = {'ID':'ID', \n",
    " '板温':'board_t', \n",
    " '现场温度':'env_t', \n",
    " '光照强度':'light_strength', \n",
    " '转换效率':'efficiency', \n",
    " '转换效率A':'efficiency_A', \n",
    " '转换效率B':'efficiency_B', \n",
    " '转换效率C':'efficiency_C', \n",
    " '电压A':'V_A',\n",
    " '电压B':'V_B', \n",
    " '电压C':'V_C', \n",
    " '电流A':'I_A', \n",
    " '电流B':'I_B', \n",
    " '电流C':'I_C', \n",
    " '功率A':'P_A', \n",
    " '功率B':'P_B', \n",
    " '功率C':'P_C', \n",
    " '平均功率':'P_avg', \n",
    " '风速':'wind_speed',\n",
    " '风向':'wind_direction', \n",
    " '发电量':'y'\n",
    "}"
   ]
  },
  {
   "cell_type": "code",
   "execution_count": 3,
   "metadata": {
    "collapsed": true
   },
   "outputs": [],
   "source": [
    "def my_val(preds, train_data):\n",
    "    label = train_data.get_label()\n",
    "    return 'score', 1/(1+np.sqrt(mean_squared_error(preds, label))), True"
   ]
  },
  {
   "cell_type": "code",
   "execution_count": 4,
   "metadata": {
    "collapsed": true
   },
   "outputs": [],
   "source": [
    "def my_obj(preds, train_data):\n",
    "    labels = train_deata.get_label()\n",
    "    "
   ]
  },
  {
   "cell_type": "code",
   "execution_count": 5,
   "metadata": {
    "collapsed": true
   },
   "outputs": [],
   "source": [
    "train = pd.read_csv('../data/public.train.csv')\n",
    "train['is_train']= 1\n",
    "test = pd.read_csv('../data/public.test.csv')\n",
    "test['is_train']=0\n",
    "\n",
    "train_len = train.shape[0]\n",
    "\n",
    "df = pd.concat([train, test])"
   ]
  },
  {
   "cell_type": "code",
   "execution_count": 45,
   "metadata": {},
   "outputs": [
    {
     "data": {
      "text/plain": [
       "<matplotlib.axes._subplots.AxesSubplot at 0x11ae770b8>"
      ]
     },
     "execution_count": 45,
     "metadata": {},
     "output_type": "execute_result"
    },
    {
     "data": {
      "image/png": "[encoded data removed]",
      "text/plain": [
       "<matplotlib.figure.Figure at 0x11ae77908>"
      ]
     },
     "metadata": {},
     "output_type": "display_data"
    }
   ],
   "source": [
    "test[test['P_avg']<1]['ans'].hist()"
   ]
  },
  {
   "cell_type": "code",
   "execution_count": 6,
   "metadata": {
    "collapsed": true
   },
   "outputs": [],
   "source": [
    "df.rename(index=str, columns=rep_cols, inplace=True)"
   ]
  },
  {
   "cell_type": "code",
   "execution_count": 7,
   "metadata": {
    "collapsed": true
   },
   "outputs": [],
   "source": [
    "df.sort_values(by='ID',ascending=True, inplace=True)"
   ]
  },
  {
   "cell_type": "code",
   "execution_count": 8,
   "metadata": {},
   "outputs": [
    {
     "data": {
      "text/html": [
       "<div>\n",
       "<style>\n",
       "    .dataframe thead tr:only-child th {\n",
       "        text-align: right;\n",
       "    }\n",
       "\n",
       "    .dataframe thead th {\n",
       "        text-align: left;\n",
       "    }\n",
       "\n",
       "    .dataframe tbody tr th {\n",
       "        vertical-align: top;\n",
       "    }\n",
       "</style>\n",
       "<table border=\"1\" class=\"dataframe\">\n",
       "  <thead>\n",
       "    <tr style=\"text-align: right;\">\n",
       "      <th></th>\n",
       "      <th>ID</th>\n",
       "      <th>is_train</th>\n",
       "      <th>light_strength</th>\n",
       "      <th>P_A</th>\n",
       "      <th>P_B</th>\n",
       "      <th>P_C</th>\n",
       "      <th>y</th>\n",
       "      <th>P_avg</th>\n",
       "      <th>board_t</th>\n",
       "      <th>env_t</th>\n",
       "      <th>...</th>\n",
       "      <th>V_C</th>\n",
       "      <th>I_A</th>\n",
       "      <th>I_B</th>\n",
       "      <th>I_C</th>\n",
       "      <th>efficiency</th>\n",
       "      <th>efficiency_A</th>\n",
       "      <th>efficiency_B</th>\n",
       "      <th>efficiency_C</th>\n",
       "      <th>wind_direction</th>\n",
       "      <th>wind_speed</th>\n",
       "    </tr>\n",
       "  </thead>\n",
       "  <tbody>\n",
       "    <tr>\n",
       "      <th>0</th>\n",
       "      <td>1</td>\n",
       "      <td>0</td>\n",
       "      <td>1</td>\n",
       "      <td>0.00</td>\n",
       "      <td>0.00</td>\n",
       "      <td>0.00</td>\n",
       "      <td>NaN</td>\n",
       "      <td>0.00</td>\n",
       "      <td>0.01</td>\n",
       "      <td>0.1</td>\n",
       "      <td>...</td>\n",
       "      <td>0</td>\n",
       "      <td>0.00</td>\n",
       "      <td>0.00</td>\n",
       "      <td>0.00</td>\n",
       "      <td>0.00</td>\n",
       "      <td>0.00</td>\n",
       "      <td>0.00</td>\n",
       "      <td>0.00</td>\n",
       "      <td>1</td>\n",
       "      <td>0.1</td>\n",
       "    </tr>\n",
       "    <tr>\n",
       "      <th>1</th>\n",
       "      <td>9</td>\n",
       "      <td>0</td>\n",
       "      <td>13</td>\n",
       "      <td>909.72</td>\n",
       "      <td>148.05</td>\n",
       "      <td>1031.03</td>\n",
       "      <td>NaN</td>\n",
       "      <td>696.27</td>\n",
       "      <td>-19.33</td>\n",
       "      <td>-17.5</td>\n",
       "      <td>...</td>\n",
       "      <td>721</td>\n",
       "      <td>1.26</td>\n",
       "      <td>0.21</td>\n",
       "      <td>1.43</td>\n",
       "      <td>198.32</td>\n",
       "      <td>259.11</td>\n",
       "      <td>42.17</td>\n",
       "      <td>293.66</td>\n",
       "      <td>273</td>\n",
       "      <td>0.3</td>\n",
       "    </tr>\n",
       "    <tr>\n",
       "      <th>0</th>\n",
       "      <td>10</td>\n",
       "      <td>1</td>\n",
       "      <td>34</td>\n",
       "      <td>976.86</td>\n",
       "      <td>155.98</td>\n",
       "      <td>1087.50</td>\n",
       "      <td>1.437752</td>\n",
       "      <td>740.11</td>\n",
       "      <td>-19.14</td>\n",
       "      <td>-17.4</td>\n",
       "      <td>...</td>\n",
       "      <td>725</td>\n",
       "      <td>1.34</td>\n",
       "      <td>0.22</td>\n",
       "      <td>1.50</td>\n",
       "      <td>80.55</td>\n",
       "      <td>106.32</td>\n",
       "      <td>16.98</td>\n",
       "      <td>118.36</td>\n",
       "      <td>272</td>\n",
       "      <td>0.6</td>\n",
       "    </tr>\n",
       "    <tr>\n",
       "      <th>1</th>\n",
       "      <td>11</td>\n",
       "      <td>1</td>\n",
       "      <td>30</td>\n",
       "      <td>1128.40</td>\n",
       "      <td>172.08</td>\n",
       "      <td>1132.56</td>\n",
       "      <td>1.692575</td>\n",
       "      <td>811.01</td>\n",
       "      <td>-18.73</td>\n",
       "      <td>-17.3</td>\n",
       "      <td>...</td>\n",
       "      <td>726</td>\n",
       "      <td>1.55</td>\n",
       "      <td>0.24</td>\n",
       "      <td>1.56</td>\n",
       "      <td>99.90</td>\n",
       "      <td>139.00</td>\n",
       "      <td>21.20</td>\n",
       "      <td>139.51</td>\n",
       "      <td>275</td>\n",
       "      <td>0.8</td>\n",
       "    </tr>\n",
       "    <tr>\n",
       "      <th>2</th>\n",
       "      <td>12</td>\n",
       "      <td>1</td>\n",
       "      <td>41</td>\n",
       "      <td>1279.25</td>\n",
       "      <td>166.06</td>\n",
       "      <td>1310.40</td>\n",
       "      <td>1.975787</td>\n",
       "      <td>918.57</td>\n",
       "      <td>-17.54</td>\n",
       "      <td>-17.0</td>\n",
       "      <td>...</td>\n",
       "      <td>720</td>\n",
       "      <td>1.75</td>\n",
       "      <td>0.23</td>\n",
       "      <td>1.82</td>\n",
       "      <td>82.48</td>\n",
       "      <td>114.86</td>\n",
       "      <td>14.91</td>\n",
       "      <td>117.66</td>\n",
       "      <td>283</td>\n",
       "      <td>1.1</td>\n",
       "    </tr>\n",
       "  </tbody>\n",
       "</table>\n",
       "<p>5 rows × 22 columns</p>\n",
       "</div>"
      ],
      "text/plain": [
       "   ID  is_train  light_strength      P_A     P_B      P_C         y   P_avg  \\\n",
       "0   1         0               1     0.00    0.00     0.00       NaN    0.00   \n",
       "1   9         0              13   909.72  148.05  1031.03       NaN  696.27   \n",
       "0  10         1              34   976.86  155.98  1087.50  1.437752  740.11   \n",
       "1  11         1              30  1128.40  172.08  1132.56  1.692575  811.01   \n",
       "2  12         1              41  1279.25  166.06  1310.40  1.975787  918.57   \n",
       "\n",
       "   board_t  env_t     ...      V_C   I_A   I_B   I_C  efficiency  \\\n",
       "0     0.01    0.1     ...        0  0.00  0.00  0.00        0.00   \n",
       "1   -19.33  -17.5     ...      721  1.26  0.21  1.43      198.32   \n",
       "0   -19.14  -17.4     ...      725  1.34  0.22  1.50       80.55   \n",
       "1   -18.73  -17.3     ...      726  1.55  0.24  1.56       99.90   \n",
       "2   -17.54  -17.0     ...      720  1.75  0.23  1.82       82.48   \n",
       "\n",
       "   efficiency_A  efficiency_B  efficiency_C  wind_direction  wind_speed  \n",
       "0          0.00          0.00          0.00               1         0.1  \n",
       "1        259.11         42.17        293.66             273         0.3  \n",
       "0        106.32         16.98        118.36             272         0.6  \n",
       "1        139.00         21.20        139.51             275         0.8  \n",
       "2        114.86         14.91        117.66             283         1.1  \n",
       "\n",
       "[5 rows x 22 columns]"
      ]
     },
     "execution_count": 8,
     "metadata": {},
     "output_type": "execute_result"
    }
   ],
   "source": [
    "df.head()"
   ]
  },
  {
   "cell_type": "code",
   "execution_count": 9,
   "metadata": {
    "collapsed": true
   },
   "outputs": [],
   "source": [
    "raw_feats = [x for x in df.columns.tolist() if x not in['ID','is_train','y']]"
   ]
  },
  {
   "cell_type": "code",
   "execution_count": 10,
   "metadata": {
    "collapsed": true
   },
   "outputs": [],
   "source": [
    "def get_ts_feature(df, f_name, prefix='', v_len = 25):\n",
    "    v = df[f_name].values.tolist()\n",
    "    # prev\n",
    "    temp_list = []\n",
    "    for i in range(df.shape[0]):\n",
    "        temp_list.append(v[i-v_len:i][::-1])\n",
    "    temp_df = pd.DataFrame(temp_list)\n",
    "    temp_df.columns = [prefix+'prev_%d'%x for x in range(v_len)]\n",
    "    temp_df['ID'] = df['ID'].values\n",
    "    \n",
    "    # succ\n",
    "    temp_list = []\n",
    "    for i in range(df.shape[0]):\n",
    "        temp_list.append(v[i+1:i+v_len+1])\n",
    "    temp_df2 = pd.DataFrame(temp_list)\n",
    "    temp_df2.columns = [prefix+'succ_%d'%x for x in range(v_len)]\n",
    "    temp_df2['ID'] = df['ID'].values\n",
    "    \n",
    "    temp_df = temp_df.merge(temp_df2, on='ID', how='left')\n",
    "    return temp_df"
   ]
  },
  {
   "cell_type": "code",
   "execution_count": 11,
   "metadata": {
    "collapsed": true
   },
   "outputs": [],
   "source": [
    "#异常值处理\n",
    "correct_dict = {\n",
    "    'V_A':(480,60000),\n",
    "    'V_B':(500,60000),\n",
    "    'V_C':(500, 60000),\n",
    "    'I_B':(0, 600),\n",
    "    'I_C':(0, 30),\n",
    "    'P_A':(0,10000),\n",
    "    'P_B':(0,10000),\n",
    "    'P_C':(0,10000),\n",
    "    'P_avg':(0,10000)\n",
    "}\n",
    "cols = [c for c in df.columns.tolist() if c!='y' and c!='ID']\n",
    "for c in correct_dict.keys():\n",
    "    df[c+'_is_out_of_upper'] = (df[c]>correct_dict[c][1]).astype(np.int32)\n",
    "    df[c+'_is_out_of_lower'] = (df[c]<correct_dict[c][0]).astype(np.int32)\n",
    "    df.loc[df[c]>correct_dict[c][1],c]=np.nan\n",
    "    df.loc[df[c]<correct_dict[c][0],c]=np.nan"
   ]
  },
  {
   "cell_type": "code",
   "execution_count": 12,
   "metadata": {
    "collapsed": true
   },
   "outputs": [],
   "source": [
    "def get_fake_feature(df, f_name):\n",
    "    a = df['y']\n",
    "    w=np.isnan(a)\n",
    "    a[w]=0\n",
    "    bt=df['ID']\n",
    "    f=UnivariateSpline(bt,a,w=~w,k=4)\n",
    "    x = df[['ID']]\n",
    "    x['fake_'+f_name] = f(bt)\n",
    "    return x"
   ]
  },
  {
   "cell_type": "code",
   "execution_count": 13,
   "metadata": {},
   "outputs": [
    {
     "name": "stderr",
     "output_type": "stream",
     "text": [
      "/Users/wyh/anaconda/lib/python3.6/site-packages/ipykernel_launcher.py:4: SettingWithCopyWarning: \n",
      "A value is trying to be set on a copy of a slice from a DataFrame\n",
      "\n",
      "See the caveats in the documentation: http://pandas.pydata.org/pandas-docs/stable/indexing.html#indexing-view-versus-copy\n",
      "  after removing the cwd from sys.path.\n",
      "/Users/wyh/anaconda/lib/python3.6/site-packages/ipykernel_launcher.py:8: SettingWithCopyWarning: \n",
      "A value is trying to be set on a copy of a slice from a DataFrame.\n",
      "Try using .loc[row_indexer,col_indexer] = value instead\n",
      "\n",
      "See the caveats in the documentation: http://pandas.pydata.org/pandas-docs/stable/indexing.html#indexing-view-versus-copy\n",
      "  \n"
     ]
    }
   ],
   "source": [
    "x = get_fake_feature(df, 'light_strength')\n",
    "df = df.merge(x, on='ID', how='left')\n",
    "\n",
    "x = get_fake_feature(df, 'env_t')\n",
    "df = df.merge(x, on='ID', how='left')\n",
    "\n",
    "x = get_fake_feature(df, 'y')\n",
    "df = df.merge(x, on='ID', how='left')\n",
    "\n",
    "x = get_fake_feature(df, 'board_t')\n",
    "df = df.merge(x, on='ID', how='left')"
   ]
  },
  {
   "cell_type": "code",
   "execution_count": 14,
   "metadata": {},
   "outputs": [
    {
     "data": {
      "text/html": [
       "<div>\n",
       "<style>\n",
       "    .dataframe thead tr:only-child th {\n",
       "        text-align: right;\n",
       "    }\n",
       "\n",
       "    .dataframe thead th {\n",
       "        text-align: left;\n",
       "    }\n",
       "\n",
       "    .dataframe tbody tr th {\n",
       "        vertical-align: top;\n",
       "    }\n",
       "</style>\n",
       "<table border=\"1\" class=\"dataframe\">\n",
       "  <thead>\n",
       "    <tr style=\"text-align: right;\">\n",
       "      <th></th>\n",
       "      <th>light_strength</th>\n",
       "      <th>P_A</th>\n",
       "      <th>P_B</th>\n",
       "      <th>P_C</th>\n",
       "      <th>P_avg</th>\n",
       "      <th>board_t</th>\n",
       "      <th>env_t</th>\n",
       "      <th>V_A</th>\n",
       "      <th>V_B</th>\n",
       "      <th>V_C</th>\n",
       "      <th>I_A</th>\n",
       "      <th>I_B</th>\n",
       "      <th>I_C</th>\n",
       "      <th>efficiency</th>\n",
       "      <th>efficiency_A</th>\n",
       "      <th>efficiency_B</th>\n",
       "      <th>efficiency_C</th>\n",
       "      <th>wind_direction</th>\n",
       "      <th>wind_speed</th>\n",
       "    </tr>\n",
       "  </thead>\n",
       "  <tbody>\n",
       "    <tr>\n",
       "      <th>0</th>\n",
       "      <td>1</td>\n",
       "      <td>0.00</td>\n",
       "      <td>0.00</td>\n",
       "      <td>0.00</td>\n",
       "      <td>0.00</td>\n",
       "      <td>0.01</td>\n",
       "      <td>0.1</td>\n",
       "      <td>NaN</td>\n",
       "      <td>NaN</td>\n",
       "      <td>NaN</td>\n",
       "      <td>0.00</td>\n",
       "      <td>0.00</td>\n",
       "      <td>0.00</td>\n",
       "      <td>0.00</td>\n",
       "      <td>0.00</td>\n",
       "      <td>0.00</td>\n",
       "      <td>0.00</td>\n",
       "      <td>1</td>\n",
       "      <td>0.1</td>\n",
       "    </tr>\n",
       "    <tr>\n",
       "      <th>1</th>\n",
       "      <td>13</td>\n",
       "      <td>909.72</td>\n",
       "      <td>148.05</td>\n",
       "      <td>1031.03</td>\n",
       "      <td>696.27</td>\n",
       "      <td>-19.33</td>\n",
       "      <td>-17.5</td>\n",
       "      <td>722.0</td>\n",
       "      <td>705.0</td>\n",
       "      <td>721.0</td>\n",
       "      <td>1.26</td>\n",
       "      <td>0.21</td>\n",
       "      <td>1.43</td>\n",
       "      <td>198.32</td>\n",
       "      <td>259.11</td>\n",
       "      <td>42.17</td>\n",
       "      <td>293.66</td>\n",
       "      <td>273</td>\n",
       "      <td>0.3</td>\n",
       "    </tr>\n",
       "    <tr>\n",
       "      <th>2</th>\n",
       "      <td>34</td>\n",
       "      <td>976.86</td>\n",
       "      <td>155.98</td>\n",
       "      <td>1087.50</td>\n",
       "      <td>740.11</td>\n",
       "      <td>-19.14</td>\n",
       "      <td>-17.4</td>\n",
       "      <td>729.0</td>\n",
       "      <td>709.0</td>\n",
       "      <td>725.0</td>\n",
       "      <td>1.34</td>\n",
       "      <td>0.22</td>\n",
       "      <td>1.50</td>\n",
       "      <td>80.55</td>\n",
       "      <td>106.32</td>\n",
       "      <td>16.98</td>\n",
       "      <td>118.36</td>\n",
       "      <td>272</td>\n",
       "      <td>0.6</td>\n",
       "    </tr>\n",
       "    <tr>\n",
       "      <th>3</th>\n",
       "      <td>30</td>\n",
       "      <td>1128.40</td>\n",
       "      <td>172.08</td>\n",
       "      <td>1132.56</td>\n",
       "      <td>811.01</td>\n",
       "      <td>-18.73</td>\n",
       "      <td>-17.3</td>\n",
       "      <td>728.0</td>\n",
       "      <td>717.0</td>\n",
       "      <td>726.0</td>\n",
       "      <td>1.55</td>\n",
       "      <td>0.24</td>\n",
       "      <td>1.56</td>\n",
       "      <td>99.90</td>\n",
       "      <td>139.00</td>\n",
       "      <td>21.20</td>\n",
       "      <td>139.51</td>\n",
       "      <td>275</td>\n",
       "      <td>0.8</td>\n",
       "    </tr>\n",
       "    <tr>\n",
       "      <th>4</th>\n",
       "      <td>41</td>\n",
       "      <td>1279.25</td>\n",
       "      <td>166.06</td>\n",
       "      <td>1310.40</td>\n",
       "      <td>918.57</td>\n",
       "      <td>-17.54</td>\n",
       "      <td>-17.0</td>\n",
       "      <td>731.0</td>\n",
       "      <td>722.0</td>\n",
       "      <td>720.0</td>\n",
       "      <td>1.75</td>\n",
       "      <td>0.23</td>\n",
       "      <td>1.82</td>\n",
       "      <td>82.48</td>\n",
       "      <td>114.86</td>\n",
       "      <td>14.91</td>\n",
       "      <td>117.66</td>\n",
       "      <td>283</td>\n",
       "      <td>1.1</td>\n",
       "    </tr>\n",
       "  </tbody>\n",
       "</table>\n",
       "</div>"
      ],
      "text/plain": [
       "   light_strength      P_A     P_B      P_C   P_avg  board_t  env_t    V_A  \\\n",
       "0               1     0.00    0.00     0.00    0.00     0.01    0.1    NaN   \n",
       "1              13   909.72  148.05  1031.03  696.27   -19.33  -17.5  722.0   \n",
       "2              34   976.86  155.98  1087.50  740.11   -19.14  -17.4  729.0   \n",
       "3              30  1128.40  172.08  1132.56  811.01   -18.73  -17.3  728.0   \n",
       "4              41  1279.25  166.06  1310.40  918.57   -17.54  -17.0  731.0   \n",
       "\n",
       "     V_B    V_C   I_A   I_B   I_C  efficiency  efficiency_A  efficiency_B  \\\n",
       "0    NaN    NaN  0.00  0.00  0.00        0.00          0.00          0.00   \n",
       "1  705.0  721.0  1.26  0.21  1.43      198.32        259.11         42.17   \n",
       "2  709.0  725.0  1.34  0.22  1.50       80.55        106.32         16.98   \n",
       "3  717.0  726.0  1.55  0.24  1.56       99.90        139.00         21.20   \n",
       "4  722.0  720.0  1.75  0.23  1.82       82.48        114.86         14.91   \n",
       "\n",
       "   efficiency_C  wind_direction  wind_speed  \n",
       "0          0.00               1         0.1  \n",
       "1        293.66             273         0.3  \n",
       "2        118.36             272         0.6  \n",
       "3        139.51             275         0.8  \n",
       "4        117.66             283         1.1  "
      ]
     },
     "execution_count": 14,
     "metadata": {},
     "output_type": "execute_result"
    }
   ],
   "source": [
    "df[raw_feats].head()"
   ]
  },
  {
   "cell_type": "code",
   "execution_count": 16,
   "metadata": {},
   "outputs": [],
   "source": [
    "for i in range(len(raw_feats)):\n",
    "    for j in range(i,len(raw_feats)):\n",
    "        df[raw_feats[i]+'_X_'+raw_feats[j]] = df[raw_feats[i]]*df[raw_feats[j]]"
   ]
  },
  {
   "cell_type": "code",
   "execution_count": 15,
   "metadata": {
    "collapsed": true
   },
   "outputs": [],
   "source": [
    "from sklearn.preprocessing import PolynomialFeatures\n",
    "polynm = PolynomialFeatures(degree=2, interaction_only=True)\n",
    "d = df[raw_feats].replace([np.inf, -np.inf], np.nan)\n",
    "d.fillna(method='bfill',axis=0,inplace=True)\n",
    "d.fillna(method='ffill',axis=0,inplace=True)\n",
    "poly_feats = pd.DataFrame(polynm.fit_transform(d))\n",
    "poly_feats['ID']=df['ID'].values\n",
    "df = df.merge(poly_feats, on='ID', how='left')"
   ]
  },
  {
   "cell_type": "code",
   "execution_count": 21,
   "metadata": {},
   "outputs": [
    {
     "data": {
      "text/plain": [
       "(17409, 192)"
      ]
     },
     "execution_count": 21,
     "metadata": {},
     "output_type": "execute_result"
    }
   ],
   "source": [
    "poly_feats.shape"
   ]
  },
  {
   "cell_type": "code",
   "execution_count": 17,
   "metadata": {},
   "outputs": [
    {
     "data": {
      "text/html": [
       "<div>\n",
       "<style>\n",
       "    .dataframe thead tr:only-child th {\n",
       "        text-align: right;\n",
       "    }\n",
       "\n",
       "    .dataframe thead th {\n",
       "        text-align: left;\n",
       "    }\n",
       "\n",
       "    .dataframe tbody tr th {\n",
       "        vertical-align: top;\n",
       "    }\n",
       "</style>\n",
       "<table border=\"1\" class=\"dataframe\">\n",
       "  <thead>\n",
       "    <tr style=\"text-align: right;\">\n",
       "      <th></th>\n",
       "      <th>ID</th>\n",
       "      <th>is_train</th>\n",
       "      <th>light_strength</th>\n",
       "      <th>P_A</th>\n",
       "      <th>P_B</th>\n",
       "      <th>P_C</th>\n",
       "      <th>y</th>\n",
       "      <th>P_avg</th>\n",
       "      <th>board_t</th>\n",
       "      <th>env_t</th>\n",
       "      <th>...</th>\n",
       "      <th>efficiency_B_X_efficiency_B</th>\n",
       "      <th>efficiency_B_X_efficiency_C</th>\n",
       "      <th>efficiency_B_X_wind_direction</th>\n",
       "      <th>efficiency_B_X_wind_speed</th>\n",
       "      <th>efficiency_C_X_efficiency_C</th>\n",
       "      <th>efficiency_C_X_wind_direction</th>\n",
       "      <th>efficiency_C_X_wind_speed</th>\n",
       "      <th>wind_direction_X_wind_direction</th>\n",
       "      <th>wind_direction_X_wind_speed</th>\n",
       "      <th>wind_speed_X_wind_speed</th>\n",
       "    </tr>\n",
       "  </thead>\n",
       "  <tbody>\n",
       "    <tr>\n",
       "      <th>0</th>\n",
       "      <td>1</td>\n",
       "      <td>0</td>\n",
       "      <td>1</td>\n",
       "      <td>0.00</td>\n",
       "      <td>0.00</td>\n",
       "      <td>0.00</td>\n",
       "      <td>0.000000</td>\n",
       "      <td>0.00</td>\n",
       "      <td>0.01</td>\n",
       "      <td>0.1</td>\n",
       "      <td>...</td>\n",
       "      <td>0.0000</td>\n",
       "      <td>0.0000</td>\n",
       "      <td>0.00</td>\n",
       "      <td>0.000</td>\n",
       "      <td>0.0000</td>\n",
       "      <td>0.00</td>\n",
       "      <td>0.000</td>\n",
       "      <td>1</td>\n",
       "      <td>0.1</td>\n",
       "      <td>0.01</td>\n",
       "    </tr>\n",
       "    <tr>\n",
       "      <th>1</th>\n",
       "      <td>9</td>\n",
       "      <td>0</td>\n",
       "      <td>13</td>\n",
       "      <td>909.72</td>\n",
       "      <td>148.05</td>\n",
       "      <td>1031.03</td>\n",
       "      <td>0.000000</td>\n",
       "      <td>696.27</td>\n",
       "      <td>-19.33</td>\n",
       "      <td>-17.5</td>\n",
       "      <td>...</td>\n",
       "      <td>1778.3089</td>\n",
       "      <td>12383.6422</td>\n",
       "      <td>11512.41</td>\n",
       "      <td>12.651</td>\n",
       "      <td>86236.1956</td>\n",
       "      <td>80169.18</td>\n",
       "      <td>88.098</td>\n",
       "      <td>74529</td>\n",
       "      <td>81.9</td>\n",
       "      <td>0.09</td>\n",
       "    </tr>\n",
       "    <tr>\n",
       "      <th>2</th>\n",
       "      <td>10</td>\n",
       "      <td>1</td>\n",
       "      <td>34</td>\n",
       "      <td>976.86</td>\n",
       "      <td>155.98</td>\n",
       "      <td>1087.50</td>\n",
       "      <td>1.437752</td>\n",
       "      <td>740.11</td>\n",
       "      <td>-19.14</td>\n",
       "      <td>-17.4</td>\n",
       "      <td>...</td>\n",
       "      <td>288.3204</td>\n",
       "      <td>2009.7528</td>\n",
       "      <td>4618.56</td>\n",
       "      <td>10.188</td>\n",
       "      <td>14009.0896</td>\n",
       "      <td>32193.92</td>\n",
       "      <td>71.016</td>\n",
       "      <td>73984</td>\n",
       "      <td>163.2</td>\n",
       "      <td>0.36</td>\n",
       "    </tr>\n",
       "    <tr>\n",
       "      <th>3</th>\n",
       "      <td>11</td>\n",
       "      <td>1</td>\n",
       "      <td>30</td>\n",
       "      <td>1128.40</td>\n",
       "      <td>172.08</td>\n",
       "      <td>1132.56</td>\n",
       "      <td>1.692575</td>\n",
       "      <td>811.01</td>\n",
       "      <td>-18.73</td>\n",
       "      <td>-17.3</td>\n",
       "      <td>...</td>\n",
       "      <td>449.4400</td>\n",
       "      <td>2957.6120</td>\n",
       "      <td>5830.00</td>\n",
       "      <td>16.960</td>\n",
       "      <td>19463.0401</td>\n",
       "      <td>38365.25</td>\n",
       "      <td>111.608</td>\n",
       "      <td>75625</td>\n",
       "      <td>220.0</td>\n",
       "      <td>0.64</td>\n",
       "    </tr>\n",
       "    <tr>\n",
       "      <th>4</th>\n",
       "      <td>12</td>\n",
       "      <td>1</td>\n",
       "      <td>41</td>\n",
       "      <td>1279.25</td>\n",
       "      <td>166.06</td>\n",
       "      <td>1310.40</td>\n",
       "      <td>1.975787</td>\n",
       "      <td>918.57</td>\n",
       "      <td>-17.54</td>\n",
       "      <td>-17.0</td>\n",
       "      <td>...</td>\n",
       "      <td>222.3081</td>\n",
       "      <td>1754.3106</td>\n",
       "      <td>4219.53</td>\n",
       "      <td>16.401</td>\n",
       "      <td>13843.8756</td>\n",
       "      <td>33297.78</td>\n",
       "      <td>129.426</td>\n",
       "      <td>80089</td>\n",
       "      <td>311.3</td>\n",
       "      <td>1.21</td>\n",
       "    </tr>\n",
       "  </tbody>\n",
       "</table>\n",
       "<p>5 rows × 234 columns</p>\n",
       "</div>"
      ],
      "text/plain": [
       "   ID  is_train  light_strength      P_A     P_B      P_C         y   P_avg  \\\n",
       "0   1         0               1     0.00    0.00     0.00  0.000000    0.00   \n",
       "1   9         0              13   909.72  148.05  1031.03  0.000000  696.27   \n",
       "2  10         1              34   976.86  155.98  1087.50  1.437752  740.11   \n",
       "3  11         1              30  1128.40  172.08  1132.56  1.692575  811.01   \n",
       "4  12         1              41  1279.25  166.06  1310.40  1.975787  918.57   \n",
       "\n",
       "   board_t  env_t           ...             efficiency_B_X_efficiency_B  \\\n",
       "0     0.01    0.1           ...                                  0.0000   \n",
       "1   -19.33  -17.5           ...                               1778.3089   \n",
       "2   -19.14  -17.4           ...                                288.3204   \n",
       "3   -18.73  -17.3           ...                                449.4400   \n",
       "4   -17.54  -17.0           ...                                222.3081   \n",
       "\n",
       "   efficiency_B_X_efficiency_C  efficiency_B_X_wind_direction  \\\n",
       "0                       0.0000                           0.00   \n",
       "1                   12383.6422                       11512.41   \n",
       "2                    2009.7528                        4618.56   \n",
       "3                    2957.6120                        5830.00   \n",
       "4                    1754.3106                        4219.53   \n",
       "\n",
       "   efficiency_B_X_wind_speed  efficiency_C_X_efficiency_C  \\\n",
       "0                      0.000                       0.0000   \n",
       "1                     12.651                   86236.1956   \n",
       "2                     10.188                   14009.0896   \n",
       "3                     16.960                   19463.0401   \n",
       "4                     16.401                   13843.8756   \n",
       "\n",
       "   efficiency_C_X_wind_direction  efficiency_C_X_wind_speed  \\\n",
       "0                           0.00                      0.000   \n",
       "1                       80169.18                     88.098   \n",
       "2                       32193.92                     71.016   \n",
       "3                       38365.25                    111.608   \n",
       "4                       33297.78                    129.426   \n",
       "\n",
       "   wind_direction_X_wind_direction  wind_direction_X_wind_speed  \\\n",
       "0                                1                          0.1   \n",
       "1                            74529                         81.9   \n",
       "2                            73984                        163.2   \n",
       "3                            75625                        220.0   \n",
       "4                            80089                        311.3   \n",
       "\n",
       "   wind_speed_X_wind_speed  \n",
       "0                     0.01  \n",
       "1                     0.09  \n",
       "2                     0.36  \n",
       "3                     0.64  \n",
       "4                     1.21  \n",
       "\n",
       "[5 rows x 234 columns]"
      ]
     },
     "execution_count": 17,
     "metadata": {},
     "output_type": "execute_result"
    }
   ],
   "source": [
    "df.head()"
   ]
  },
  {
   "cell_type": "code",
   "execution_count": 30,
   "metadata": {
    "collapsed": true
   },
   "outputs": [],
   "source": [
    "x = get_ts_feature(df, 'light_strength', 'ls')\n",
    "df = df.merge(x, on='ID', how='left')\n",
    "\n",
    "x = get_ts_feature(df, 'env_t', 'env_t')\n",
    "df = df.merge(x, on='ID', how='left')\n",
    "\n",
    "x = get_ts_feature(df, 'env_t', 'board_t')\n",
    "df = df.merge(x, on='ID', how='left')\n",
    "\n",
    "x = get_ts_feature(df, 'fake_y', 'fake_y')\n",
    "df = df.merge(x, on='ID', how='left')"
   ]
  },
  {
   "cell_type": "code",
   "execution_count": 18,
   "metadata": {
    "collapsed": true
   },
   "outputs": [],
   "source": [
    "# target = ['P_A','P_avg','I_A','P_C','I_C','P_B','I_B']\n",
    "# target_plus = [c+'_is_out_of_upper' for c in target]+[c+'_is_out_of_lower' for c in target]+target\n",
    "# for c in target:\n",
    "#     df['log_'+c] = np.log1p(df[c])"
   ]
  },
  {
   "cell_type": "code",
   "execution_count": 19,
   "metadata": {
    "collapsed": true
   },
   "outputs": [],
   "source": [
    "# 估算功率\n",
    "df['predict_p_1'] = df['P_A']+df['P_B']+df['P_C']\n",
    "df['predict_p_2'] = (df['P_A']*df['efficiency_A'] \\\n",
    "                   +df['P_B']*df['efficiency_B'] \\\n",
    "                   +df['P_C']*df['efficiency_C'])/36000"
   ]
  },
  {
   "cell_type": "code",
   "execution_count": 20,
   "metadata": {
    "collapsed": true
   },
   "outputs": [],
   "source": [
    "train = df[df['is_train']==1]\n",
    "test = df[df['is_train']==0]"
   ]
  },
  {
   "cell_type": "code",
   "execution_count": 21,
   "metadata": {
    "collapsed": true
   },
   "outputs": [],
   "source": [
    "params = {\n",
    "    'boosting_type': 'gbdt',\n",
    "    'objective': 'regression_l2',\n",
    "    'metric': 'mse',\n",
    "    'num_leaves': 31,\n",
    "    'learning_rate': 0.05,\n",
    "    'feature_fraction': 0.7,\n",
    "    'bagging_fraction': 0.9,\n",
    "    'bagging_freq': 1,\n",
    "    'verbose': 0,\n",
    "    'lambda_l1':1,\n",
    "    'lambda_l2':0.1\n",
    "}"
   ]
  },
  {
   "cell_type": "code",
   "execution_count": 22,
   "metadata": {
    "collapsed": true
   },
   "outputs": [],
   "source": [
    "predictor = [c for c in train.columns.tolist() if c not in['ID','y','is_train']]"
   ]
  },
  {
   "cell_type": "code",
   "execution_count": 23,
   "metadata": {},
   "outputs": [
    {
     "data": {
      "text/plain": [
       "233"
      ]
     },
     "execution_count": 23,
     "metadata": {},
     "output_type": "execute_result"
    }
   ],
   "source": [
    "len(predictor)"
   ]
  },
  {
   "cell_type": "code",
   "execution_count": 24,
   "metadata": {},
   "outputs": [
    {
     "name": "stdout",
     "output_type": "stream",
     "text": [
      "Training until validation scores don't improve for 100 rounds.\n",
      "[500]\tvalid's l2: 0.0495188\tvalid's score: 0.817977\n",
      "[1000]\tvalid's l2: 0.049135\tvalid's score: 0.818556\n",
      "[1500]\tvalid's l2: 0.0490742\tvalid's score: 0.818648\n",
      "Early stopping, best iteration is:\n",
      "[1680]\tvalid's l2: 0.0490264\tvalid's score: 0.81872\n",
      "Training until validation scores don't improve for 100 rounds.\n",
      "[500]\tvalid's l2: 0.0123617\tvalid's score: 0.899942\n",
      "[1000]\tvalid's l2: 0.0120187\tvalid's score: 0.901201\n",
      "[1500]\tvalid's l2: 0.0119388\tvalid's score: 0.901498\n",
      "[2000]\tvalid's l2: 0.0118928\tvalid's score: 0.901669\n",
      "Early stopping, best iteration is:\n",
      "[1955]\tvalid's l2: 0.0118904\tvalid's score: 0.901678\n",
      "Training until validation scores don't improve for 100 rounds.\n",
      "[500]\tvalid's l2: 0.00904629\tvalid's score: 0.913149\n",
      "Early stopping, best iteration is:\n",
      "[446]\tvalid's l2: 0.00902163\tvalid's score: 0.913257\n",
      "Training until validation scores don't improve for 100 rounds.\n",
      "[500]\tvalid's l2: 0.0339906\tvalid's score: 0.844334\n",
      "[1000]\tvalid's l2: 0.033333\tvalid's score: 0.845614\n",
      "[1500]\tvalid's l2: 0.0330806\tvalid's score: 0.846109\n",
      "[2000]\tvalid's l2: 0.0329842\tvalid's score: 0.846299\n",
      "Early stopping, best iteration is:\n",
      "[1999]\tvalid's l2: 0.0329837\tvalid's score: 0.8463\n",
      "Training until validation scores don't improve for 100 rounds.\n",
      "[500]\tvalid's l2: 0.0119243\tvalid's score: 0.901552\n",
      "[1000]\tvalid's l2: 0.0117498\tvalid's score: 0.902204\n",
      "Early stopping, best iteration is:\n",
      "[1147]\tvalid's l2: 0.0117296\tvalid's score: 0.90228\n",
      "Training until validation scores don't improve for 100 rounds.\n",
      "[500]\tvalid's l2: 0.0490965\tvalid's score: 0.818614\n",
      "[1000]\tvalid's l2: 0.0483232\tvalid's score: 0.81979\n",
      "[1500]\tvalid's l2: 0.0481022\tvalid's score: 0.820128\n",
      "[2000]\tvalid's l2: 0.0480086\tvalid's score: 0.820271\n",
      "Early stopping, best iteration is:\n",
      "[2171]\tvalid's l2: 0.0479806\tvalid's score: 0.820314\n",
      "Training until validation scores don't improve for 100 rounds.\n",
      "[500]\tvalid's l2: 0.00916466\tvalid's score: 0.912632\n",
      "Early stopping, best iteration is:\n",
      "[517]\tvalid's l2: 0.00914431\tvalid's score: 0.91272\n",
      "Training until validation scores don't improve for 100 rounds.\n",
      "[500]\tvalid's l2: 0.0180939\tvalid's score: 0.881435\n",
      "[1000]\tvalid's l2: 0.0177111\tvalid's score: 0.882548\n",
      "[1500]\tvalid's l2: 0.0175389\tvalid's score: 0.883053\n",
      "Early stopping, best iteration is:\n",
      "[1854]\tvalid's l2: 0.0174497\tvalid's score: 0.883316\n",
      "Training until validation scores don't improve for 100 rounds.\n",
      "[500]\tvalid's l2: 0.0288099\tvalid's score: 0.854895\n",
      "[1000]\tvalid's l2: 0.0268964\tvalid's score: 0.859106\n",
      "[1500]\tvalid's l2: 0.0264016\tvalid's score: 0.860226\n",
      "[2000]\tvalid's l2: 0.0262096\tvalid's score: 0.860664\n",
      "[2500]\tvalid's l2: 0.0261221\tvalid's score: 0.860864\n",
      "[3000]\tvalid's l2: 0.0260741\tvalid's score: 0.860974\n",
      "Early stopping, best iteration is:\n",
      "[3085]\tvalid's l2: 0.0260656\tvalid's score: 0.860994\n",
      "Training until validation scores don't improve for 100 rounds.\n",
      "[500]\tvalid's l2: 0.0126564\tvalid's score: 0.898876\n",
      "Early stopping, best iteration is:\n",
      "[542]\tvalid's l2: 0.0126395\tvalid's score: 0.898936\n",
      "Training until validation scores don't improve for 100 rounds.\n",
      "[500]\tvalid's l2: 0.029114\tvalid's score: 0.854242\n",
      "[1000]\tvalid's l2: 0.0285447\tvalid's score: 0.855467\n",
      "[1500]\tvalid's l2: 0.0283556\tvalid's score: 0.855878\n",
      "[2000]\tvalid's l2: 0.0283114\tvalid's score: 0.855974\n",
      "Early stopping, best iteration is:\n",
      "[2079]\tvalid's l2: 0.0282977\tvalid's score: 0.856004\n",
      "Training until validation scores don't improve for 100 rounds.\n",
      "[500]\tvalid's l2: 0.0496889\tvalid's score: 0.817722\n",
      "Early stopping, best iteration is:\n",
      "[702]\tvalid's l2: 0.0495067\tvalid's score: 0.817995\n",
      "Training until validation scores don't improve for 100 rounds.\n",
      "[500]\tvalid's l2: 0.0113976\tvalid's score: 0.903538\n",
      "Early stopping, best iteration is:\n",
      "[881]\tvalid's l2: 0.0112804\tvalid's score: 0.903988\n",
      "Training until validation scores don't improve for 100 rounds.\n",
      "[500]\tvalid's l2: 0.00875331\tvalid's score: 0.914445\n",
      "Early stopping, best iteration is:\n",
      "[422]\tvalid's l2: 0.00871039\tvalid's score: 0.914637\n",
      "Training until validation scores don't improve for 100 rounds.\n",
      "[500]\tvalid's l2: 0.0173817\tvalid's score: 0.883517\n",
      "[1000]\tvalid's l2: 0.0169003\tvalid's score: 0.884955\n",
      "[1500]\tvalid's l2: 0.0166732\tvalid's score: 0.885642\n",
      "[2000]\tvalid's l2: 0.0166172\tvalid's score: 0.885812\n",
      "Early stopping, best iteration is:\n",
      "[2273]\tvalid's l2: 0.0166031\tvalid's score: 0.885855\n",
      "Training until validation scores don't improve for 100 rounds.\n",
      "[500]\tvalid's l2: 0.0112939\tvalid's score: 0.903936\n",
      "Early stopping, best iteration is:\n",
      "[406]\tvalid's l2: 0.0112172\tvalid's score: 0.904232\n",
      "Training until validation scores don't improve for 100 rounds.\n",
      "[500]\tvalid's l2: 0.0451905\tvalid's score: 0.824687\n",
      "[1000]\tvalid's l2: 0.0449181\tvalid's score: 0.825124\n",
      "[1500]\tvalid's l2: 0.0448685\tvalid's score: 0.825204\n",
      "Early stopping, best iteration is:\n",
      "[1581]\tvalid's l2: 0.0448503\tvalid's score: 0.825233\n",
      "Training until validation scores don't improve for 100 rounds.\n",
      "[500]\tvalid's l2: 0.0237869\tvalid's score: 0.866378\n",
      "[1000]\tvalid's l2: 0.0234421\tvalid's score: 0.867221\n",
      "Early stopping, best iteration is:\n",
      "[1084]\tvalid's l2: 0.0234204\tvalid's score: 0.867275\n",
      "Training until validation scores don't improve for 100 rounds.\n",
      "[500]\tvalid's l2: 0.0206749\tvalid's score: 0.874288\n",
      "[1000]\tvalid's l2: 0.020031\tvalid's score: 0.876016\n",
      "[1500]\tvalid's l2: 0.0197051\tvalid's score: 0.876905\n",
      "Early stopping, best iteration is:\n",
      "[1547]\tvalid's l2: 0.0196784\tvalid's score: 0.876978\n",
      "Training until validation scores don't improve for 100 rounds.\n",
      "[500]\tvalid's l2: 0.0171559\tvalid's score: 0.884188\n",
      "Early stopping, best iteration is:\n",
      "[479]\tvalid's l2: 0.0171371\tvalid's score: 0.884245\n",
      "Training until validation scores don't improve for 100 rounds.\n",
      "[500]\tvalid's l2: 0.01099\tvalid's score: 0.905114\n",
      "[1000]\tvalid's l2: 0.0107765\tvalid's score: 0.905953\n",
      "[1500]\tvalid's l2: 0.0107143\tvalid's score: 0.906199\n",
      "[2000]\tvalid's l2: 0.0106667\tvalid's score: 0.906389\n",
      "Early stopping, best iteration is:\n",
      "[2106]\tvalid's l2: 0.0106584\tvalid's score: 0.906422\n",
      "Training until validation scores don't improve for 100 rounds.\n",
      "[500]\tvalid's l2: 0.06849\tvalid's score: 0.792578\n",
      "[1000]\tvalid's l2: 0.0641683\tvalid's score: 0.797884\n",
      "[1500]\tvalid's l2: 0.0629795\tvalid's score: 0.799388\n",
      "[2000]\tvalid's l2: 0.0626515\tvalid's score: 0.799806\n",
      "Early stopping, best iteration is:\n",
      "[2291]\tvalid's l2: 0.0625554\tvalid's score: 0.799929\n",
      "Training until validation scores don't improve for 100 rounds.\n",
      "[500]\tvalid's l2: 0.0126849\tvalid's score: 0.898774\n",
      "[1000]\tvalid's l2: 0.0120423\tvalid's score: 0.901114\n",
      "[1500]\tvalid's l2: 0.0118122\tvalid's score: 0.90197\n",
      "[2000]\tvalid's l2: 0.0117231\tvalid's score: 0.902305\n",
      "[2500]\tvalid's l2: 0.0116822\tvalid's score: 0.902458\n",
      "Early stopping, best iteration is:\n",
      "[2767]\tvalid's l2: 0.0116617\tvalid's score: 0.902536\n",
      "Training until validation scores don't improve for 100 rounds.\n",
      "[500]\tvalid's l2: 0.0155331\tvalid's score: 0.88918\n",
      "Early stopping, best iteration is:\n",
      "[703]\tvalid's l2: 0.0155103\tvalid's score: 0.889252\n",
      "Training until validation scores don't improve for 100 rounds.\n",
      "Early stopping, best iteration is:\n",
      "[303]\tvalid's l2: 0.0176122\tvalid's score: 0.882838\n"
     ]
    }
   ],
   "source": [
    "test_predicts = []\n",
    "val_preds = []\n",
    "\n",
    "# log_test_predicts = []\n",
    "# log_val_predicts = []\n",
    "for idx, seed in enumerate([1,2,3,4,5]):\n",
    "    kf = KFold(5, shuffle=True, random_state=seed)\n",
    "    \n",
    "    val_preds.append(np.zeros(train.shape[0]))\n",
    "    for n_fold, (tra_idx, val_idx) in enumerate(kf.split(train)):\n",
    "        tra = train.iloc[tra_idx]\n",
    "        val = train.iloc[val_idx]\n",
    "\n",
    "        train_set = lightgbm.Dataset(\n",
    "            tra[predictor],\n",
    "            tra['y']\n",
    "        )\n",
    "\n",
    "        validation_set = lightgbm.Dataset(\n",
    "            val[predictor],\n",
    "            val['y']\n",
    "        )\n",
    "\n",
    "        model = lightgbm.train(params, train_set, num_boost_round=5000,\n",
    "                              valid_sets= [validation_set],\n",
    "                              valid_names=['valid'],\n",
    "                              early_stopping_rounds=100,\n",
    "                               feval=my_val,\n",
    "                              verbose_eval=500)\n",
    "\n",
    "        val_preds[idx][val_idx] = model.predict(val[predictor])\n",
    "        test_predicts.append(model.predict(test[predictor]))\n",
    "        \n",
    "#         train_set = lightgbm.Dataset(\n",
    "#             tra[predictor],\n",
    "#             np.log1p(tra['y'])\n",
    "#         )\n",
    "\n",
    "#         validation_set = lightgbm.Dataset(\n",
    "#             val[predictor],\n",
    "#             np.log1p(val['y'])\n",
    "#         )\n",
    "\n",
    "#         model = lightgbm.train(params, train_set, num_boost_round=5000,\n",
    "#                               valid_sets= [validation_set],\n",
    "#                               valid_names=['valid'],\n",
    "#                               early_stopping_rounds=100,\n",
    "#                                feval=my_val,\n",
    "#                               verbose_eval=500)\n",
    "\n",
    "#         val_preds[idx][val_idx] = np.expm1(model.predict(val[predictor]))\n",
    "#         test_predicts.append(np.expm1(model.predict(test[predictor])))"
   ]
  },
  {
   "cell_type": "code",
   "execution_count": 25,
   "metadata": {},
   "outputs": [
    {
     "name": "stdout",
     "output_type": "stream",
     "text": [
      "local cv: 0.871783887846\n"
     ]
    }
   ],
   "source": [
    "print('local cv:',1/(1+np.sqrt(mean_squared_error(train['y'],np.mean(val_preds,axis=0)))))"
   ]
  },
  {
   "cell_type": "code",
   "execution_count": 26,
   "metadata": {},
   "outputs": [
    {
     "data": {
      "text/plain": [
       "P_A_X_P_avg     402522.974234\n",
       "P_avg_X_I_A     286669.525988\n",
       "I_A_X_I_C        21613.242754\n",
       "P_A_X_I_B        18360.454521\n",
       "predict_p_1      18222.924648\n",
       "P_A              11241.384867\n",
       "V_A_X_I_A         8252.489195\n",
       "fake_env_t        4156.879491\n",
       "P_C_X_I_A         3093.671467\n",
       "P_avg_X_I_C       2535.629183\n",
       "P_A_X_P_A         2534.696816\n",
       "P_A_X_I_A         1669.269868\n",
       "P_A_X_P_B         1642.717815\n",
       "P_B_X_I_C         1588.420404\n",
       "P_A_X_P_C         1494.770889\n",
       "P_A_X_I_C         1379.372324\n",
       "P_B_X_I_A         1109.970413\n",
       "I_A                845.224211\n",
       "fake_board_t       822.885811\n",
       "I_A_X_I_A          785.838032\n",
       "dtype: float64"
      ]
     },
     "execution_count": 26,
     "metadata": {},
     "output_type": "execute_result"
    }
   ],
   "source": [
    "pd.Series(model.feature_importance(importance_type='gain'),\n",
    "          index=model.feature_name()).sort_values(ascending=False).head(20)"
   ]
  },
  {
   "cell_type": "code",
   "execution_count": 27,
   "metadata": {},
   "outputs": [
    {
     "name": "stderr",
     "output_type": "stream",
     "text": [
      "/Users/wyh/anaconda/lib/python3.6/site-packages/ipykernel_launcher.py:1: SettingWithCopyWarning: \n",
      "A value is trying to be set on a copy of a slice from a DataFrame.\n",
      "Try using .loc[row_indexer,col_indexer] = value instead\n",
      "\n",
      "See the caveats in the documentation: http://pandas.pydata.org/pandas-docs/stable/indexing.html#indexing-view-versus-copy\n",
      "  \"\"\"Entry point for launching an IPython kernel.\n"
     ]
    }
   ],
   "source": [
    "test['ans'] = np.mean(test_predicts, axis=0)"
   ]
  },
  {
   "cell_type": "code",
   "execution_count": 28,
   "metadata": {
    "collapsed": true
   },
   "outputs": [],
   "source": [
    "test[['ID','ans']].to_csv('../result/0810-8718-bagging.csv',header=False, index=False)"
   ]
  },
  {
   "cell_type": "code",
   "execution_count": 37,
   "metadata": {},
   "outputs": [
    {
     "name": "stderr",
     "output_type": "stream",
     "text": [
      "/Users/wyh/anaconda/lib/python3.6/site-packages/ipykernel_launcher.py:1: SettingWithCopyWarning: \n",
      "A value is trying to be set on a copy of a slice from a DataFrame.\n",
      "Try using .loc[row_indexer,col_indexer] = value instead\n",
      "\n",
      "See the caveats in the documentation: http://pandas.pydata.org/pandas-docs/stable/indexing.html#indexing-view-versus-copy\n",
      "  \"\"\"Entry point for launching an IPython kernel.\n"
     ]
    }
   ],
   "source": [
    "test['ans2']=test['ans']*1.1835"
   ]
  },
  {
   "cell_type": "code",
   "execution_count": 38,
   "metadata": {
    "collapsed": true
   },
   "outputs": [],
   "source": [
    "test[['ID','ans2']].to_csv('../result/0810-8718-modified.csv',header=False, index=False)"
   ]
  },
  {
   "cell_type": "code",
   "execution_count": 39,
   "metadata": {},
   "outputs": [
    {
     "data": {
      "text/plain": [
       "<matplotlib.axes._subplots.AxesSubplot at 0x11a868d30>"
      ]
     },
     "execution_count": 39,
     "metadata": {},
     "output_type": "execute_result"
    },
    {
     "data": {
      "image/png": "[encoded data removed]",
      "text/plain": [
       "<matplotlib.figure.Figure at 0x11a80e588>"
      ]
     },
     "metadata": {},
     "output_type": "display_data"
    }
   ],
   "source": [
    "test['ans2'].hist()"
   ]
  },
  {
   "cell_type": "code",
   "execution_count": 40,
   "metadata": {},
   "outputs": [
    {
     "data": {
      "text/plain": [
       "<matplotlib.axes._subplots.AxesSubplot at 0x11aa28128>"
      ]
     },
     "execution_count": 40,
     "metadata": {},
     "output_type": "execute_result"
    },
    {
     "data": {
      "image/png": "[encoded data removed]",
      "text/plain": [
       "<matplotlib.figure.Figure at 0x11a9397f0>"
      ]
     },
     "metadata": {},
     "output_type": "display_data"
    }
   ],
   "source": [
    "test['ans'].hist()"
   ]
  },
  {
   "cell_type": "code",
   "execution_count": 30,
   "metadata": {},
   "outputs": [
    {
     "data": {
      "text/plain": [
       "count    8409.000000\n",
       "mean        4.811863\n",
       "std         2.660021\n",
       "min        -0.064294\n",
       "25%         2.428454\n",
       "50%         5.110464\n",
       "75%         7.140176\n",
       "max        10.153692\n",
       "Name: ans, dtype: float64"
      ]
     },
     "execution_count": 30,
     "metadata": {},
     "output_type": "execute_result"
    }
   ],
   "source": [
    "test['ans'].describe()"
   ]
  },
  {
   "cell_type": "code",
   "execution_count": 36,
   "metadata": {},
   "outputs": [
    {
     "data": {
      "text/plain": [
       "count    8409.000000\n",
       "mean        5.620256\n",
       "std         3.106905\n",
       "min        -0.075095\n",
       "25%         2.836434\n",
       "50%         5.969022\n",
       "75%         8.339726\n",
       "max        11.859513\n",
       "Name: ans2, dtype: float64"
      ]
     },
     "execution_count": 36,
     "metadata": {},
     "output_type": "execute_result"
    }
   ],
   "source": [
    "test['ans2'].describe()"
   ]
  },
  {
   "cell_type": "code",
   "execution_count": 41,
   "metadata": {},
   "outputs": [
    {
     "data": {
      "text/plain": [
       "<matplotlib.axes._subplots.AxesSubplot at 0x11ad62b38>"
      ]
     },
     "execution_count": 41,
     "metadata": {},
     "output_type": "execute_result"
    },
    {
     "data": {
      "image/png": "[encoded data removed]",
      "text/plain": [
       "<matplotlib.figure.Figure at 0x11aaa1e80>"
      ]
     },
     "metadata": {},
     "output_type": "display_data"
    }
   ],
   "source": [
    "train['y'].hist()"
   ]
  },
  {
   "cell_type": "code",
   "execution_count": 32,
   "metadata": {},
   "outputs": [
    {
     "data": {
      "text/plain": [
       "count    9000.000000\n",
       "mean        5.695245\n",
       "std         3.463744\n",
       "min        -0.125144\n",
       "25%         2.512812\n",
       "50%         5.769032\n",
       "75%         8.896220\n",
       "max        12.288756\n",
       "Name: y, dtype: float64"
      ]
     },
     "execution_count": 32,
     "metadata": {},
     "output_type": "execute_result"
    }
   ],
   "source": [
    "train['y'].describe()"
   ]
  },
  {
   "cell_type": "code",
   "execution_count": null,
   "metadata": {
    "collapsed": true
   },
   "outputs": [],
   "source": []
  }
 ],
 "metadata": {
  "kernelspec": {
   "display_name": "Python 3",
   "language": "python",
   "name": "python3"
  },
  "language_info": {
   "codemirror_mode": {
    "name": "ipython",
    "version": 3
   },
   "file_extension": ".py",
   "mimetype": "text/x-python",
   "name": "python",
   "nbconvert_exporter": "python",
   "pygments_lexer": "ipython3",
   "version": "3.6.1"
  }
 },
 "nbformat": 4,
 "nbformat_minor": 2
}
