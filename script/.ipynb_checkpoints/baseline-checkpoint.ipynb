{
 "cells": [
  {
   "cell_type": "code",
   "execution_count": 1,
   "metadata": {
    "collapsed": true
   },
   "outputs": [],
   "source": [
    "import pandas as pd\n",
    "import matplotlib.pyplot as plt\n",
    "import numpy as np\n",
    "\n",
    "import lightgbm\n",
    "\n",
    "from sklearn.model_selection import KFold\n",
    "from sklearn.metrics import mean_squared_error\n",
    "\n",
    "%matplotlib inline"
   ]
  },
  {
   "cell_type": "code",
   "execution_count": 2,
   "metadata": {
    "collapsed": true
   },
   "outputs": [],
   "source": [
    "rep_cols = {'ID':'ID', \n",
    " '板温':'board_t', \n",
    " '现场温度':'env_t', \n",
    " '光照强度':'light_strength', \n",
    " '转换效率':'efficiency', \n",
    " '转换效率A':'efficiency_A', \n",
    " '转换效率B':'efficiency_B', \n",
    " '转换效率C':'efficiency_C', \n",
    " '电压A':'V_A',\n",
    " '电压B':'V_B', \n",
    " '电压C':'V_C', \n",
    " '电流A':'I_A', \n",
    " '电流B':'I_B', \n",
    " '电流C':'I_C', \n",
    " '功率A':'P_A', \n",
    " '功率B':'P_B', \n",
    " '功率C':'P_C', \n",
    " '平均功率':'P_avg', \n",
    " '风速':'wind_speed',\n",
    " '风向':'wind_direction', \n",
    " '发电量':'y'\n",
    "}"
   ]
  },
  {
   "cell_type": "code",
   "execution_count": 3,
   "metadata": {
    "collapsed": true
   },
   "outputs": [],
   "source": [
    "def my_val(preds, train_data):\n",
    "    label = train_data.get_label()\n",
    "    return 'score', 1/(1+np.sqrt(mean_squared_error(preds, label))), True"
   ]
  },
  {
   "cell_type": "code",
   "execution_count": null,
   "metadata": {
    "collapsed": true
   },
   "outputs": [],
   "source": [
    "def my_obj(preds, train_data):\n",
    "    labels = train_deata.get_label()\n",
    "    "
   ]
  },
  {
   "cell_type": "code",
   "execution_count": 4,
   "metadata": {
    "collapsed": true
   },
   "outputs": [],
   "source": [
    "train = pd.read_csv('../data/public.train.csv')\n",
    "test = pd.read_csv('../data/public.test.csv')\n",
    "\n",
    "train_len = train.shape[0]\n",
    "\n",
    "df = pd.concat([train, test])"
   ]
  },
  {
   "cell_type": "code",
   "execution_count": 5,
   "metadata": {
    "collapsed": true
   },
   "outputs": [],
   "source": [
    "df.rename(index=str, columns=rep_cols, inplace=True)"
   ]
  },
  {
   "cell_type": "code",
   "execution_count": 6,
   "metadata": {},
   "outputs": [
    {
     "data": {
      "text/html": [
       "<div>\n",
       "<style>\n",
       "    .dataframe thead tr:only-child th {\n",
       "        text-align: right;\n",
       "    }\n",
       "\n",
       "    .dataframe thead th {\n",
       "        text-align: left;\n",
       "    }\n",
       "\n",
       "    .dataframe tbody tr th {\n",
       "        vertical-align: top;\n",
       "    }\n",
       "</style>\n",
       "<table border=\"1\" class=\"dataframe\">\n",
       "  <thead>\n",
       "    <tr style=\"text-align: right;\">\n",
       "      <th></th>\n",
       "      <th>ID</th>\n",
       "      <th>light_strength</th>\n",
       "      <th>P_A</th>\n",
       "      <th>P_B</th>\n",
       "      <th>P_C</th>\n",
       "      <th>y</th>\n",
       "      <th>P_avg</th>\n",
       "      <th>board_t</th>\n",
       "      <th>env_t</th>\n",
       "      <th>V_A</th>\n",
       "      <th>...</th>\n",
       "      <th>V_C</th>\n",
       "      <th>I_A</th>\n",
       "      <th>I_B</th>\n",
       "      <th>I_C</th>\n",
       "      <th>efficiency</th>\n",
       "      <th>efficiency_A</th>\n",
       "      <th>efficiency_B</th>\n",
       "      <th>efficiency_C</th>\n",
       "      <th>wind_direction</th>\n",
       "      <th>wind_speed</th>\n",
       "    </tr>\n",
       "  </thead>\n",
       "  <tbody>\n",
       "    <tr>\n",
       "      <th>0</th>\n",
       "      <td>10</td>\n",
       "      <td>34</td>\n",
       "      <td>976.86</td>\n",
       "      <td>155.98</td>\n",
       "      <td>1087.50</td>\n",
       "      <td>1.437752</td>\n",
       "      <td>740.11</td>\n",
       "      <td>-19.14</td>\n",
       "      <td>-17.4</td>\n",
       "      <td>729</td>\n",
       "      <td>...</td>\n",
       "      <td>725</td>\n",
       "      <td>1.34</td>\n",
       "      <td>0.22</td>\n",
       "      <td>1.50</td>\n",
       "      <td>80.55</td>\n",
       "      <td>106.32</td>\n",
       "      <td>16.98</td>\n",
       "      <td>118.36</td>\n",
       "      <td>272</td>\n",
       "      <td>0.6</td>\n",
       "    </tr>\n",
       "    <tr>\n",
       "      <th>1</th>\n",
       "      <td>11</td>\n",
       "      <td>30</td>\n",
       "      <td>1128.40</td>\n",
       "      <td>172.08</td>\n",
       "      <td>1132.56</td>\n",
       "      <td>1.692575</td>\n",
       "      <td>811.01</td>\n",
       "      <td>-18.73</td>\n",
       "      <td>-17.3</td>\n",
       "      <td>728</td>\n",
       "      <td>...</td>\n",
       "      <td>726</td>\n",
       "      <td>1.55</td>\n",
       "      <td>0.24</td>\n",
       "      <td>1.56</td>\n",
       "      <td>99.90</td>\n",
       "      <td>139.00</td>\n",
       "      <td>21.20</td>\n",
       "      <td>139.51</td>\n",
       "      <td>275</td>\n",
       "      <td>0.8</td>\n",
       "    </tr>\n",
       "    <tr>\n",
       "      <th>2</th>\n",
       "      <td>12</td>\n",
       "      <td>41</td>\n",
       "      <td>1279.25</td>\n",
       "      <td>166.06</td>\n",
       "      <td>1310.40</td>\n",
       "      <td>1.975787</td>\n",
       "      <td>918.57</td>\n",
       "      <td>-17.54</td>\n",
       "      <td>-17.0</td>\n",
       "      <td>731</td>\n",
       "      <td>...</td>\n",
       "      <td>720</td>\n",
       "      <td>1.75</td>\n",
       "      <td>0.23</td>\n",
       "      <td>1.82</td>\n",
       "      <td>82.48</td>\n",
       "      <td>114.86</td>\n",
       "      <td>14.91</td>\n",
       "      <td>117.66</td>\n",
       "      <td>283</td>\n",
       "      <td>1.1</td>\n",
       "    </tr>\n",
       "    <tr>\n",
       "      <th>3</th>\n",
       "      <td>14</td>\n",
       "      <td>53</td>\n",
       "      <td>1474.60</td>\n",
       "      <td>225.37</td>\n",
       "      <td>1517.34</td>\n",
       "      <td>2.370656</td>\n",
       "      <td>1072.44</td>\n",
       "      <td>-15.43</td>\n",
       "      <td>-16.6</td>\n",
       "      <td>730</td>\n",
       "      <td>...</td>\n",
       "      <td>726</td>\n",
       "      <td>2.02</td>\n",
       "      <td>0.31</td>\n",
       "      <td>2.09</td>\n",
       "      <td>73.98</td>\n",
       "      <td>101.72</td>\n",
       "      <td>15.55</td>\n",
       "      <td>104.67</td>\n",
       "      <td>280</td>\n",
       "      <td>0.9</td>\n",
       "    </tr>\n",
       "    <tr>\n",
       "      <th>4</th>\n",
       "      <td>15</td>\n",
       "      <td>65</td>\n",
       "      <td>1548.51</td>\n",
       "      <td>233.28</td>\n",
       "      <td>1674.40</td>\n",
       "      <td>2.532091</td>\n",
       "      <td>1152.06</td>\n",
       "      <td>-14.60</td>\n",
       "      <td>-16.3</td>\n",
       "      <td>727</td>\n",
       "      <td>...</td>\n",
       "      <td>728</td>\n",
       "      <td>2.13</td>\n",
       "      <td>0.32</td>\n",
       "      <td>2.30</td>\n",
       "      <td>64.62</td>\n",
       "      <td>86.86</td>\n",
       "      <td>13.09</td>\n",
       "      <td>93.92</td>\n",
       "      <td>280</td>\n",
       "      <td>1.1</td>\n",
       "    </tr>\n",
       "  </tbody>\n",
       "</table>\n",
       "<p>5 rows × 21 columns</p>\n",
       "</div>"
      ],
      "text/plain": [
       "   ID  light_strength      P_A     P_B      P_C         y    P_avg  board_t  \\\n",
       "0  10              34   976.86  155.98  1087.50  1.437752   740.11   -19.14   \n",
       "1  11              30  1128.40  172.08  1132.56  1.692575   811.01   -18.73   \n",
       "2  12              41  1279.25  166.06  1310.40  1.975787   918.57   -17.54   \n",
       "3  14              53  1474.60  225.37  1517.34  2.370656  1072.44   -15.43   \n",
       "4  15              65  1548.51  233.28  1674.40  2.532091  1152.06   -14.60   \n",
       "\n",
       "   env_t  V_A     ...      V_C   I_A   I_B   I_C  efficiency  efficiency_A  \\\n",
       "0  -17.4  729     ...      725  1.34  0.22  1.50       80.55        106.32   \n",
       "1  -17.3  728     ...      726  1.55  0.24  1.56       99.90        139.00   \n",
       "2  -17.0  731     ...      720  1.75  0.23  1.82       82.48        114.86   \n",
       "3  -16.6  730     ...      726  2.02  0.31  2.09       73.98        101.72   \n",
       "4  -16.3  727     ...      728  2.13  0.32  2.30       64.62         86.86   \n",
       "\n",
       "   efficiency_B  efficiency_C  wind_direction  wind_speed  \n",
       "0         16.98        118.36             272         0.6  \n",
       "1         21.20        139.51             275         0.8  \n",
       "2         14.91        117.66             283         1.1  \n",
       "3         15.55        104.67             280         0.9  \n",
       "4         13.09         93.92             280         1.1  \n",
       "\n",
       "[5 rows x 21 columns]"
      ]
     },
     "execution_count": 6,
     "metadata": {},
     "output_type": "execute_result"
    }
   ],
   "source": [
    "df.head()"
   ]
  },
  {
   "cell_type": "code",
   "execution_count": 7,
   "metadata": {},
   "outputs": [],
   "source": [
    "#异常值处理\n",
    "cols = [c for c in df.columns.tolist() if c!='y' and c!='ID']\n",
    "for c in cols:\n",
    "    df[c] = np.clip(df[c],df[c].quantile(0.01),df[c].quantile(0.99))"
   ]
  },
  {
   "cell_type": "code",
   "execution_count": 9,
   "metadata": {
    "collapsed": true
   },
   "outputs": [],
   "source": [
    "train = df.iloc[0:train_len]\n",
    "test = df.iloc[train_len:]"
   ]
  },
  {
   "cell_type": "code",
   "execution_count": 10,
   "metadata": {
    "collapsed": true
   },
   "outputs": [],
   "source": [
    "params = {\n",
    "    'boosting_type': 'gbdt',\n",
    "    'objective': 'regression_l2',\n",
    "    'metric': 'mse',\n",
    "    'num_leaves': 31,\n",
    "    'learning_rate': 0.05,\n",
    "    'feature_fraction': 0.9,\n",
    "    'bagging_fraction': 0.8,\n",
    "    'bagging_freq': 5,\n",
    "    'verbose': 0\n",
    "}"
   ]
  },
  {
   "cell_type": "code",
   "execution_count": 11,
   "metadata": {
    "collapsed": true
   },
   "outputs": [],
   "source": [
    "predictor = [c for c in train.columns.tolist() if c!='y' and c!='ID']"
   ]
  },
  {
   "cell_type": "code",
   "execution_count": 12,
   "metadata": {
    "collapsed": true
   },
   "outputs": [],
   "source": [
    "kf = KFold(5, shuffle=True, random_state=2018)"
   ]
  },
  {
   "cell_type": "code",
   "execution_count": 13,
   "metadata": {},
   "outputs": [
    {
     "name": "stdout",
     "output_type": "stream",
     "text": [
      "Training until validation scores don't improve for 100 rounds.\n",
      "[100]\tvalid's l2: 0.115208\tvalid's score: 0.74659\n",
      "[200]\tvalid's l2: 0.099653\tvalid's score: 0.760064\n",
      "[300]\tvalid's l2: 0.0930849\tvalid's score: 0.766226\n",
      "[400]\tvalid's l2: 0.0892482\tvalid's score: 0.769975\n",
      "[500]\tvalid's l2: 0.0870964\tvalid's score: 0.772129\n",
      "[600]\tvalid's l2: 0.0861401\tvalid's score: 0.773098\n",
      "[700]\tvalid's l2: 0.0852497\tvalid's score: 0.774009\n",
      "[800]\tvalid's l2: 0.0847041\tvalid's score: 0.77457\n",
      "[900]\tvalid's l2: 0.0840564\tvalid's score: 0.775239\n",
      "[1000]\tvalid's l2: 0.0835562\tvalid's score: 0.775759\n",
      "[1100]\tvalid's l2: 0.083197\tvalid's score: 0.776133\n",
      "[1200]\tvalid's l2: 0.0828824\tvalid's score: 0.776462\n",
      "[1300]\tvalid's l2: 0.0827022\tvalid's score: 0.776651\n",
      "[1400]\tvalid's l2: 0.0827175\tvalid's score: 0.776635\n",
      "[1500]\tvalid's l2: 0.0826004\tvalid's score: 0.776758\n",
      "[1600]\tvalid's l2: 0.0824657\tvalid's score: 0.776899\n",
      "[1700]\tvalid's l2: 0.0823382\tvalid's score: 0.777033\n",
      "[1800]\tvalid's l2: 0.0823305\tvalid's score: 0.777041\n",
      "[1900]\tvalid's l2: 0.0822678\tvalid's score: 0.777107\n",
      "[2000]\tvalid's l2: 0.0822895\tvalid's score: 0.777084\n",
      "Early stopping, best iteration is:\n",
      "[1965]\tvalid's l2: 0.0822518\tvalid's score: 0.777124\n",
      "Training until validation scores don't improve for 100 rounds.\n",
      "[100]\tvalid's l2: 0.0291603\tvalid's score: 0.854143\n",
      "[200]\tvalid's l2: 0.0228712\tvalid's score: 0.868635\n",
      "[300]\tvalid's l2: 0.0206096\tvalid's score: 0.874462\n",
      "[400]\tvalid's l2: 0.0199657\tvalid's score: 0.876194\n",
      "[500]\tvalid's l2: 0.019255\tvalid's score: 0.878146\n",
      "[600]\tvalid's l2: 0.0189094\tvalid's score: 0.879112\n",
      "[700]\tvalid's l2: 0.0187605\tvalid's score: 0.879531\n",
      "[800]\tvalid's l2: 0.0185791\tvalid's score: 0.880045\n",
      "[900]\tvalid's l2: 0.0182683\tvalid's score: 0.880933\n",
      "[1000]\tvalid's l2: 0.0180859\tvalid's score: 0.881458\n",
      "[1100]\tvalid's l2: 0.017885\tvalid's score: 0.88204\n",
      "[1200]\tvalid's l2: 0.0178867\tvalid's score: 0.882035\n",
      "Early stopping, best iteration is:\n",
      "[1115]\tvalid's l2: 0.0178441\tvalid's score: 0.88216\n",
      "Training until validation scores don't improve for 100 rounds.\n",
      "[100]\tvalid's l2: 0.0256853\tvalid's score: 0.861871\n",
      "[200]\tvalid's l2: 0.0191151\tvalid's score: 0.878536\n",
      "[300]\tvalid's l2: 0.0179591\tvalid's score: 0.881825\n",
      "[400]\tvalid's l2: 0.01743\tvalid's score: 0.883375\n",
      "[500]\tvalid's l2: 0.0168884\tvalid's score: 0.884991\n",
      "[600]\tvalid's l2: 0.016775\tvalid's score: 0.885333\n",
      "[700]\tvalid's l2: 0.0163748\tvalid's score: 0.886553\n",
      "[800]\tvalid's l2: 0.0162027\tvalid's score: 0.887083\n",
      "[900]\tvalid's l2: 0.0161714\tvalid's score: 0.88718\n",
      "[1000]\tvalid's l2: 0.0161198\tvalid's score: 0.88734\n",
      "Early stopping, best iteration is:\n",
      "[929]\tvalid's l2: 0.0160766\tvalid's score: 0.887474\n",
      "Training until validation scores don't improve for 100 rounds.\n",
      "[100]\tvalid's l2: 0.0284573\tvalid's score: 0.855657\n",
      "[200]\tvalid's l2: 0.02231\tvalid's score: 0.870045\n",
      "[300]\tvalid's l2: 0.0212468\tvalid's score: 0.872781\n",
      "[400]\tvalid's l2: 0.0209118\tvalid's score: 0.873661\n",
      "[500]\tvalid's l2: 0.0207572\tvalid's score: 0.87407\n",
      "Early stopping, best iteration is:\n",
      "[450]\tvalid's l2: 0.0205248\tvalid's score: 0.874688\n",
      "Training until validation scores don't improve for 100 rounds.\n",
      "[100]\tvalid's l2: 0.030659\tvalid's score: 0.850993\n",
      "[200]\tvalid's l2: 0.0229183\tvalid's score: 0.868517\n",
      "[300]\tvalid's l2: 0.021136\tvalid's score: 0.873071\n",
      "[400]\tvalid's l2: 0.0204861\tvalid's score: 0.874791\n",
      "[500]\tvalid's l2: 0.01992\tvalid's score: 0.876318\n",
      "[600]\tvalid's l2: 0.0194983\tvalid's score: 0.877473\n",
      "[700]\tvalid's l2: 0.0191407\tvalid's score: 0.878465\n",
      "[800]\tvalid's l2: 0.0189626\tvalid's score: 0.878963\n",
      "[900]\tvalid's l2: 0.0188891\tvalid's score: 0.879169\n",
      "[1000]\tvalid's l2: 0.0187147\tvalid's score: 0.879661\n",
      "[1100]\tvalid's l2: 0.0186776\tvalid's score: 0.879766\n",
      "[1200]\tvalid's l2: 0.0186021\tvalid's score: 0.87998\n",
      "[1300]\tvalid's l2: 0.0185432\tvalid's score: 0.880147\n",
      "[1400]\tvalid's l2: 0.0184321\tvalid's score: 0.880464\n",
      "[1500]\tvalid's l2: 0.0184177\tvalid's score: 0.880505\n",
      "Early stopping, best iteration is:\n",
      "[1420]\tvalid's l2: 0.0184112\tvalid's score: 0.880524\n"
     ]
    }
   ],
   "source": [
    "test_predicts = []\n",
    "val_preds = np.zeros(train.shape[0])\n",
    "for n_fold, (tra_idx, val_idx) in enumerate(kf.split(train)):\n",
    "    tra = train.iloc[tra_idx]\n",
    "    val = train.iloc[val_idx]\n",
    "    \n",
    "    train_set = lightgbm.Dataset(\n",
    "        tra[predictor],\n",
    "        tra['y']\n",
    "    )\n",
    "    \n",
    "    validation_set = lightgbm.Dataset(\n",
    "        val[predictor],\n",
    "        val['y']\n",
    "    )\n",
    "    \n",
    "    model = lightgbm.train(params, train_set, num_boost_round=5000,\n",
    "                          valid_sets= [validation_set],\n",
    "                          valid_names=['valid'],\n",
    "                          early_stopping_rounds=100,\n",
    "                           feval=my_val,\n",
    "                          verbose_eval=100)\n",
    "\n",
    "    val_preds[val_idx] = model.predict(val[predictor])\n",
    "    test_predicts.append(model.predict(test[predictor]))"
   ]
  },
  {
   "cell_type": "code",
   "execution_count": 17,
   "metadata": {},
   "outputs": [
    {
     "name": "stderr",
     "output_type": "stream",
     "text": [
      "/Users/wyh/anaconda/lib/python3.6/site-packages/ipykernel_launcher.py:1: SettingWithCopyWarning: \n",
      "A value is trying to be set on a copy of a slice from a DataFrame.\n",
      "Try using .loc[row_indexer,col_indexer] = value instead\n",
      "\n",
      "See the caveats in the documentation: http://pandas.pydata.org/pandas-docs/stable/indexing.html#indexing-view-versus-copy\n",
      "  \"\"\"Entry point for launching an IPython kernel.\n"
     ]
    }
   ],
   "source": [
    "test['ans'] = np.mean(test_predicts, axis=0)"
   ]
  },
  {
   "cell_type": "code",
   "execution_count": 18,
   "metadata": {
    "collapsed": true
   },
   "outputs": [],
   "source": [
    "test[['ID','ans']].to_csv('../result/baseline.csv',header=False, index=False)"
   ]
  },
  {
   "cell_type": "code",
   "execution_count": null,
   "metadata": {
    "collapsed": true
   },
   "outputs": [],
   "source": []
  }
 ],
 "metadata": {
  "kernelspec": {
   "display_name": "Python 3",
   "language": "python",
   "name": "python3"
  },
  "language_info": {
   "codemirror_mode": {
    "name": "ipython",
    "version": 3
   },
   "file_extension": ".py",
   "mimetype": "text/x-python",
   "name": "python",
   "nbconvert_exporter": "python",
   "pygments_lexer": "ipython3",
   "version": "3.6.1"
  }
 },
 "nbformat": 4,
 "nbformat_minor": 2
}
