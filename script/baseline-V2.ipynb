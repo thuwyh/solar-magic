{
 "cells": [
  {
   "cell_type": "code",
   "execution_count": 1,
   "metadata": {
    "collapsed": true
   },
   "outputs": [],
   "source": [
    "import pandas as pd\n",
    "import matplotlib.pyplot as plt\n",
    "import numpy as np\n",
    "\n",
    "import lightgbm\n",
    "\n",
    "from sklearn.model_selection import KFold\n",
    "from sklearn.metrics import mean_squared_error\n",
    "\n",
    "%matplotlib inline"
   ]
  },
  {
   "cell_type": "code",
   "execution_count": 2,
   "metadata": {
    "collapsed": true
   },
   "outputs": [],
   "source": [
    "rep_cols = {'ID':'ID', \n",
    " '板温':'board_t', \n",
    " '现场温度':'env_t', \n",
    " '光照强度':'light_strength', \n",
    " '转换效率':'efficiency', \n",
    " '转换效率A':'efficiency_A', \n",
    " '转换效率B':'efficiency_B', \n",
    " '转换效率C':'efficiency_C', \n",
    " '电压A':'V_A',\n",
    " '电压B':'V_B', \n",
    " '电压C':'V_C', \n",
    " '电流A':'I_A', \n",
    " '电流B':'I_B', \n",
    " '电流C':'I_C', \n",
    " '功率A':'P_A', \n",
    " '功率B':'P_B', \n",
    " '功率C':'P_C', \n",
    " '平均功率':'P_avg', \n",
    " '风速':'wind_speed',\n",
    " '风向':'wind_direction', \n",
    " '发电量':'y'\n",
    "}"
   ]
  },
  {
   "cell_type": "code",
   "execution_count": 3,
   "metadata": {
    "collapsed": true
   },
   "outputs": [],
   "source": [
    "def my_val(preds, train_data):\n",
    "    label = train_data.get_label()\n",
    "    return 'score', 1/(1+np.sqrt(mean_squared_error(preds, label))), True"
   ]
  },
  {
   "cell_type": "code",
   "execution_count": 4,
   "metadata": {
    "collapsed": true
   },
   "outputs": [],
   "source": [
    "def my_obj(preds, train_data):\n",
    "    labels = train_deata.get_label()\n",
    "    "
   ]
  },
  {
   "cell_type": "code",
   "execution_count": 5,
   "metadata": {
    "collapsed": true
   },
   "outputs": [],
   "source": [
    "train = pd.read_csv('../data/public.train.csv')\n",
    "test = pd.read_csv('../data/public.test.csv')\n",
    "\n",
    "train_len = train.shape[0]\n",
    "\n",
    "df = pd.concat([train, test])"
   ]
  },
  {
   "cell_type": "code",
   "execution_count": 6,
   "metadata": {
    "collapsed": true
   },
   "outputs": [],
   "source": [
    "df.rename(index=str, columns=rep_cols, inplace=True)"
   ]
  },
  {
   "cell_type": "code",
   "execution_count": 7,
   "metadata": {},
   "outputs": [
    {
     "data": {
      "text/html": [
       "<div>\n",
       "<style>\n",
       "    .dataframe thead tr:only-child th {\n",
       "        text-align: right;\n",
       "    }\n",
       "\n",
       "    .dataframe thead th {\n",
       "        text-align: left;\n",
       "    }\n",
       "\n",
       "    .dataframe tbody tr th {\n",
       "        vertical-align: top;\n",
       "    }\n",
       "</style>\n",
       "<table border=\"1\" class=\"dataframe\">\n",
       "  <thead>\n",
       "    <tr style=\"text-align: right;\">\n",
       "      <th></th>\n",
       "      <th>ID</th>\n",
       "      <th>light_strength</th>\n",
       "      <th>P_A</th>\n",
       "      <th>P_B</th>\n",
       "      <th>P_C</th>\n",
       "      <th>y</th>\n",
       "      <th>P_avg</th>\n",
       "      <th>board_t</th>\n",
       "      <th>env_t</th>\n",
       "      <th>V_A</th>\n",
       "      <th>...</th>\n",
       "      <th>V_C</th>\n",
       "      <th>I_A</th>\n",
       "      <th>I_B</th>\n",
       "      <th>I_C</th>\n",
       "      <th>efficiency</th>\n",
       "      <th>efficiency_A</th>\n",
       "      <th>efficiency_B</th>\n",
       "      <th>efficiency_C</th>\n",
       "      <th>wind_direction</th>\n",
       "      <th>wind_speed</th>\n",
       "    </tr>\n",
       "  </thead>\n",
       "  <tbody>\n",
       "    <tr>\n",
       "      <th>0</th>\n",
       "      <td>10</td>\n",
       "      <td>34</td>\n",
       "      <td>976.86</td>\n",
       "      <td>155.98</td>\n",
       "      <td>1087.50</td>\n",
       "      <td>1.437752</td>\n",
       "      <td>740.11</td>\n",
       "      <td>-19.14</td>\n",
       "      <td>-17.4</td>\n",
       "      <td>729</td>\n",
       "      <td>...</td>\n",
       "      <td>725</td>\n",
       "      <td>1.34</td>\n",
       "      <td>0.22</td>\n",
       "      <td>1.50</td>\n",
       "      <td>80.55</td>\n",
       "      <td>106.32</td>\n",
       "      <td>16.98</td>\n",
       "      <td>118.36</td>\n",
       "      <td>272</td>\n",
       "      <td>0.6</td>\n",
       "    </tr>\n",
       "    <tr>\n",
       "      <th>1</th>\n",
       "      <td>11</td>\n",
       "      <td>30</td>\n",
       "      <td>1128.40</td>\n",
       "      <td>172.08</td>\n",
       "      <td>1132.56</td>\n",
       "      <td>1.692575</td>\n",
       "      <td>811.01</td>\n",
       "      <td>-18.73</td>\n",
       "      <td>-17.3</td>\n",
       "      <td>728</td>\n",
       "      <td>...</td>\n",
       "      <td>726</td>\n",
       "      <td>1.55</td>\n",
       "      <td>0.24</td>\n",
       "      <td>1.56</td>\n",
       "      <td>99.90</td>\n",
       "      <td>139.00</td>\n",
       "      <td>21.20</td>\n",
       "      <td>139.51</td>\n",
       "      <td>275</td>\n",
       "      <td>0.8</td>\n",
       "    </tr>\n",
       "    <tr>\n",
       "      <th>2</th>\n",
       "      <td>12</td>\n",
       "      <td>41</td>\n",
       "      <td>1279.25</td>\n",
       "      <td>166.06</td>\n",
       "      <td>1310.40</td>\n",
       "      <td>1.975787</td>\n",
       "      <td>918.57</td>\n",
       "      <td>-17.54</td>\n",
       "      <td>-17.0</td>\n",
       "      <td>731</td>\n",
       "      <td>...</td>\n",
       "      <td>720</td>\n",
       "      <td>1.75</td>\n",
       "      <td>0.23</td>\n",
       "      <td>1.82</td>\n",
       "      <td>82.48</td>\n",
       "      <td>114.86</td>\n",
       "      <td>14.91</td>\n",
       "      <td>117.66</td>\n",
       "      <td>283</td>\n",
       "      <td>1.1</td>\n",
       "    </tr>\n",
       "    <tr>\n",
       "      <th>3</th>\n",
       "      <td>14</td>\n",
       "      <td>53</td>\n",
       "      <td>1474.60</td>\n",
       "      <td>225.37</td>\n",
       "      <td>1517.34</td>\n",
       "      <td>2.370656</td>\n",
       "      <td>1072.44</td>\n",
       "      <td>-15.43</td>\n",
       "      <td>-16.6</td>\n",
       "      <td>730</td>\n",
       "      <td>...</td>\n",
       "      <td>726</td>\n",
       "      <td>2.02</td>\n",
       "      <td>0.31</td>\n",
       "      <td>2.09</td>\n",
       "      <td>73.98</td>\n",
       "      <td>101.72</td>\n",
       "      <td>15.55</td>\n",
       "      <td>104.67</td>\n",
       "      <td>280</td>\n",
       "      <td>0.9</td>\n",
       "    </tr>\n",
       "    <tr>\n",
       "      <th>4</th>\n",
       "      <td>15</td>\n",
       "      <td>65</td>\n",
       "      <td>1548.51</td>\n",
       "      <td>233.28</td>\n",
       "      <td>1674.40</td>\n",
       "      <td>2.532091</td>\n",
       "      <td>1152.06</td>\n",
       "      <td>-14.60</td>\n",
       "      <td>-16.3</td>\n",
       "      <td>727</td>\n",
       "      <td>...</td>\n",
       "      <td>728</td>\n",
       "      <td>2.13</td>\n",
       "      <td>0.32</td>\n",
       "      <td>2.30</td>\n",
       "      <td>64.62</td>\n",
       "      <td>86.86</td>\n",
       "      <td>13.09</td>\n",
       "      <td>93.92</td>\n",
       "      <td>280</td>\n",
       "      <td>1.1</td>\n",
       "    </tr>\n",
       "  </tbody>\n",
       "</table>\n",
       "<p>5 rows × 21 columns</p>\n",
       "</div>"
      ],
      "text/plain": [
       "   ID  light_strength      P_A     P_B      P_C         y    P_avg  board_t  \\\n",
       "0  10              34   976.86  155.98  1087.50  1.437752   740.11   -19.14   \n",
       "1  11              30  1128.40  172.08  1132.56  1.692575   811.01   -18.73   \n",
       "2  12              41  1279.25  166.06  1310.40  1.975787   918.57   -17.54   \n",
       "3  14              53  1474.60  225.37  1517.34  2.370656  1072.44   -15.43   \n",
       "4  15              65  1548.51  233.28  1674.40  2.532091  1152.06   -14.60   \n",
       "\n",
       "   env_t  V_A     ...      V_C   I_A   I_B   I_C  efficiency  efficiency_A  \\\n",
       "0  -17.4  729     ...      725  1.34  0.22  1.50       80.55        106.32   \n",
       "1  -17.3  728     ...      726  1.55  0.24  1.56       99.90        139.00   \n",
       "2  -17.0  731     ...      720  1.75  0.23  1.82       82.48        114.86   \n",
       "3  -16.6  730     ...      726  2.02  0.31  2.09       73.98        101.72   \n",
       "4  -16.3  727     ...      728  2.13  0.32  2.30       64.62         86.86   \n",
       "\n",
       "   efficiency_B  efficiency_C  wind_direction  wind_speed  \n",
       "0         16.98        118.36             272         0.6  \n",
       "1         21.20        139.51             275         0.8  \n",
       "2         14.91        117.66             283         1.1  \n",
       "3         15.55        104.67             280         0.9  \n",
       "4         13.09         93.92             280         1.1  \n",
       "\n",
       "[5 rows x 21 columns]"
      ]
     },
     "execution_count": 7,
     "metadata": {},
     "output_type": "execute_result"
    }
   ],
   "source": [
    "df.head()"
   ]
  },
  {
   "cell_type": "code",
   "execution_count": 8,
   "metadata": {},
   "outputs": [],
   "source": [
    "#异常值处理\n",
    "# 改用均值\n",
    "cols = [c for c in df.columns.tolist() if c!='y' and c!='ID']\n",
    "for c in cols:\n",
    "    df[c+'_is_out_of_upper'] = (df[c]>df[c].quantile(0.99)).astype(np.int32)\n",
    "    df[c+'_is_out_of_lower'] = (df[c]<df[c].quantile(0.01)).astype(np.int32)\n",
    "#     df.loc[(df[c]>df[c].quantile(0.99))|(df[c]<df[c].quantile(0.01)),c]=np.nan\n",
    "#     df[c].fillna(df[c].mean(),inplace=True)\n",
    "    df[c] = np.clip(df[c],df[c].quantile(.01),df[c].quantile(0.99))"
   ]
  },
  {
   "cell_type": "code",
   "execution_count": 9,
   "metadata": {
    "collapsed": true
   },
   "outputs": [],
   "source": [
    "target = ['P_A','P_avg','I_A','P_C','I_C','P_B','I_B']\n",
    "target_plus = [c+'_is_out_of_upper' for c in target]+[c+'_is_out_of_lower' for c in target]+target\n",
    "for c in target:\n",
    "    df['log_'+c] = np.log1p(df[c])"
   ]
  },
  {
   "cell_type": "code",
   "execution_count": 10,
   "metadata": {
    "collapsed": true
   },
   "outputs": [],
   "source": [
    "# 估算功率\n",
    "df['predict_p_1'] = df['P_A']+df['P_B']+df['P_C']\n",
    "df['predict_p_2'] = (df['P_A']*df['efficiency_A'] \\\n",
    "                   +df['P_B']*df['efficiency_B'] \\\n",
    "                   +df['P_C']*df['efficiency_C'])/36000"
   ]
  },
  {
   "cell_type": "code",
   "execution_count": 12,
   "metadata": {},
   "outputs": [
    {
     "name": "stdout",
     "output_type": "stream",
     "text": [
      "Now, we are processing P_A\n",
      "Training until validation scores don't improve for 20 rounds.\n"
     ]
    },
    {
     "name": "stderr",
     "output_type": "stream",
     "text": [
      "/Users/wyh/anaconda/lib/python3.6/site-packages/ipykernel_launcher.py:29: SettingWithCopyWarning: \n",
      "A value is trying to be set on a copy of a slice from a DataFrame\n",
      "\n",
      "See the caveats in the documentation: http://pandas.pydata.org/pandas-docs/stable/indexing.html#indexing-view-versus-copy\n"
     ]
    },
    {
     "name": "stdout",
     "output_type": "stream",
     "text": [
      "Early stopping, best iteration is:\n",
      "[751]\tvalid's l1: 19.7346\n",
      "Training until validation scores don't improve for 20 rounds.\n",
      "[1000]\tvalid's l1: 20.6882\n",
      "[2000]\tvalid's l1: 20.1342\n",
      "Early stopping, best iteration is:\n",
      "[2223]\tvalid's l1: 20.0669\n",
      "Training until validation scores don't improve for 20 rounds.\n",
      "[1000]\tvalid's l1: 20.9161\n",
      "Early stopping, best iteration is:\n",
      "[1308]\tvalid's l1: 20.6166\n"
     ]
    },
    {
     "name": "stderr",
     "output_type": "stream",
     "text": [
      "/Users/wyh/anaconda/lib/python3.6/site-packages/ipykernel_launcher.py:55: SettingWithCopyWarning: \n",
      "A value is trying to be set on a copy of a slice from a DataFrame.\n",
      "Try using .loc[row_indexer,col_indexer] = value instead\n",
      "\n",
      "See the caveats in the documentation: http://pandas.pydata.org/pandas-docs/stable/indexing.html#indexing-view-versus-copy\n"
     ]
    },
    {
     "name": "stdout",
     "output_type": "stream",
     "text": [
      "Now, we are processing P_avg\n",
      "Training until validation scores don't improve for 20 rounds.\n",
      "[1000]\tvalid's l1: 9.98123\n",
      "Early stopping, best iteration is:\n",
      "[1256]\tvalid's l1: 9.88543\n",
      "Training until validation scores don't improve for 20 rounds.\n",
      "[1000]\tvalid's l1: 9.93393\n",
      "Early stopping, best iteration is:\n",
      "[1572]\tvalid's l1: 9.71995\n",
      "Training until validation scores don't improve for 20 rounds.\n",
      "[1000]\tvalid's l1: 9.6463\n",
      "Early stopping, best iteration is:\n",
      "[1430]\tvalid's l1: 9.50549\n",
      "Now, we are processing I_A\n",
      "Training until validation scores don't improve for 20 rounds.\n",
      "[1000]\tvalid's l1: 0.03622\n",
      "Early stopping, best iteration is:\n",
      "[1116]\tvalid's l1: 0.0360427\n",
      "Training until validation scores don't improve for 20 rounds.\n",
      "[1000]\tvalid's l1: 0.0372562\n",
      "Early stopping, best iteration is:\n",
      "[988]\tvalid's l1: 0.0372478\n",
      "Training until validation scores don't improve for 20 rounds.\n",
      "[1000]\tvalid's l1: 0.0355553\n",
      "Early stopping, best iteration is:\n",
      "[1038]\tvalid's l1: 0.035478\n",
      "Now, we are processing P_C\n",
      "Training until validation scores don't improve for 20 rounds.\n",
      "[1000]\tvalid's l1: 20.9856\n",
      "Early stopping, best iteration is:\n",
      "[1948]\tvalid's l1: 20.4718\n",
      "Training until validation scores don't improve for 20 rounds.\n",
      "[1000]\tvalid's l1: 20.2846\n",
      "Early stopping, best iteration is:\n",
      "[1304]\tvalid's l1: 20.0961\n",
      "Training until validation scores don't improve for 20 rounds.\n",
      "[1000]\tvalid's l1: 18.9535\n",
      "Early stopping, best iteration is:\n",
      "[1451]\tvalid's l1: 18.6187\n",
      "Now, we are processing I_C\n",
      "Training until validation scores don't improve for 20 rounds.\n",
      "[1000]\tvalid's l1: 0.0351321\n",
      "Early stopping, best iteration is:\n",
      "[1098]\tvalid's l1: 0.0350017\n",
      "Training until validation scores don't improve for 20 rounds.\n",
      "[1000]\tvalid's l1: 0.0353729\n",
      "Early stopping, best iteration is:\n",
      "[1217]\tvalid's l1: 0.0351105\n",
      "Training until validation scores don't improve for 20 rounds.\n",
      "[1000]\tvalid's l1: 0.0352782\n",
      "Early stopping, best iteration is:\n",
      "[1525]\tvalid's l1: 0.0346918\n",
      "Now, we are processing P_B\n",
      "Training until validation scores don't improve for 20 rounds.\n",
      "[1000]\tvalid's l1: 21.4159\n",
      "[2000]\tvalid's l1: 20.8265\n",
      "Early stopping, best iteration is:\n",
      "[2154]\tvalid's l1: 20.7884\n",
      "Training until validation scores don't improve for 20 rounds.\n",
      "[1000]\tvalid's l1: 20.6594\n",
      "Early stopping, best iteration is:\n",
      "[1137]\tvalid's l1: 20.5522\n",
      "Training until validation scores don't improve for 20 rounds.\n",
      "[1000]\tvalid's l1: 22.0995\n",
      "[2000]\tvalid's l1: 21.5559\n",
      "[3000]\tvalid's l1: 21.3138\n",
      "[4000]\tvalid's l1: 21.1187\n",
      "Early stopping, best iteration is:\n",
      "[4071]\tvalid's l1: 21.1092\n",
      "Now, we are processing I_B\n",
      "Training until validation scores don't improve for 20 rounds.\n",
      "[1000]\tvalid's l1: 0.0361006\n",
      "[2000]\tvalid's l1: 0.0349518\n",
      "Early stopping, best iteration is:\n",
      "[2506]\tvalid's l1: 0.0346315\n",
      "Training until validation scores don't improve for 20 rounds.\n",
      "[1000]\tvalid's l1: 0.0346798\n",
      "Early stopping, best iteration is:\n",
      "[1423]\tvalid's l1: 0.0341732\n",
      "Training until validation scores don't improve for 20 rounds.\n",
      "[1000]\tvalid's l1: 0.0353894\n",
      "Early stopping, best iteration is:\n",
      "[1755]\tvalid's l1: 0.0345007\n"
     ]
    }
   ],
   "source": [
    "# 第一阶，用其他值预测某些特征\n",
    "\n",
    "params_layer1 = {\n",
    "    'boosting_type': 'gbdt',\n",
    "    'objective': 'regression_l1',\n",
    "    'metric': 'mae',\n",
    "    'num_leaves': 48,\n",
    "    'learning_rate': 0.2,\n",
    "#     'feature_fraction': 0.7,\n",
    "    'bagging_fraction': 0.8,\n",
    "    'bagging_freq': 1,\n",
    "    'verbose': 0\n",
    "}\n",
    "kf_layer1 = KFold(3, shuffle=True, random_state=1991)\n",
    "\n",
    "layer1_result = df[['ID']]\n",
    "\n",
    "for t in target:\n",
    "    print('Now, we are processing',t)\n",
    "    # 特征中去掉t\n",
    "    predictor_t = [c for c in target_plus if c not in['ID','y',t,t+'_is_out_of_upper',t+'_is_out_of_lower']]\n",
    "    \n",
    "    # 初始化结果\n",
    "    val_preds = np.zeros(df.shape[0])\n",
    "    \n",
    "    for n_fold, (tra_idx, val_idx) in enumerate(kf_layer1.split(df)):\n",
    "        tra = df.iloc[tra_idx]\n",
    "        # 删掉有问题的数据\n",
    "        tra.drop(tra[(tra[t+'_is_out_of_upper']==1)|(tra[t+'_is_out_of_lower']==1)].index, inplace=True)\n",
    "        \n",
    "        val = df.iloc[val_idx]\n",
    "        # 删掉有问题的数据\n",
    "        val_c = val.drop(val[(val[t+'_is_out_of_upper']==1)|(val[t+'_is_out_of_lower']==1)].index)\n",
    "\n",
    "        train_set = lightgbm.Dataset(\n",
    "            tra[predictor_t],\n",
    "            tra[t]\n",
    "        )\n",
    "\n",
    "        validation_set = lightgbm.Dataset(\n",
    "            val_c[predictor_t],\n",
    "            val_c[t]\n",
    "        )\n",
    "\n",
    "        model = lightgbm.train(params_layer1, train_set, \n",
    "                               num_boost_round=8000,\n",
    "                              valid_sets= [validation_set],\n",
    "                              valid_names=['valid'],\n",
    "                              early_stopping_rounds=20,\n",
    "                              verbose_eval=1000)\n",
    "\n",
    "        val_preds[val_idx] = model.predict(val[predictor_t])\n",
    "        \n",
    "    # 将结果保存起来\n",
    "    layer1_result['predicted_'+t] = val_preds"
   ]
  },
  {
   "cell_type": "code",
   "execution_count": 13,
   "metadata": {},
   "outputs": [
    {
     "data": {
      "text/html": [
       "<div>\n",
       "<style>\n",
       "    .dataframe thead tr:only-child th {\n",
       "        text-align: right;\n",
       "    }\n",
       "\n",
       "    .dataframe thead th {\n",
       "        text-align: left;\n",
       "    }\n",
       "\n",
       "    .dataframe tbody tr th {\n",
       "        vertical-align: top;\n",
       "    }\n",
       "</style>\n",
       "<table border=\"1\" class=\"dataframe\">\n",
       "  <thead>\n",
       "    <tr style=\"text-align: right;\">\n",
       "      <th></th>\n",
       "      <th>ID</th>\n",
       "      <th>predicted_P_A</th>\n",
       "      <th>predicted_P_avg</th>\n",
       "      <th>predicted_I_A</th>\n",
       "      <th>predicted_P_C</th>\n",
       "      <th>predicted_I_C</th>\n",
       "      <th>predicted_P_B</th>\n",
       "      <th>predicted_I_B</th>\n",
       "    </tr>\n",
       "  </thead>\n",
       "  <tbody>\n",
       "    <tr>\n",
       "      <th>0</th>\n",
       "      <td>10</td>\n",
       "      <td>852.802597</td>\n",
       "      <td>756.483336</td>\n",
       "      <td>1.462350</td>\n",
       "      <td>1097.639430</td>\n",
       "      <td>1.423265</td>\n",
       "      <td>157.043170</td>\n",
       "      <td>0.219164</td>\n",
       "    </tr>\n",
       "    <tr>\n",
       "      <th>1</th>\n",
       "      <td>11</td>\n",
       "      <td>1115.429979</td>\n",
       "      <td>809.889903</td>\n",
       "      <td>1.547411</td>\n",
       "      <td>1152.026598</td>\n",
       "      <td>1.550395</td>\n",
       "      <td>163.939634</td>\n",
       "      <td>0.225199</td>\n",
       "    </tr>\n",
       "    <tr>\n",
       "      <th>2</th>\n",
       "      <td>12</td>\n",
       "      <td>1285.242300</td>\n",
       "      <td>928.907016</td>\n",
       "      <td>1.759097</td>\n",
       "      <td>1329.374632</td>\n",
       "      <td>1.792227</td>\n",
       "      <td>162.750528</td>\n",
       "      <td>0.244601</td>\n",
       "    </tr>\n",
       "    <tr>\n",
       "      <th>3</th>\n",
       "      <td>14</td>\n",
       "      <td>1489.419024</td>\n",
       "      <td>1091.271283</td>\n",
       "      <td>2.056612</td>\n",
       "      <td>1498.716542</td>\n",
       "      <td>2.113968</td>\n",
       "      <td>214.498214</td>\n",
       "      <td>0.313826</td>\n",
       "    </tr>\n",
       "    <tr>\n",
       "      <th>4</th>\n",
       "      <td>15</td>\n",
       "      <td>1511.216897</td>\n",
       "      <td>1117.096194</td>\n",
       "      <td>2.058041</td>\n",
       "      <td>1658.668627</td>\n",
       "      <td>2.338914</td>\n",
       "      <td>240.708355</td>\n",
       "      <td>0.304332</td>\n",
       "    </tr>\n",
       "  </tbody>\n",
       "</table>\n",
       "</div>"
      ],
      "text/plain": [
       "   ID  predicted_P_A  predicted_P_avg  predicted_I_A  predicted_P_C  \\\n",
       "0  10     852.802597       756.483336       1.462350    1097.639430   \n",
       "1  11    1115.429979       809.889903       1.547411    1152.026598   \n",
       "2  12    1285.242300       928.907016       1.759097    1329.374632   \n",
       "3  14    1489.419024      1091.271283       2.056612    1498.716542   \n",
       "4  15    1511.216897      1117.096194       2.058041    1658.668627   \n",
       "\n",
       "   predicted_I_C  predicted_P_B  predicted_I_B  \n",
       "0       1.423265     157.043170       0.219164  \n",
       "1       1.550395     163.939634       0.225199  \n",
       "2       1.792227     162.750528       0.244601  \n",
       "3       2.113968     214.498214       0.313826  \n",
       "4       2.338914     240.708355       0.304332  "
      ]
     },
     "execution_count": 13,
     "metadata": {},
     "output_type": "execute_result"
    }
   ],
   "source": [
    "layer1_result.head()"
   ]
  },
  {
   "cell_type": "code",
   "execution_count": 14,
   "metadata": {
    "collapsed": true
   },
   "outputs": [],
   "source": [
    "layer1_result.to_pickle('../feature/predicted_value-2.pkl')"
   ]
  },
  {
   "cell_type": "code",
   "execution_count": 18,
   "metadata": {
    "collapsed": true
   },
   "outputs": [],
   "source": [
    "layer1_result = pd.read_pickle('../feature/predicted_value.pkl')"
   ]
  },
  {
   "cell_type": "code",
   "execution_count": 15,
   "metadata": {
    "collapsed": true
   },
   "outputs": [],
   "source": [
    "df = df.merge(layer1_result, on='ID', how='left')"
   ]
  },
  {
   "cell_type": "code",
   "execution_count": 16,
   "metadata": {
    "collapsed": true
   },
   "outputs": [],
   "source": [
    "for t in target:\n",
    "    df['diff_'+t] = df[t]-df['predicted_'+t]"
   ]
  },
  {
   "cell_type": "code",
   "execution_count": 11,
   "metadata": {
    "collapsed": true
   },
   "outputs": [],
   "source": [
    "train = df.iloc[0:train_len]\n",
    "test = df.iloc[train_len:]"
   ]
  },
  {
   "cell_type": "code",
   "execution_count": 12,
   "metadata": {
    "collapsed": true
   },
   "outputs": [],
   "source": [
    "params = {\n",
    "    'boosting_type': 'gbdt',\n",
    "    'objective': 'regression_l2',\n",
    "    'metric': 'mse',\n",
    "    'num_leaves': 31,\n",
    "    'learning_rate': 0.08,\n",
    "    'feature_fraction': 0.6,\n",
    "    'bagging_fraction': 0.8,\n",
    "    'bagging_freq': 1,\n",
    "    'verbose': 0\n",
    "}"
   ]
  },
  {
   "cell_type": "code",
   "execution_count": 13,
   "metadata": {
    "collapsed": true
   },
   "outputs": [],
   "source": [
    "predictor = [c for c in train.columns.tolist() if c not in['ID','y']]"
   ]
  },
  {
   "cell_type": "code",
   "execution_count": 14,
   "metadata": {},
   "outputs": [
    {
     "name": "stdout",
     "output_type": "stream",
     "text": [
      "Training until validation scores don't improve for 100 rounds.\n",
      "[500]\tvalid's l2: 0.0615459\tvalid's score: 0.801228\n",
      "Early stopping, best iteration is:\n",
      "[508]\tvalid's l2: 0.0614762\tvalid's score: 0.801318\n",
      "Training until validation scores don't improve for 100 rounds.\n",
      "[500]\tvalid's l2: 0.0218491\tvalid's score: 0.871221\n",
      "[1000]\tvalid's l2: 0.0186993\tvalid's score: 0.879705\n",
      "[1500]\tvalid's l2: 0.0181318\tvalid's score: 0.881326\n",
      "Early stopping, best iteration is:\n",
      "[1641]\tvalid's l2: 0.0180839\tvalid's score: 0.881464\n",
      "Training until validation scores don't improve for 100 rounds.\n",
      "Early stopping, best iteration is:\n",
      "[162]\tvalid's l2: 0.0125641\tvalid's score: 0.899208\n",
      "Training until validation scores don't improve for 100 rounds.\n",
      "[500]\tvalid's l2: 0.0499562\tvalid's score: 0.817321\n",
      "[1000]\tvalid's l2: 0.0474069\tvalid's score: 0.821199\n",
      "[1500]\tvalid's l2: 0.0469237\tvalid's score: 0.82195\n",
      "Early stopping, best iteration is:\n",
      "[1414]\tvalid's l2: 0.0468792\tvalid's score: 0.82202\n",
      "Training until validation scores don't improve for 100 rounds.\n",
      "[500]\tvalid's l2: 0.0162355\tvalid's score: 0.886982\n",
      "Early stopping, best iteration is:\n",
      "[811]\tvalid's l2: 0.0158043\tvalid's score: 0.888324\n",
      "Training until validation scores don't improve for 100 rounds.\n",
      "[500]\tvalid's l2: 0.0699104\tvalid's score: 0.790885\n",
      "[1000]\tvalid's l2: 0.0678041\tvalid's score: 0.793404\n",
      "[1500]\tvalid's l2: 0.0665323\tvalid's score: 0.794951\n",
      "[2000]\tvalid's l2: 0.0662452\tvalid's score: 0.795304\n",
      "Early stopping, best iteration is:\n",
      "[2080]\tvalid's l2: 0.0661955\tvalid's score: 0.795365\n",
      "Training until validation scores don't improve for 100 rounds.\n",
      "[500]\tvalid's l2: 0.0176277\tvalid's score: 0.882792\n",
      "[1000]\tvalid's l2: 0.0163847\tvalid's score: 0.886523\n",
      "[1500]\tvalid's l2: 0.0161291\tvalid's score: 0.887311\n",
      "Early stopping, best iteration is:\n",
      "[1649]\tvalid's l2: 0.0160666\tvalid's score: 0.887505\n",
      "Training until validation scores don't improve for 100 rounds.\n",
      "Early stopping, best iteration is:\n",
      "[185]\tvalid's l2: 0.0228009\tvalid's score: 0.86881\n",
      "Training until validation scores don't improve for 100 rounds.\n",
      "Early stopping, best iteration is:\n",
      "[71]\tvalid's l2: 0.0448296\tvalid's score: 0.825266\n",
      "Training until validation scores don't improve for 100 rounds.\n",
      "[500]\tvalid's l2: 0.0184254\tvalid's score: 0.880483\n",
      "[1000]\tvalid's l2: 0.0169804\tvalid's score: 0.884714\n",
      "Early stopping, best iteration is:\n",
      "[1149]\tvalid's l2: 0.0167433\tvalid's score: 0.885429\n",
      "Training until validation scores don't improve for 100 rounds.\n",
      "[500]\tvalid's l2: 0.0446638\tvalid's score: 0.825533\n",
      "Early stopping, best iteration is:\n",
      "[816]\tvalid's l2: 0.0439101\tvalid's score: 0.826756\n",
      "Training until validation scores don't improve for 100 rounds.\n",
      "[500]\tvalid's l2: 0.0553378\tvalid's score: 0.809559\n",
      "Early stopping, best iteration is:\n",
      "[576]\tvalid's l2: 0.0551757\tvalid's score: 0.809785\n",
      "Training until validation scores don't improve for 100 rounds.\n",
      "[500]\tvalid's l2: 0.0143212\tvalid's score: 0.893119\n",
      "Early stopping, best iteration is:\n",
      "[585]\tvalid's l2: 0.0141454\tvalid's score: 0.893708\n",
      "Training until validation scores don't improve for 100 rounds.\n",
      "Early stopping, best iteration is:\n",
      "[202]\tvalid's l2: 0.011512\tvalid's score: 0.903102\n",
      "Training until validation scores don't improve for 100 rounds.\n",
      "[500]\tvalid's l2: 0.0332647\tvalid's score: 0.845747\n",
      "[1000]\tvalid's l2: 0.0313865\tvalid's score: 0.8495\n",
      "Early stopping, best iteration is:\n",
      "[1107]\tvalid's l2: 0.0311953\tvalid's score: 0.849891\n",
      "Training until validation scores don't improve for 100 rounds.\n",
      "[500]\tvalid's l2: 0.0196275\tvalid's score: 0.877117\n",
      "Early stopping, best iteration is:\n",
      "[815]\tvalid's l2: 0.0189765\tvalid's score: 0.878924\n",
      "Training until validation scores don't improve for 100 rounds.\n",
      "Early stopping, best iteration is:\n",
      "[128]\tvalid's l2: 0.0567988\tvalid's score: 0.807542\n",
      "Training until validation scores don't improve for 100 rounds.\n",
      "[500]\tvalid's l2: 0.0461414\tvalid's score: 0.823177\n",
      "[1000]\tvalid's l2: 0.0452398\tvalid's score: 0.824609\n",
      "Early stopping, best iteration is:\n",
      "[965]\tvalid's l2: 0.0452072\tvalid's score: 0.824661\n",
      "Training until validation scores don't improve for 100 rounds.\n",
      "[500]\tvalid's l2: 0.039078\tvalid's score: 0.834946\n",
      "[1000]\tvalid's l2: 0.0365046\tvalid's score: 0.839587\n",
      "[1500]\tvalid's l2: 0.0351682\tvalid's score: 0.842083\n",
      "[2000]\tvalid's l2: 0.0348684\tvalid's score: 0.842651\n",
      "Early stopping, best iteration is:\n",
      "[2396]\tvalid's l2: 0.0347515\tvalid's score: 0.842874\n",
      "Training until validation scores don't improve for 100 rounds.\n",
      "[500]\tvalid's l2: 0.0205375\tvalid's score: 0.874654\n",
      "Early stopping, best iteration is:\n",
      "[768]\tvalid's l2: 0.0201093\tvalid's score: 0.875805\n",
      "Training until validation scores don't improve for 100 rounds.\n",
      "[500]\tvalid's l2: 0.014862\tvalid's score: 0.891337\n",
      "Early stopping, best iteration is:\n",
      "[452]\tvalid's l2: 0.0147806\tvalid's score: 0.891603\n",
      "Training until validation scores don't improve for 100 rounds.\n",
      "[500]\tvalid's l2: 0.10492\tvalid's score: 0.755336\n",
      "[1000]\tvalid's l2: 0.0967473\tvalid's score: 0.762752\n",
      "[1500]\tvalid's l2: 0.0941255\tvalid's score: 0.765229\n",
      "[2000]\tvalid's l2: 0.0933742\tvalid's score: 0.765948\n",
      "[2500]\tvalid's l2: 0.0930498\tvalid's score: 0.76626\n",
      "[3000]\tvalid's l2: 0.0929548\tvalid's score: 0.766351\n",
      "Early stopping, best iteration is:\n",
      "[3048]\tvalid's l2: 0.0929387\tvalid's score: 0.766367\n",
      "Training until validation scores don't improve for 100 rounds.\n",
      "Early stopping, best iteration is:\n",
      "[190]\tvalid's l2: 0.0191096\tvalid's score: 0.878551\n",
      "Training until validation scores don't improve for 100 rounds.\n",
      "[500]\tvalid's l2: 0.0194026\tvalid's score: 0.877737\n",
      "Early stopping, best iteration is:\n",
      "[413]\tvalid's l2: 0.0191988\tvalid's score: 0.878303\n",
      "Training until validation scores don't improve for 100 rounds.\n",
      "Early stopping, best iteration is:\n",
      "[146]\tvalid's l2: 0.0226749\tvalid's score: 0.869125\n"
     ]
    }
   ],
   "source": [
    "test_predicts = []\n",
    "val_preds = []\n",
    "\n",
    "# log_test_predicts = []\n",
    "# log_val_predicts = []\n",
    "for idx, seed in enumerate([1,2,3,4,5]):\n",
    "    kf = KFold(5, shuffle=True, random_state=seed)\n",
    "    \n",
    "    val_preds.append(np.zeros(train.shape[0]))\n",
    "    for n_fold, (tra_idx, val_idx) in enumerate(kf.split(train)):\n",
    "        tra = train.iloc[tra_idx]\n",
    "        val = train.iloc[val_idx]\n",
    "\n",
    "        train_set = lightgbm.Dataset(\n",
    "            tra[predictor],\n",
    "            tra['y']\n",
    "        )\n",
    "\n",
    "        validation_set = lightgbm.Dataset(\n",
    "            val[predictor],\n",
    "            val['y']\n",
    "        )\n",
    "\n",
    "        model = lightgbm.train(params, train_set, num_boost_round=5000,\n",
    "                              valid_sets= [validation_set],\n",
    "                              valid_names=['valid'],\n",
    "                              early_stopping_rounds=100,\n",
    "                               feval=my_val,\n",
    "                              verbose_eval=500)\n",
    "\n",
    "        val_preds[idx][val_idx] = model.predict(val[predictor])\n",
    "        test_predicts.append(model.predict(test[predictor]))\n",
    "        \n",
    "#         train_set = lightgbm.Dataset(\n",
    "#             tra[predictor],\n",
    "#             np.log1p(tra['y'])\n",
    "#         )\n",
    "\n",
    "#         validation_set = lightgbm.Dataset(\n",
    "#             val[predictor],\n",
    "#             np.log1p(val['y'])\n",
    "#         )\n",
    "\n",
    "#         model = lightgbm.train(params, train_set, num_boost_round=5000,\n",
    "#                               valid_sets= [validation_set],\n",
    "#                               valid_names=['valid'],\n",
    "#                               early_stopping_rounds=100,\n",
    "#                                feval=my_val,\n",
    "#                               verbose_eval=500)\n",
    "\n",
    "#         val_preds[idx][val_idx] = np.expm1(model.predict(val[predictor]))\n",
    "#         test_predicts.append(np.expm1(model.predict(test[predictor])))"
   ]
  },
  {
   "cell_type": "code",
   "execution_count": 15,
   "metadata": {},
   "outputs": [
    {
     "name": "stdout",
     "output_type": "stream",
     "text": [
      "local cv: 0.852399722262\n"
     ]
    }
   ],
   "source": [
    "print('local cv:',1/(1+np.sqrt(mean_squared_error(train['y'],np.mean(val_preds,axis=0)))))"
   ]
  },
  {
   "cell_type": "code",
   "execution_count": 19,
   "metadata": {},
   "outputs": [
    {
     "data": {
      "text/plain": [
       "P_A               147386.301654\n",
       "predict_p_1       122642.480351\n",
       "log_P_A           115407.717628\n",
       "log_I_A            26107.769807\n",
       "P_C                15860.467511\n",
       "log_P_avg           9580.742280\n",
       "I_A                 6655.241084\n",
       "P_avg               1597.620548\n",
       "I_C                 1429.933066\n",
       "log_I_C              674.539319\n",
       "P_B                  595.530535\n",
       "I_B                  537.526659\n",
       "light_strength       453.098265\n",
       "log_P_B              291.201493\n",
       "board_t              220.515220\n",
       "wind_direction       195.516600\n",
       "log_I_B              174.403615\n",
       "predict_p_2          132.874186\n",
       "V_B                  125.851948\n",
       "V_A                  121.839249\n",
       "dtype: float64"
      ]
     },
     "execution_count": 19,
     "metadata": {},
     "output_type": "execute_result"
    }
   ],
   "source": [
    "pd.Series(model.feature_importance(importance_type='gain'),\n",
    "          index=model.feature_name()).sort_values(ascending=False).head(20)"
   ]
  },
  {
   "cell_type": "code",
   "execution_count": 17,
   "metadata": {},
   "outputs": [
    {
     "name": "stderr",
     "output_type": "stream",
     "text": [
      "/Users/wyh/anaconda/lib/python3.6/site-packages/ipykernel_launcher.py:1: SettingWithCopyWarning: \n",
      "A value is trying to be set on a copy of a slice from a DataFrame.\n",
      "Try using .loc[row_indexer,col_indexer] = value instead\n",
      "\n",
      "See the caveats in the documentation: http://pandas.pydata.org/pandas-docs/stable/indexing.html#indexing-view-versus-copy\n",
      "  \"\"\"Entry point for launching an IPython kernel.\n"
     ]
    }
   ],
   "source": [
    "test['ans'] = np.mean(test_predicts, axis=0)"
   ]
  },
  {
   "cell_type": "code",
   "execution_count": 18,
   "metadata": {
    "collapsed": true
   },
   "outputs": [],
   "source": [
    "test[['ID','ans']].to_csv('../result/0730-8524-bagging.csv',header=False, index=False)"
   ]
  },
  {
   "cell_type": "code",
   "execution_count": 19,
   "metadata": {},
   "outputs": [
    {
     "data": {
      "text/plain": [
       "<matplotlib.axes._subplots.AxesSubplot at 0x1131ea080>"
      ]
     },
     "execution_count": 19,
     "metadata": {},
     "output_type": "execute_result"
    },
    {
     "data": {
      "image/png": "[encoded data removed]",
      "text/plain": [
       "<matplotlib.figure.Figure at 0x1131eaac8>"
      ]
     },
     "metadata": {},
     "output_type": "display_data"
    }
   ],
   "source": [
    "test['ans'].hist()"
   ]
  },
  {
   "cell_type": "code",
   "execution_count": 20,
   "metadata": {},
   "outputs": [
    {
     "data": {
      "text/plain": [
       "count    8409.000000\n",
       "mean        5.696277\n",
       "std         3.457993\n",
       "min        -0.276554\n",
       "25%         2.523626\n",
       "50%         5.720650\n",
       "75%         8.889917\n",
       "max        12.215004\n",
       "Name: ans, dtype: float64"
      ]
     },
     "execution_count": 20,
     "metadata": {},
     "output_type": "execute_result"
    }
   ],
   "source": [
    "test['ans'].describe()"
   ]
  },
  {
   "cell_type": "code",
   "execution_count": 21,
   "metadata": {},
   "outputs": [
    {
     "data": {
      "text/plain": [
       "<matplotlib.axes._subplots.AxesSubplot at 0x107abb908>"
      ]
     },
     "execution_count": 21,
     "metadata": {},
     "output_type": "execute_result"
    },
    {
     "data": {
      "image/png": "[encoded data removed]",
      "text/plain": [
       "<matplotlib.figure.Figure at 0x107e19470>"
      ]
     },
     "metadata": {},
     "output_type": "display_data"
    }
   ],
   "source": [
    "train['y'].hist()"
   ]
  },
  {
   "cell_type": "code",
   "execution_count": 22,
   "metadata": {},
   "outputs": [
    {
     "data": {
      "text/plain": [
       "count    9000.000000\n",
       "mean        5.695245\n",
       "std         3.463744\n",
       "min        -0.125144\n",
       "25%         2.512812\n",
       "50%         5.769032\n",
       "75%         8.896220\n",
       "max        12.288756\n",
       "Name: y, dtype: float64"
      ]
     },
     "execution_count": 22,
     "metadata": {},
     "output_type": "execute_result"
    }
   ],
   "source": [
    "train['y'].describe()"
   ]
  },
  {
   "cell_type": "code",
   "execution_count": null,
   "metadata": {
    "collapsed": true
   },
   "outputs": [],
   "source": []
  }
 ],
 "metadata": {
  "kernelspec": {
   "display_name": "Python 3",
   "language": "python",
   "name": "python3"
  },
  "language_info": {
   "codemirror_mode": {
    "name": "ipython",
    "version": 3
   },
   "file_extension": ".py",
   "mimetype": "text/x-python",
   "name": "python",
   "nbconvert_exporter": "python",
   "pygments_lexer": "ipython3",
   "version": "3.6.1"
  }
 },
 "nbformat": 4,
 "nbformat_minor": 2
}
